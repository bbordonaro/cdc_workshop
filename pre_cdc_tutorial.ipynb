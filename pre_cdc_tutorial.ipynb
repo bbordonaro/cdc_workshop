{
 "cells": [
  {
   "cell_type": "code",
   "execution_count": 1,
   "metadata": {
    "collapsed": true,
    "pycharm": {
     "is_executing": false
    }
   },
   "outputs": [],
   "source": [
    "import pandas as pd\n",
    "\n",
    "cereal = pd.read_csv(\"cereal.csv\")"
   ]
  },
  {
   "cell_type": "code",
   "execution_count": 4,
   "outputs": [
    {
     "name": "stdout",
     "text": [
      "                        name          mfr         type calories protein  fat  \\\n0                     String  Categorical  Categorical      Int     Int  Int   \n1                  100% Bran            N            C       70       4    1   \n2          100% Natural Bran            Q            C      120       3    5   \n3                   All-Bran            K            C       70       4    1   \n4  All-Bran with Extra Fiber            K            C       50       4    0   \n\n  sodium  fiber  carbo sugars potass vitamins shelf weight   cups     rating  \n0    Int  Float  Float    Int    Int      Int   Int  Float  Float      Float  \n1    130     10      5      6    280       25     3      1   0.33  68.402973  \n2     15      2      8      8    135        0     3      1      1  33.983679  \n3    260      9      7      5    320       25     3      1   0.33  59.425505  \n4    140     14      8      0    330       25     3      1    0.5  93.704912  \n"
     ],
     "output_type": "stream"
    }
   ],
   "source": [
    "cereal.describe()"
   ],
   "metadata": {
    "collapsed": false,
    "pycharm": {
     "name": "#%%\n",
     "is_executing": false
    }
   }
  }
 ],
 "metadata": {
  "language_info": {
   "codemirror_mode": {
    "name": "ipython",
    "version": 2
   },
   "file_extension": ".py",
   "mimetype": "text/x-python",
   "name": "python",
   "nbconvert_exporter": "python",
   "pygments_lexer": "ipython2",
   "version": "2.7.6"
  },
  "kernelspec": {
   "name": "python3",
   "language": "python",
   "display_name": "Python 3"
  },
  "pycharm": {
   "stem_cell": {
    "cell_type": "raw",
    "source": [],
    "metadata": {
     "collapsed": false
    }
   }
  }
 },
 "nbformat": 4,
 "nbformat_minor": 0
}