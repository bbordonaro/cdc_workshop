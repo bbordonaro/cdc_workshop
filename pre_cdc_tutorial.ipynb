{
 "cells": [
  {
   "cell_type": "markdown",
   "source": [
    "# Pre Data Challenge Tutorial\n",
    "***\n",
    "\n",
    "#### A Beginner's Guide to Analyzing Data in Python\n",
    "\n",
    "###### This tutorial demonstrates the differences between series and data frames, how to clean data in data frames, and how to make basic visualizations in PyCharm with matplotlib.\n",
    "\n",
    "## Fill out this form when you come in!\n",
    "## https://forms.gle/H7Euza2TSyUNtAZd9\n",
    "***"
   ],
   "metadata": {
    "collapsed": false,
    "pycharm": {
     "name": "#%% md\n"
    }
   }
  },
  {
   "cell_type": "code",
   "execution_count": 1,
   "metadata": {
    "collapsed": true,
    "pycharm": {
     "is_executing": false
    }
   },
   "outputs": [],
   "source": [
    "import pandas as pd"
   ]
  },
  {
   "cell_type": "markdown",
   "source": [
    "#### Making a Series"
   ],
   "metadata": {
    "collapsed": false,
    "pycharm": {
     "name": "#%% md\n"
    }
   }
  },
  {
   "cell_type": "code",
   "execution_count": 2,
   "outputs": [
    {
     "data": {
      "text/plain": "0    0\n1    3\n2    4\n3    6\n4    7\nName: Bananas, dtype: int64"
     },
     "metadata": {},
     "output_type": "execute_result",
     "execution_count": 2
    }
   ],
   "source": [
    "bananas = pd.Series([0, 3, 4, 6, 7])\n",
    "bananas.name = \"Bananas\"\n",
    "\n",
    "bananas"
   ],
   "metadata": {
    "collapsed": false,
    "pycharm": {
     "name": "#%%\n",
     "is_executing": false
    }
   }
  },
  {
   "cell_type": "markdown",
   "source": [
    "#### Making a Data Frame"
   ],
   "metadata": {
    "collapsed": false
   }
  },
  {
   "cell_type": "code",
   "execution_count": 3,
   "outputs": [
    {
     "data": {
      "text/plain": "   apples  oranges\n0       3        2\n1       2        4\n2       0        1\n3       1        0",
      "text/html": "<div>\n<style scoped>\n    .dataframe tbody tr th:only-of-type {\n        vertical-align: middle;\n    }\n\n    .dataframe tbody tr th {\n        vertical-align: top;\n    }\n\n    .dataframe thead th {\n        text-align: right;\n    }\n</style>\n<table border=\"1\" class=\"dataframe\">\n  <thead>\n    <tr style=\"text-align: right;\">\n      <th></th>\n      <th>apples</th>\n      <th>oranges</th>\n    </tr>\n  </thead>\n  <tbody>\n    <tr>\n      <td>0</td>\n      <td>3</td>\n      <td>2</td>\n    </tr>\n    <tr>\n      <td>1</td>\n      <td>2</td>\n      <td>4</td>\n    </tr>\n    <tr>\n      <td>2</td>\n      <td>0</td>\n      <td>1</td>\n    </tr>\n    <tr>\n      <td>3</td>\n      <td>1</td>\n      <td>0</td>\n    </tr>\n  </tbody>\n</table>\n</div>"
     },
     "metadata": {},
     "output_type": "execute_result",
     "execution_count": 3
    }
   ],
   "source": [
    "df_data = {\n",
    "    \"apples\": [3, 2, 0, 1],\n",
    "    \"oranges\": [2, 4, 1, 0]\n",
    "}\n",
    "\n",
    "purchases = pd.DataFrame(df_data)\n",
    "\n",
    "purchases"
   ],
   "metadata": {
    "collapsed": false,
    "pycharm": {
     "name": "#%%\n",
     "is_executing": false
    }
   }
  },
  {
   "cell_type": "markdown",
   "source": [
    "#### Re-Indexing a Data Frame"
   ],
   "metadata": {
    "collapsed": false,
    "pycharm": {
     "name": "#%% md\n"
    }
   }
  },
  {
   "cell_type": "code",
   "execution_count": 4,
   "outputs": [
    {
     "data": {
      "text/plain": "        apples  oranges\nJune         3        2\nRobert       2        4\nLily         0        1\nDavid        1        0",
      "text/html": "<div>\n<style scoped>\n    .dataframe tbody tr th:only-of-type {\n        vertical-align: middle;\n    }\n\n    .dataframe tbody tr th {\n        vertical-align: top;\n    }\n\n    .dataframe thead th {\n        text-align: right;\n    }\n</style>\n<table border=\"1\" class=\"dataframe\">\n  <thead>\n    <tr style=\"text-align: right;\">\n      <th></th>\n      <th>apples</th>\n      <th>oranges</th>\n    </tr>\n  </thead>\n  <tbody>\n    <tr>\n      <td>June</td>\n      <td>3</td>\n      <td>2</td>\n    </tr>\n    <tr>\n      <td>Robert</td>\n      <td>2</td>\n      <td>4</td>\n    </tr>\n    <tr>\n      <td>Lily</td>\n      <td>0</td>\n      <td>1</td>\n    </tr>\n    <tr>\n      <td>David</td>\n      <td>1</td>\n      <td>0</td>\n    </tr>\n  </tbody>\n</table>\n</div>"
     },
     "metadata": {},
     "output_type": "execute_result",
     "execution_count": 4
    }
   ],
   "source": [
    "purchases = pd.DataFrame(df_data, index=['June', 'Robert', 'Lily', 'David'])\n",
    "\n",
    "purchases"
   ],
   "metadata": {
    "collapsed": false,
    "pycharm": {
     "name": "#%%\n",
     "is_executing": false
    }
   }
  },
  {
   "cell_type": "markdown",
   "source": [
    "#### Importing a Csv File into a Data Frame\n",
    "\n",
    "###### index_col=0 indicates that the first column of the dataset should be the indexing column instead of the non-meaningful default 1-length system"
   ],
   "metadata": {
    "collapsed": false
   }
  },
  {
   "cell_type": "code",
   "execution_count": 5,
   "outputs": [
    {
     "data": {
      "text/plain": "                        Name  Calories  Protein  Fat  Sodium  Fiber  Carbs  \\\n0                  100% Bran        70        4    1     130   10.0    5.0   \n1          100% Natural Bran       120        3    5      15    2.0    8.0   \n2                   All-Bran        70        4    1     260    9.0    7.0   \n3  All-Bran with Extra Fiber        50        4    0     140   14.0    8.0   \n4             Almond Delight       110        2    2     200    1.0   14.0   \n5    Apple Cinnamon Cheerios       110        2    2     180    1.5   10.5   \n6                Apple Jacks       110        2    0     125    1.0   11.0   \n7                    Basic 4       130        3    2     210    2.0   18.0   \n8                  Bran Chex        90        2    1     200    4.0   15.0   \n9                Bran Flakes        90        3    0     210    5.0   13.0   \n\n   Sugars  Potassium  Vitamins  Weight  Cups per Serving     Rating  \n0       6        280        25    1.00              0.33  68.402973  \n1       8        135         0    1.00              1.00  33.983679  \n2       5        320        25    1.00              0.33  59.425505  \n3       0        330        25    1.00              0.50  93.704912  \n4       8         -1        25    1.00              0.75  34.384843  \n5      10         70        25    1.00              0.75        NaN  \n6      14         30        25    1.00              1.00  33.174094  \n7       8        100        25    1.33              0.75  37.038562  \n8       6        125        25    1.00              0.67  49.120253  \n9       5        190        25    1.00              0.67  53.313813  ",
      "text/html": "<div>\n<style scoped>\n    .dataframe tbody tr th:only-of-type {\n        vertical-align: middle;\n    }\n\n    .dataframe tbody tr th {\n        vertical-align: top;\n    }\n\n    .dataframe thead th {\n        text-align: right;\n    }\n</style>\n<table border=\"1\" class=\"dataframe\">\n  <thead>\n    <tr style=\"text-align: right;\">\n      <th></th>\n      <th>Name</th>\n      <th>Calories</th>\n      <th>Protein</th>\n      <th>Fat</th>\n      <th>Sodium</th>\n      <th>Fiber</th>\n      <th>Carbs</th>\n      <th>Sugars</th>\n      <th>Potassium</th>\n      <th>Vitamins</th>\n      <th>Weight</th>\n      <th>Cups per Serving</th>\n      <th>Rating</th>\n    </tr>\n  </thead>\n  <tbody>\n    <tr>\n      <td>0</td>\n      <td>100% Bran</td>\n      <td>70</td>\n      <td>4</td>\n      <td>1</td>\n      <td>130</td>\n      <td>10.0</td>\n      <td>5.0</td>\n      <td>6</td>\n      <td>280</td>\n      <td>25</td>\n      <td>1.00</td>\n      <td>0.33</td>\n      <td>68.402973</td>\n    </tr>\n    <tr>\n      <td>1</td>\n      <td>100% Natural Bran</td>\n      <td>120</td>\n      <td>3</td>\n      <td>5</td>\n      <td>15</td>\n      <td>2.0</td>\n      <td>8.0</td>\n      <td>8</td>\n      <td>135</td>\n      <td>0</td>\n      <td>1.00</td>\n      <td>1.00</td>\n      <td>33.983679</td>\n    </tr>\n    <tr>\n      <td>2</td>\n      <td>All-Bran</td>\n      <td>70</td>\n      <td>4</td>\n      <td>1</td>\n      <td>260</td>\n      <td>9.0</td>\n      <td>7.0</td>\n      <td>5</td>\n      <td>320</td>\n      <td>25</td>\n      <td>1.00</td>\n      <td>0.33</td>\n      <td>59.425505</td>\n    </tr>\n    <tr>\n      <td>3</td>\n      <td>All-Bran with Extra Fiber</td>\n      <td>50</td>\n      <td>4</td>\n      <td>0</td>\n      <td>140</td>\n      <td>14.0</td>\n      <td>8.0</td>\n      <td>0</td>\n      <td>330</td>\n      <td>25</td>\n      <td>1.00</td>\n      <td>0.50</td>\n      <td>93.704912</td>\n    </tr>\n    <tr>\n      <td>4</td>\n      <td>Almond Delight</td>\n      <td>110</td>\n      <td>2</td>\n      <td>2</td>\n      <td>200</td>\n      <td>1.0</td>\n      <td>14.0</td>\n      <td>8</td>\n      <td>-1</td>\n      <td>25</td>\n      <td>1.00</td>\n      <td>0.75</td>\n      <td>34.384843</td>\n    </tr>\n    <tr>\n      <td>5</td>\n      <td>Apple Cinnamon Cheerios</td>\n      <td>110</td>\n      <td>2</td>\n      <td>2</td>\n      <td>180</td>\n      <td>1.5</td>\n      <td>10.5</td>\n      <td>10</td>\n      <td>70</td>\n      <td>25</td>\n      <td>1.00</td>\n      <td>0.75</td>\n      <td>NaN</td>\n    </tr>\n    <tr>\n      <td>6</td>\n      <td>Apple Jacks</td>\n      <td>110</td>\n      <td>2</td>\n      <td>0</td>\n      <td>125</td>\n      <td>1.0</td>\n      <td>11.0</td>\n      <td>14</td>\n      <td>30</td>\n      <td>25</td>\n      <td>1.00</td>\n      <td>1.00</td>\n      <td>33.174094</td>\n    </tr>\n    <tr>\n      <td>7</td>\n      <td>Basic 4</td>\n      <td>130</td>\n      <td>3</td>\n      <td>2</td>\n      <td>210</td>\n      <td>2.0</td>\n      <td>18.0</td>\n      <td>8</td>\n      <td>100</td>\n      <td>25</td>\n      <td>1.33</td>\n      <td>0.75</td>\n      <td>37.038562</td>\n    </tr>\n    <tr>\n      <td>8</td>\n      <td>Bran Chex</td>\n      <td>90</td>\n      <td>2</td>\n      <td>1</td>\n      <td>200</td>\n      <td>4.0</td>\n      <td>15.0</td>\n      <td>6</td>\n      <td>125</td>\n      <td>25</td>\n      <td>1.00</td>\n      <td>0.67</td>\n      <td>49.120253</td>\n    </tr>\n    <tr>\n      <td>9</td>\n      <td>Bran Flakes</td>\n      <td>90</td>\n      <td>3</td>\n      <td>0</td>\n      <td>210</td>\n      <td>5.0</td>\n      <td>13.0</td>\n      <td>5</td>\n      <td>190</td>\n      <td>25</td>\n      <td>1.00</td>\n      <td>0.67</td>\n      <td>53.313813</td>\n    </tr>\n  </tbody>\n</table>\n</div>"
     },
     "metadata": {},
     "output_type": "execute_result",
     "execution_count": 5
    }
   ],
   "source": [
    "cereal = pd.read_csv(\"cereal.csv\")\n",
    "cereal.head(10)"
   ],
   "metadata": {
    "collapsed": false,
    "pycharm": {
     "name": "#%%\n",
     "is_executing": false
    }
   }
  },
  {
   "cell_type": "code",
   "execution_count": 6,
   "outputs": [
    {
     "data": {
      "text/plain": "                   Name  Calories  Protein  Fat  Sodium  Fiber  Carbs  Sugars  \\\n72              Triples       110        2    1     250    0.0   21.0       3   \n73                 Trix       110        1    1     140    0.0   13.0      12   \n74           Wheat Chex       100        3    1     230    3.0   17.0       3   \n75             Wheaties       100        3    1     200    3.0   17.0       3   \n76  Wheaties Honey Gold       110        2    1     200    1.0   16.0       8   \n\n    Potassium  Vitamins  Weight  Cups per Serving     Rating  \n72         60        25     1.0              0.75  39.106174  \n73         25        25     1.0              1.00        NaN  \n74        115        25     1.0              0.67  49.787445  \n75        110        25     1.0              1.00  51.592193  \n76         60        25     1.0              0.75  36.187559  ",
      "text/html": "<div>\n<style scoped>\n    .dataframe tbody tr th:only-of-type {\n        vertical-align: middle;\n    }\n\n    .dataframe tbody tr th {\n        vertical-align: top;\n    }\n\n    .dataframe thead th {\n        text-align: right;\n    }\n</style>\n<table border=\"1\" class=\"dataframe\">\n  <thead>\n    <tr style=\"text-align: right;\">\n      <th></th>\n      <th>Name</th>\n      <th>Calories</th>\n      <th>Protein</th>\n      <th>Fat</th>\n      <th>Sodium</th>\n      <th>Fiber</th>\n      <th>Carbs</th>\n      <th>Sugars</th>\n      <th>Potassium</th>\n      <th>Vitamins</th>\n      <th>Weight</th>\n      <th>Cups per Serving</th>\n      <th>Rating</th>\n    </tr>\n  </thead>\n  <tbody>\n    <tr>\n      <td>72</td>\n      <td>Triples</td>\n      <td>110</td>\n      <td>2</td>\n      <td>1</td>\n      <td>250</td>\n      <td>0.0</td>\n      <td>21.0</td>\n      <td>3</td>\n      <td>60</td>\n      <td>25</td>\n      <td>1.0</td>\n      <td>0.75</td>\n      <td>39.106174</td>\n    </tr>\n    <tr>\n      <td>73</td>\n      <td>Trix</td>\n      <td>110</td>\n      <td>1</td>\n      <td>1</td>\n      <td>140</td>\n      <td>0.0</td>\n      <td>13.0</td>\n      <td>12</td>\n      <td>25</td>\n      <td>25</td>\n      <td>1.0</td>\n      <td>1.00</td>\n      <td>NaN</td>\n    </tr>\n    <tr>\n      <td>74</td>\n      <td>Wheat Chex</td>\n      <td>100</td>\n      <td>3</td>\n      <td>1</td>\n      <td>230</td>\n      <td>3.0</td>\n      <td>17.0</td>\n      <td>3</td>\n      <td>115</td>\n      <td>25</td>\n      <td>1.0</td>\n      <td>0.67</td>\n      <td>49.787445</td>\n    </tr>\n    <tr>\n      <td>75</td>\n      <td>Wheaties</td>\n      <td>100</td>\n      <td>3</td>\n      <td>1</td>\n      <td>200</td>\n      <td>3.0</td>\n      <td>17.0</td>\n      <td>3</td>\n      <td>110</td>\n      <td>25</td>\n      <td>1.0</td>\n      <td>1.00</td>\n      <td>51.592193</td>\n    </tr>\n    <tr>\n      <td>76</td>\n      <td>Wheaties Honey Gold</td>\n      <td>110</td>\n      <td>2</td>\n      <td>1</td>\n      <td>200</td>\n      <td>1.0</td>\n      <td>16.0</td>\n      <td>8</td>\n      <td>60</td>\n      <td>25</td>\n      <td>1.0</td>\n      <td>0.75</td>\n      <td>36.187559</td>\n    </tr>\n  </tbody>\n</table>\n</div>"
     },
     "metadata": {},
     "output_type": "execute_result",
     "execution_count": 6
    }
   ],
   "source": [
    "cereal.tail(5)"
   ],
   "metadata": {
    "collapsed": false,
    "pycharm": {
     "name": "#%% \n",
     "is_executing": false
    }
   }
  },
  {
   "cell_type": "markdown",
   "source": [
    "#### Info, Describe, and Shape"
   ],
   "metadata": {
    "collapsed": false,
    "pycharm": {
     "name": "#%% md\n"
    }
   }
  },
  {
   "cell_type": "code",
   "execution_count": 7,
   "outputs": [
    {
     "name": "stdout",
     "text": [
      "<class 'pandas.core.frame.DataFrame'>\nRangeIndex: 77 entries, 0 to 76\nData columns (total 13 columns):\nName                77 non-null object\nCalories            77 non-null int64\nProtein             77 non-null int64\nFat                 77 non-null int64\nSodium              77 non-null int64\nFiber               77 non-null float64\nCarbs               77 non-null float64\nSugars              77 non-null int64\nPotassium           77 non-null int64\nVitamins            77 non-null int64\nWeight              77 non-null float64\nCups per Serving    77 non-null float64\nRating              71 non-null float64\ndtypes: float64(5), int64(7), object(1)\nmemory usage: 7.9+ KB\n"
     ],
     "output_type": "stream"
    },
    {
     "data": {
      "text/plain": "         Calories    Protein        Fat      Sodium      Fiber      Carbs  \\\ncount   77.000000  77.000000  77.000000   77.000000  77.000000  77.000000   \nmean   106.883117   2.545455   1.012987  159.675325   2.151948  14.597403   \nstd     19.484119   1.094790   1.006473   83.832295   2.383364   4.278956   \nmin     50.000000   1.000000   0.000000    0.000000   0.000000  -1.000000   \n25%    100.000000   2.000000   0.000000  130.000000   1.000000  12.000000   \n50%    110.000000   3.000000   1.000000  180.000000   2.000000  14.000000   \n75%    110.000000   3.000000   2.000000  210.000000   3.000000  17.000000   \nmax    160.000000   6.000000   5.000000  320.000000  14.000000  23.000000   \n\n          Sugars   Potassium    Vitamins     Weight  Cups per Serving  \\\ncount  77.000000   77.000000   77.000000  77.000000         77.000000   \nmean    6.922078   96.077922   28.246753   1.029610          0.821039   \nstd     4.444885   71.286813   22.342523   0.150477          0.232716   \nmin    -1.000000   -1.000000    0.000000   0.500000          0.250000   \n25%     3.000000   40.000000   25.000000   1.000000          0.670000   \n50%     7.000000   90.000000   25.000000   1.000000          0.750000   \n75%    11.000000  120.000000   25.000000   1.000000          1.000000   \nmax    15.000000  330.000000  100.000000   1.500000          1.500000   \n\n          Rating  \ncount  71.000000  \nmean   43.124629  \nstd    14.340450  \nmin    18.042851  \n25%    33.578886  \n50%    40.560159  \n75%    51.210293  \nmax    93.704912  ",
      "text/html": "<div>\n<style scoped>\n    .dataframe tbody tr th:only-of-type {\n        vertical-align: middle;\n    }\n\n    .dataframe tbody tr th {\n        vertical-align: top;\n    }\n\n    .dataframe thead th {\n        text-align: right;\n    }\n</style>\n<table border=\"1\" class=\"dataframe\">\n  <thead>\n    <tr style=\"text-align: right;\">\n      <th></th>\n      <th>Calories</th>\n      <th>Protein</th>\n      <th>Fat</th>\n      <th>Sodium</th>\n      <th>Fiber</th>\n      <th>Carbs</th>\n      <th>Sugars</th>\n      <th>Potassium</th>\n      <th>Vitamins</th>\n      <th>Weight</th>\n      <th>Cups per Serving</th>\n      <th>Rating</th>\n    </tr>\n  </thead>\n  <tbody>\n    <tr>\n      <td>count</td>\n      <td>77.000000</td>\n      <td>77.000000</td>\n      <td>77.000000</td>\n      <td>77.000000</td>\n      <td>77.000000</td>\n      <td>77.000000</td>\n      <td>77.000000</td>\n      <td>77.000000</td>\n      <td>77.000000</td>\n      <td>77.000000</td>\n      <td>77.000000</td>\n      <td>71.000000</td>\n    </tr>\n    <tr>\n      <td>mean</td>\n      <td>106.883117</td>\n      <td>2.545455</td>\n      <td>1.012987</td>\n      <td>159.675325</td>\n      <td>2.151948</td>\n      <td>14.597403</td>\n      <td>6.922078</td>\n      <td>96.077922</td>\n      <td>28.246753</td>\n      <td>1.029610</td>\n      <td>0.821039</td>\n      <td>43.124629</td>\n    </tr>\n    <tr>\n      <td>std</td>\n      <td>19.484119</td>\n      <td>1.094790</td>\n      <td>1.006473</td>\n      <td>83.832295</td>\n      <td>2.383364</td>\n      <td>4.278956</td>\n      <td>4.444885</td>\n      <td>71.286813</td>\n      <td>22.342523</td>\n      <td>0.150477</td>\n      <td>0.232716</td>\n      <td>14.340450</td>\n    </tr>\n    <tr>\n      <td>min</td>\n      <td>50.000000</td>\n      <td>1.000000</td>\n      <td>0.000000</td>\n      <td>0.000000</td>\n      <td>0.000000</td>\n      <td>-1.000000</td>\n      <td>-1.000000</td>\n      <td>-1.000000</td>\n      <td>0.000000</td>\n      <td>0.500000</td>\n      <td>0.250000</td>\n      <td>18.042851</td>\n    </tr>\n    <tr>\n      <td>25%</td>\n      <td>100.000000</td>\n      <td>2.000000</td>\n      <td>0.000000</td>\n      <td>130.000000</td>\n      <td>1.000000</td>\n      <td>12.000000</td>\n      <td>3.000000</td>\n      <td>40.000000</td>\n      <td>25.000000</td>\n      <td>1.000000</td>\n      <td>0.670000</td>\n      <td>33.578886</td>\n    </tr>\n    <tr>\n      <td>50%</td>\n      <td>110.000000</td>\n      <td>3.000000</td>\n      <td>1.000000</td>\n      <td>180.000000</td>\n      <td>2.000000</td>\n      <td>14.000000</td>\n      <td>7.000000</td>\n      <td>90.000000</td>\n      <td>25.000000</td>\n      <td>1.000000</td>\n      <td>0.750000</td>\n      <td>40.560159</td>\n    </tr>\n    <tr>\n      <td>75%</td>\n      <td>110.000000</td>\n      <td>3.000000</td>\n      <td>2.000000</td>\n      <td>210.000000</td>\n      <td>3.000000</td>\n      <td>17.000000</td>\n      <td>11.000000</td>\n      <td>120.000000</td>\n      <td>25.000000</td>\n      <td>1.000000</td>\n      <td>1.000000</td>\n      <td>51.210293</td>\n    </tr>\n    <tr>\n      <td>max</td>\n      <td>160.000000</td>\n      <td>6.000000</td>\n      <td>5.000000</td>\n      <td>320.000000</td>\n      <td>14.000000</td>\n      <td>23.000000</td>\n      <td>15.000000</td>\n      <td>330.000000</td>\n      <td>100.000000</td>\n      <td>1.500000</td>\n      <td>1.500000</td>\n      <td>93.704912</td>\n    </tr>\n  </tbody>\n</table>\n</div>"
     },
     "metadata": {},
     "output_type": "execute_result",
     "execution_count": 7
    }
   ],
   "source": [
    "cereal.info()\n",
    "\n",
    "cereal.describe()"
   ],
   "metadata": {
    "collapsed": false,
    "pycharm": {
     "name": "#%% \n",
     "is_executing": false
    }
   }
  },
  {
   "cell_type": "code",
   "execution_count": 8,
   "outputs": [
    {
     "data": {
      "text/plain": "(77, 13)"
     },
     "metadata": {},
     "output_type": "execute_result",
     "execution_count": 8
    }
   ],
   "source": [
    "cereal.shape"
   ],
   "metadata": {
    "collapsed": false,
    "pycharm": {
     "name": "#%%\n",
     "is_executing": false
    }
   }
  },
  {
   "cell_type": "code",
   "execution_count": 9,
   "outputs": [
    {
     "data": {
      "text/plain": "Index(['Name', 'Calories', 'Protein', 'Fat', 'Sodium', 'Fiber', 'Carbs',\n       'Sugars', 'Potassium', 'Vitamins', 'Weight', 'Cups per Serving',\n       'Rating'],\n      dtype='object')"
     },
     "metadata": {},
     "output_type": "execute_result",
     "execution_count": 9
    }
   ],
   "source": [
    "cereal.columns"
   ],
   "metadata": {
    "collapsed": false,
    "pycharm": {
     "name": "#%%\n",
     "is_executing": false
    }
   }
  },
  {
   "cell_type": "code",
   "execution_count": 10,
   "outputs": [
    {
     "data": {
      "text/plain": "Index(['Name', 'Cals', 'Protein', 'Fat', 'Sodium', 'Fiber', 'Carbs', 'Sugars',\n       'K', 'Vitamins', 'Weight', 'Cups', 'Rating'],\n      dtype='object')"
     },
     "metadata": {},
     "output_type": "execute_result",
     "execution_count": 10
    }
   ],
   "source": [
    "# case sensitive, so printing columns before is helpful to see what you need to change\n",
    "cereal.rename(columns={\n",
    "        'Calories': 'Cals', \n",
    "        'Cups per Serving': 'Cups',\n",
    "        'Potassium': 'K'\n",
    "    }, inplace=True)\n",
    "\n",
    "\n",
    "cereal.columns\n"
   ],
   "metadata": {
    "collapsed": false,
    "pycharm": {
     "name": "#%% \n",
     "is_executing": false
    }
   }
  },
  {
   "cell_type": "markdown",
   "source": [
    "#### Editing Multiple Columns at Once"
   ],
   "metadata": {
    "collapsed": false,
    "pycharm": {
     "name": "#%% md\n"
    }
   }
  },
  {
   "cell_type": "code",
   "execution_count": 11,
   "outputs": [
    {
     "data": {
      "text/plain": "Index(['NAME', 'CALS', 'PROTEIN', 'FAT', 'SODIUM', 'FIBER', 'CARBS', 'SUGARS',\n       'K', 'VITAMINS', 'WEIGHT', 'CUPS', 'RATING'],\n      dtype='object')"
     },
     "metadata": {},
     "output_type": "execute_result",
     "execution_count": 11
    }
   ],
   "source": [
    "cereal.columns = [col.upper() for col in cereal]\n",
    "\n",
    "cereal.columns"
   ],
   "metadata": {
    "collapsed": false,
    "pycharm": {
     "name": "#%%\n",
     "is_executing": false
    }
   }
  },
  {
   "cell_type": "markdown",
   "source": [
    "#### Append() and Handling Duplicates"
   ],
   "metadata": {
    "collapsed": false
   }
  },
  {
   "cell_type": "code",
   "execution_count": 12,
   "outputs": [
    {
     "data": {
      "text/plain": "(154, 13)"
     },
     "metadata": {},
     "output_type": "execute_result",
     "execution_count": 12
    }
   ],
   "source": [
    "temp_df = cereal.append(cereal)\n",
    "\n",
    "temp_df.shape"
   ],
   "metadata": {
    "collapsed": false,
    "pycharm": {
     "name": "#%%\n",
     "is_executing": false
    }
   }
  },
  {
   "cell_type": "code",
   "execution_count": 13,
   "outputs": [
    {
     "data": {
      "text/plain": "(77, 13)"
     },
     "metadata": {},
     "output_type": "execute_result",
     "execution_count": 13
    }
   ],
   "source": [
    "temp2_df = temp_df.drop_duplicates()\n",
    "\n",
    "temp2_df.shape"
   ],
   "metadata": {
    "collapsed": false,
    "pycharm": {
     "name": "#%% \n",
     "is_executing": false
    }
   }
  },
  {
   "cell_type": "markdown",
   "source": [
    "#### Dealing with Null Values\n",
    "\n",
    "##### You have two options: \n",
    "1. delete rows or columns with null entries\n",
    "2. replace nulls with non-null values (imputation)  \n",
    "\n",
    "##### First you want to check for nulls:"
   ],
   "metadata": {
    "collapsed": false,
    "pycharm": {
     "name": "#%% md\n"
    }
   }
  },
  {
   "cell_type": "code",
   "execution_count": 14,
   "outputs": [
    {
     "data": {
      "text/plain": "NAME        0\nCALS        0\nPROTEIN     0\nFAT         0\nSODIUM      0\nFIBER       0\nCARBS       0\nSUGARS      0\nK           0\nVITAMINS    0\nWEIGHT      0\nCUPS        0\nRATING      6\ndtype: int64"
     },
     "metadata": {},
     "output_type": "execute_result",
     "execution_count": 14
    }
   ],
   "source": [
    "cereal.isnull().sum()"
   ],
   "metadata": {
    "collapsed": false,
    "pycharm": {
     "name": "#%% \n",
     "is_executing": false
    }
   }
  },
  {
   "cell_type": "markdown",
   "source": [
    "##### There are 6 missing values in the RATING column!\n",
    "\n",
    "###### Removing null data is only suggested if a small portion of the data is null. Since there are only 77 rows, we probably want to keep that data.\n",
    "###### However, to remove the rows with nulls, use this command:"
   ],
   "metadata": {
    "collapsed": false,
    "pycharm": {
     "name": "#%% md\n"
    }
   }
  },
  {
   "cell_type": "code",
   "execution_count": 15,
   "outputs": [
    {
     "data": {
      "text/plain": "NAME        0\nCALS        0\nPROTEIN     0\nFAT         0\nSODIUM      0\nFIBER       0\nCARBS       0\nSUGARS      0\nK           0\nVITAMINS    0\nWEIGHT      0\nCUPS        0\nRATING      0\ndtype: int64"
     },
     "metadata": {},
     "output_type": "execute_result",
     "execution_count": 15
    }
   ],
   "source": [
    "cereal_remove_rows = cereal.dropna()\n",
    "    \n",
    "cereal_remove_rows.isnull().sum()\n"
   ],
   "metadata": {
    "collapsed": false,
    "pycharm": {
     "name": "#%%\n",
     "is_executing": false
    }
   }
  },
  {
   "cell_type": "markdown",
   "source": [
    "###### To remove the columns with nulls, use this command:"
   ],
   "metadata": {
    "collapsed": false,
    "pycharm": {
     "name": "#%% md\n"
    }
   }
  },
  {
   "cell_type": "code",
   "execution_count": 16,
   "outputs": [
    {
     "data": {
      "text/plain": "NAME        0\nCALS        0\nPROTEIN     0\nFAT         0\nSODIUM      0\nFIBER       0\nCARBS       0\nSUGARS      0\nK           0\nVITAMINS    0\nWEIGHT      0\nCUPS        0\ndtype: int64"
     },
     "metadata": {},
     "output_type": "execute_result",
     "execution_count": 16
    }
   ],
   "source": [
    "cereal_remove_cols = cereal.dropna(axis=1)\n",
    "\n",
    "cereal_remove_cols.isnull().sum()"
   ],
   "metadata": {
    "collapsed": false,
    "pycharm": {
     "name": "#%%\n",
     "is_executing": false
    }
   }
  },
  {
   "cell_type": "markdown",
   "source": [
    "##### We can impute nulls with another value, usually the mean or the median of that column.\n",
    "###### First, we need to get the median or mean of the column with the null value(s)\n",
    "###### This begins with grabbing the column as a Series"
   ],
   "metadata": {
    "collapsed": false,
    "pycharm": {
     "name": "#%% md\n"
    }
   }
  },
  {
   "cell_type": "code",
   "execution_count": 17,
   "outputs": [
    {
     "data": {
      "text/plain": "0    68.402973\n1    33.983679\n2    59.425505\n3    93.704912\n4    34.384843\nName: RATING, dtype: float64"
     },
     "metadata": {},
     "output_type": "execute_result",
     "execution_count": 17
    }
   ],
   "source": [
    "ratings = cereal['RATING']\n",
    "ratings.head()"
   ],
   "metadata": {
    "collapsed": false,
    "pycharm": {
     "name": "#%%\n",
     "is_executing": false
    }
   }
  },
  {
   "cell_type": "code",
   "execution_count": 18,
   "outputs": [
    {
     "data": {
      "text/plain": "43.124629"
     },
     "metadata": {},
     "output_type": "execute_result",
     "execution_count": 18
    }
   ],
   "source": [
    "ratings_mean = ratings.mean()\n",
    "ratings_mean"
   ],
   "metadata": {
    "collapsed": false,
    "pycharm": {
     "name": "#%% \n",
     "is_executing": false
    }
   }
  },
  {
   "cell_type": "markdown",
   "source": [
    "##### We can see the nulls in the cereal column below for reference"
   ],
   "metadata": {
    "collapsed": false,
    "pycharm": {
     "name": "#%% md\n"
    }
   }
  },
  {
   "cell_type": "code",
   "execution_count": 19,
   "outputs": [
    {
     "data": {
      "text/plain": "NAME        0\nCALS        0\nPROTEIN     0\nFAT         0\nSODIUM      0\nFIBER       0\nCARBS       0\nSUGARS      0\nK           0\nVITAMINS    0\nWEIGHT      0\nCUPS        0\nRATING      6\ndtype: int64"
     },
     "metadata": {},
     "output_type": "execute_result",
     "execution_count": 19
    }
   ],
   "source": [
    "cereal.isnull().sum()"
   ],
   "metadata": {
    "collapsed": false,
    "pycharm": {
     "name": "#%%\n",
     "is_executing": false
    }
   }
  },
  {
   "cell_type": "markdown",
   "source": [
    "###### By using inplace=True, the fill occurs in the original cereal data frame"
   ],
   "metadata": {
    "collapsed": false,
    "pycharm": {
     "name": "#%% md\n"
    }
   }
  },
  {
   "cell_type": "code",
   "execution_count": 20,
   "outputs": [
    {
     "data": {
      "text/plain": "NAME        0\nCALS        0\nPROTEIN     0\nFAT         0\nSODIUM      0\nFIBER       0\nCARBS       0\nSUGARS      0\nK           0\nVITAMINS    0\nWEIGHT      0\nCUPS        0\nRATING      0\ndtype: int64"
     },
     "metadata": {},
     "output_type": "execute_result",
     "execution_count": 20
    }
   ],
   "source": [
    "ratings.fillna(ratings_mean, inplace=True)\n",
    "\n",
    "cereal.isnull().sum()"
   ],
   "metadata": {
    "collapsed": false,
    "pycharm": {
     "name": "#%%\n",
     "is_executing": false
    }
   }
  },
  {
   "cell_type": "markdown",
   "source": [
    "#### Understanding Your Variables\n",
    "##### This is an important step before finding insights and creating visualizations"
   ],
   "metadata": {
    "collapsed": false,
    "pycharm": {
     "name": "#%% md\n"
    }
   }
  },
  {
   "cell_type": "code",
   "execution_count": 21,
   "outputs": [
    {
     "data": {
      "text/plain": "count               77\nunique              77\ntop       Lucky Charms\nfreq                 1\nName: NAME, dtype: object"
     },
     "metadata": {},
     "output_type": "execute_result",
     "execution_count": 21
    }
   ],
   "source": [
    "names = cereal['NAME']\n",
    "names.describe()"
   ],
   "metadata": {
    "collapsed": false,
    "pycharm": {
     "name": "#%%\n",
     "is_executing": false
    }
   }
  },
  {
   "cell_type": "code",
   "execution_count": 22,
   "outputs": [
    {
     "data": {
      "text/plain": "Lucky Charms              1\nCap'n'Crunch              1\nQuaker Oatmeal            1\nCrispy Wheat & Raisins    1\nFruitful Bran             1\n                         ..\nQuaker Oat Squares        1\nOatmeal Raisin Crisp      1\nShredded Wheat            1\nRaisin Squares            1\nProduct 19                1\nName: NAME, Length: 77, dtype: int64"
     },
     "metadata": {},
     "output_type": "execute_result",
     "execution_count": 22
    }
   ],
   "source": [
    "names.value_counts()"
   ],
   "metadata": {
    "collapsed": false,
    "pycharm": {
     "name": "#%%\n",
     "is_executing": false
    }
   }
  },
  {
   "cell_type": "markdown",
   "source": [
    "#### Finding Correlations in Your Data\n",
    "\n",
    "##### We can recall from statistics that correlations range [-1, 1]\n",
    "\n",
    "##### -1 means strong negative, 0 means no correlation, and 1 means strong positive\n",
    "\n",
    "###### Looking at the table below, we can find the intersection of K and Fiber. There is a 0.9 correlation there! Interesting."
   ],
   "metadata": {
    "collapsed": false,
    "pycharm": {
     "name": "#%% md\n"
    }
   }
  },
  {
   "cell_type": "code",
   "execution_count": 23,
   "outputs": [
    {
     "data": {
      "text/plain": "              CALS   PROTEIN       FAT    SODIUM     FIBER     CARBS  \\\nCALS      1.000000  0.019066  0.498610  0.300649 -0.293413  0.250681   \nPROTEIN   0.019066  1.000000  0.208431 -0.054674  0.500330 -0.130864   \nFAT       0.498610  0.208431  1.000000 -0.005407  0.016719 -0.318043   \nSODIUM    0.300649 -0.054674 -0.005407  1.000000 -0.070675  0.355983   \nFIBER    -0.293413  0.500330  0.016719 -0.070675  1.000000 -0.356083   \nCARBS     0.250681 -0.130864 -0.318043  0.355983 -0.356083  1.000000   \nSUGARS    0.562340 -0.329142  0.270819  0.101451 -0.141205 -0.331665   \nK        -0.066609  0.549407  0.193279 -0.032603  0.903374 -0.349685   \nVITAMINS  0.265356  0.007335 -0.031156  0.361477 -0.032243  0.258148   \nWEIGHT    0.696091  0.216158  0.214625  0.308576  0.247226  0.135136   \nCUPS      0.087200 -0.244469 -0.175892  0.119665 -0.513061  0.363932   \nRATING   -0.691560  0.428584 -0.381118 -0.424654  0.586124  0.025204   \n\n            SUGARS         K  VITAMINS    WEIGHT      CUPS    RATING  \nCALS      0.562340 -0.066609  0.265356  0.696091  0.087200 -0.691560  \nPROTEIN  -0.329142  0.549407  0.007335  0.216158 -0.244469  0.428584  \nFAT       0.270819  0.193279 -0.031156  0.214625 -0.175892 -0.381118  \nSODIUM    0.101451 -0.032603  0.361477  0.308576  0.119665 -0.424654  \nFIBER    -0.141205  0.903374 -0.032243  0.247226 -0.513061  0.586124  \nCARBS    -0.331665 -0.349685  0.258148  0.135136  0.363932  0.025204  \nSUGARS    1.000000  0.021696  0.125137  0.450648 -0.032358 -0.730492  \nK         0.021696  1.000000  0.020699  0.416303 -0.495195  0.384304  \nVITAMINS  0.125137  0.020699  1.000000  0.320324  0.128405 -0.250426  \nWEIGHT    0.450648  0.416303  0.320324  1.000000 -0.199583 -0.310936  \nCUPS     -0.032358 -0.495195  0.128405 -0.199583  1.000000 -0.209528  \nRATING   -0.730492  0.384304 -0.250426 -0.310936 -0.209528  1.000000  ",
      "text/html": "<div>\n<style scoped>\n    .dataframe tbody tr th:only-of-type {\n        vertical-align: middle;\n    }\n\n    .dataframe tbody tr th {\n        vertical-align: top;\n    }\n\n    .dataframe thead th {\n        text-align: right;\n    }\n</style>\n<table border=\"1\" class=\"dataframe\">\n  <thead>\n    <tr style=\"text-align: right;\">\n      <th></th>\n      <th>CALS</th>\n      <th>PROTEIN</th>\n      <th>FAT</th>\n      <th>SODIUM</th>\n      <th>FIBER</th>\n      <th>CARBS</th>\n      <th>SUGARS</th>\n      <th>K</th>\n      <th>VITAMINS</th>\n      <th>WEIGHT</th>\n      <th>CUPS</th>\n      <th>RATING</th>\n    </tr>\n  </thead>\n  <tbody>\n    <tr>\n      <td>CALS</td>\n      <td>1.000000</td>\n      <td>0.019066</td>\n      <td>0.498610</td>\n      <td>0.300649</td>\n      <td>-0.293413</td>\n      <td>0.250681</td>\n      <td>0.562340</td>\n      <td>-0.066609</td>\n      <td>0.265356</td>\n      <td>0.696091</td>\n      <td>0.087200</td>\n      <td>-0.691560</td>\n    </tr>\n    <tr>\n      <td>PROTEIN</td>\n      <td>0.019066</td>\n      <td>1.000000</td>\n      <td>0.208431</td>\n      <td>-0.054674</td>\n      <td>0.500330</td>\n      <td>-0.130864</td>\n      <td>-0.329142</td>\n      <td>0.549407</td>\n      <td>0.007335</td>\n      <td>0.216158</td>\n      <td>-0.244469</td>\n      <td>0.428584</td>\n    </tr>\n    <tr>\n      <td>FAT</td>\n      <td>0.498610</td>\n      <td>0.208431</td>\n      <td>1.000000</td>\n      <td>-0.005407</td>\n      <td>0.016719</td>\n      <td>-0.318043</td>\n      <td>0.270819</td>\n      <td>0.193279</td>\n      <td>-0.031156</td>\n      <td>0.214625</td>\n      <td>-0.175892</td>\n      <td>-0.381118</td>\n    </tr>\n    <tr>\n      <td>SODIUM</td>\n      <td>0.300649</td>\n      <td>-0.054674</td>\n      <td>-0.005407</td>\n      <td>1.000000</td>\n      <td>-0.070675</td>\n      <td>0.355983</td>\n      <td>0.101451</td>\n      <td>-0.032603</td>\n      <td>0.361477</td>\n      <td>0.308576</td>\n      <td>0.119665</td>\n      <td>-0.424654</td>\n    </tr>\n    <tr>\n      <td>FIBER</td>\n      <td>-0.293413</td>\n      <td>0.500330</td>\n      <td>0.016719</td>\n      <td>-0.070675</td>\n      <td>1.000000</td>\n      <td>-0.356083</td>\n      <td>-0.141205</td>\n      <td>0.903374</td>\n      <td>-0.032243</td>\n      <td>0.247226</td>\n      <td>-0.513061</td>\n      <td>0.586124</td>\n    </tr>\n    <tr>\n      <td>CARBS</td>\n      <td>0.250681</td>\n      <td>-0.130864</td>\n      <td>-0.318043</td>\n      <td>0.355983</td>\n      <td>-0.356083</td>\n      <td>1.000000</td>\n      <td>-0.331665</td>\n      <td>-0.349685</td>\n      <td>0.258148</td>\n      <td>0.135136</td>\n      <td>0.363932</td>\n      <td>0.025204</td>\n    </tr>\n    <tr>\n      <td>SUGARS</td>\n      <td>0.562340</td>\n      <td>-0.329142</td>\n      <td>0.270819</td>\n      <td>0.101451</td>\n      <td>-0.141205</td>\n      <td>-0.331665</td>\n      <td>1.000000</td>\n      <td>0.021696</td>\n      <td>0.125137</td>\n      <td>0.450648</td>\n      <td>-0.032358</td>\n      <td>-0.730492</td>\n    </tr>\n    <tr>\n      <td>K</td>\n      <td>-0.066609</td>\n      <td>0.549407</td>\n      <td>0.193279</td>\n      <td>-0.032603</td>\n      <td>0.903374</td>\n      <td>-0.349685</td>\n      <td>0.021696</td>\n      <td>1.000000</td>\n      <td>0.020699</td>\n      <td>0.416303</td>\n      <td>-0.495195</td>\n      <td>0.384304</td>\n    </tr>\n    <tr>\n      <td>VITAMINS</td>\n      <td>0.265356</td>\n      <td>0.007335</td>\n      <td>-0.031156</td>\n      <td>0.361477</td>\n      <td>-0.032243</td>\n      <td>0.258148</td>\n      <td>0.125137</td>\n      <td>0.020699</td>\n      <td>1.000000</td>\n      <td>0.320324</td>\n      <td>0.128405</td>\n      <td>-0.250426</td>\n    </tr>\n    <tr>\n      <td>WEIGHT</td>\n      <td>0.696091</td>\n      <td>0.216158</td>\n      <td>0.214625</td>\n      <td>0.308576</td>\n      <td>0.247226</td>\n      <td>0.135136</td>\n      <td>0.450648</td>\n      <td>0.416303</td>\n      <td>0.320324</td>\n      <td>1.000000</td>\n      <td>-0.199583</td>\n      <td>-0.310936</td>\n    </tr>\n    <tr>\n      <td>CUPS</td>\n      <td>0.087200</td>\n      <td>-0.244469</td>\n      <td>-0.175892</td>\n      <td>0.119665</td>\n      <td>-0.513061</td>\n      <td>0.363932</td>\n      <td>-0.032358</td>\n      <td>-0.495195</td>\n      <td>0.128405</td>\n      <td>-0.199583</td>\n      <td>1.000000</td>\n      <td>-0.209528</td>\n    </tr>\n    <tr>\n      <td>RATING</td>\n      <td>-0.691560</td>\n      <td>0.428584</td>\n      <td>-0.381118</td>\n      <td>-0.424654</td>\n      <td>0.586124</td>\n      <td>0.025204</td>\n      <td>-0.730492</td>\n      <td>0.384304</td>\n      <td>-0.250426</td>\n      <td>-0.310936</td>\n      <td>-0.209528</td>\n      <td>1.000000</td>\n    </tr>\n  </tbody>\n</table>\n</div>"
     },
     "metadata": {},
     "output_type": "execute_result",
     "execution_count": 23
    }
   ],
   "source": [
    "cereal.corr()"
   ],
   "metadata": {
    "collapsed": false,
    "pycharm": {
     "name": "#%%\n",
     "is_executing": false
    }
   }
  },
  {
   "cell_type": "markdown",
   "source": [
    "#### Selecting, Slicing, and Extracting\n",
    "\n",
    "###### Extracting a Column as a Series"
   ],
   "metadata": {
    "collapsed": false,
    "pycharm": {
     "name": "#%% md\n"
    }
   }
  },
  {
   "cell_type": "code",
   "execution_count": 24,
   "outputs": [
    {
     "data": {
      "text/plain": "pandas.core.series.Series"
     },
     "metadata": {},
     "output_type": "execute_result",
     "execution_count": 24
    }
   ],
   "source": [
    "cals = cereal['CALS']\n",
    "type(cals)"
   ],
   "metadata": {
    "collapsed": false,
    "pycharm": {
     "name": "#%% \n",
     "is_executing": false
    }
   }
  },
  {
   "cell_type": "markdown",
   "source": [
    "###### Extracting a Column as a Data Frame"
   ],
   "metadata": {
    "collapsed": false,
    "pycharm": {
     "name": "#%% md\n"
    }
   }
  },
  {
   "cell_type": "code",
   "execution_count": 25,
   "outputs": [
    {
     "data": {
      "text/plain": "pandas.core.frame.DataFrame"
     },
     "metadata": {},
     "output_type": "execute_result",
     "execution_count": 25
    }
   ],
   "source": [
    "cals_df = cereal[['CALS']]\n",
    "type(cals_df)"
   ],
   "metadata": {
    "collapsed": false,
    "pycharm": {
     "name": "#%% \n",
     "is_executing": false
    }
   }
  },
  {
   "cell_type": "markdown",
   "source": [
    "###### Creating a Subset of a Data Frame by Column"
   ],
   "metadata": {
    "collapsed": false,
    "pycharm": {
     "name": "#%% md\n"
    }
   }
  },
  {
   "cell_type": "code",
   "execution_count": 26,
   "outputs": [
    {
     "data": {
      "text/plain": "    CALS  PROTEIN  FAT  SODIUM  FIBER  CARBS  SUGARS    K  VITAMINS\n0     70        4    1     130   10.0    5.0       6  280        25\n1    120        3    5      15    2.0    8.0       8  135         0\n2     70        4    1     260    9.0    7.0       5  320        25\n3     50        4    0     140   14.0    8.0       0  330        25\n4    110        2    2     200    1.0   14.0       8   -1        25\n..   ...      ...  ...     ...    ...    ...     ...  ...       ...\n72   110        2    1     250    0.0   21.0       3   60        25\n73   110        1    1     140    0.0   13.0      12   25        25\n74   100        3    1     230    3.0   17.0       3  115        25\n75   100        3    1     200    3.0   17.0       3  110        25\n76   110        2    1     200    1.0   16.0       8   60        25\n\n[77 rows x 9 columns]",
      "text/html": "<div>\n<style scoped>\n    .dataframe tbody tr th:only-of-type {\n        vertical-align: middle;\n    }\n\n    .dataframe tbody tr th {\n        vertical-align: top;\n    }\n\n    .dataframe thead th {\n        text-align: right;\n    }\n</style>\n<table border=\"1\" class=\"dataframe\">\n  <thead>\n    <tr style=\"text-align: right;\">\n      <th></th>\n      <th>CALS</th>\n      <th>PROTEIN</th>\n      <th>FAT</th>\n      <th>SODIUM</th>\n      <th>FIBER</th>\n      <th>CARBS</th>\n      <th>SUGARS</th>\n      <th>K</th>\n      <th>VITAMINS</th>\n    </tr>\n  </thead>\n  <tbody>\n    <tr>\n      <td>0</td>\n      <td>70</td>\n      <td>4</td>\n      <td>1</td>\n      <td>130</td>\n      <td>10.0</td>\n      <td>5.0</td>\n      <td>6</td>\n      <td>280</td>\n      <td>25</td>\n    </tr>\n    <tr>\n      <td>1</td>\n      <td>120</td>\n      <td>3</td>\n      <td>5</td>\n      <td>15</td>\n      <td>2.0</td>\n      <td>8.0</td>\n      <td>8</td>\n      <td>135</td>\n      <td>0</td>\n    </tr>\n    <tr>\n      <td>2</td>\n      <td>70</td>\n      <td>4</td>\n      <td>1</td>\n      <td>260</td>\n      <td>9.0</td>\n      <td>7.0</td>\n      <td>5</td>\n      <td>320</td>\n      <td>25</td>\n    </tr>\n    <tr>\n      <td>3</td>\n      <td>50</td>\n      <td>4</td>\n      <td>0</td>\n      <td>140</td>\n      <td>14.0</td>\n      <td>8.0</td>\n      <td>0</td>\n      <td>330</td>\n      <td>25</td>\n    </tr>\n    <tr>\n      <td>4</td>\n      <td>110</td>\n      <td>2</td>\n      <td>2</td>\n      <td>200</td>\n      <td>1.0</td>\n      <td>14.0</td>\n      <td>8</td>\n      <td>-1</td>\n      <td>25</td>\n    </tr>\n    <tr>\n      <td>...</td>\n      <td>...</td>\n      <td>...</td>\n      <td>...</td>\n      <td>...</td>\n      <td>...</td>\n      <td>...</td>\n      <td>...</td>\n      <td>...</td>\n      <td>...</td>\n    </tr>\n    <tr>\n      <td>72</td>\n      <td>110</td>\n      <td>2</td>\n      <td>1</td>\n      <td>250</td>\n      <td>0.0</td>\n      <td>21.0</td>\n      <td>3</td>\n      <td>60</td>\n      <td>25</td>\n    </tr>\n    <tr>\n      <td>73</td>\n      <td>110</td>\n      <td>1</td>\n      <td>1</td>\n      <td>140</td>\n      <td>0.0</td>\n      <td>13.0</td>\n      <td>12</td>\n      <td>25</td>\n      <td>25</td>\n    </tr>\n    <tr>\n      <td>74</td>\n      <td>100</td>\n      <td>3</td>\n      <td>1</td>\n      <td>230</td>\n      <td>3.0</td>\n      <td>17.0</td>\n      <td>3</td>\n      <td>115</td>\n      <td>25</td>\n    </tr>\n    <tr>\n      <td>75</td>\n      <td>100</td>\n      <td>3</td>\n      <td>1</td>\n      <td>200</td>\n      <td>3.0</td>\n      <td>17.0</td>\n      <td>3</td>\n      <td>110</td>\n      <td>25</td>\n    </tr>\n    <tr>\n      <td>76</td>\n      <td>110</td>\n      <td>2</td>\n      <td>1</td>\n      <td>200</td>\n      <td>1.0</td>\n      <td>16.0</td>\n      <td>8</td>\n      <td>60</td>\n      <td>25</td>\n    </tr>\n  </tbody>\n</table>\n<p>77 rows × 9 columns</p>\n</div>"
     },
     "metadata": {},
     "output_type": "execute_result",
     "execution_count": 26
    }
   ],
   "source": [
    "nutrients = cereal[['CALS', 'PROTEIN', 'FAT', 'SODIUM', 'FIBER', 'CARBS', 'SUGARS', 'K', 'VITAMINS']]\n",
    "nutrients\n"
   ],
   "metadata": {
    "collapsed": false,
    "pycharm": {
     "name": "#%%\n",
     "is_executing": false
    }
   }
  },
  {
   "cell_type": "code",
   "execution_count": 27,
   "outputs": [
    {
     "data": {
      "text/plain": "Index(['CALS', 'PROTEIN', 'FAT', 'SODIUM', 'FIBER', 'CARBS', 'SUGARS', 'K',\n       'VITAMINS'],\n      dtype='object')"
     },
     "metadata": {},
     "output_type": "execute_result",
     "execution_count": 27
    }
   ],
   "source": [
    "nutrients2 = cereal.drop(['NAME', 'WEIGHT','RATING', 'CUPS'], axis=1)\n",
    "nutrients2.columns"
   ],
   "metadata": {
    "collapsed": false,
    "pycharm": {
     "name": "#%%\n",
     "is_executing": false
    }
   }
  },
  {
   "cell_type": "markdown",
   "source": [
    "#### Extracting Rows from a Data Frame\n",
    "##### .loc - locates by name  \n",
    "##### .iloc- locates by numerical index"
   ],
   "metadata": {
    "collapsed": false,
    "pycharm": {
     "name": "#%% md\n"
    }
   }
  },
  {
   "cell_type": "code",
   "execution_count": 28,
   "outputs": [
    {
     "data": {
      "text/plain": "NAME        100% Bran\nCALS               70\nPROTEIN             4\nFAT                 1\nSODIUM            130\nFIBER              10\nCARBS               5\nSUGARS              6\nK                 280\nVITAMINS           25\nWEIGHT              1\nCUPS             0.33\nRATING         68.403\nName: 0, dtype: object"
     },
     "metadata": {},
     "output_type": "execute_result",
     "execution_count": 28
    }
   ],
   "source": [
    "cereal.iloc[0]"
   ],
   "metadata": {
    "collapsed": false,
    "pycharm": {
     "name": "#%% \n",
     "is_executing": false
    }
   }
  },
  {
   "cell_type": "markdown",
   "source": [
    "##### To make use of .loc, we need to index cereal by Name"
   ],
   "metadata": {
    "collapsed": false,
    "pycharm": {
     "name": "#%% md\n"
    }
   }
  },
  {
   "cell_type": "code",
   "execution_count": 29,
   "outputs": [
    {
     "data": {
      "text/plain": "                           Calories  Protein  Fat  Sodium  Fiber  Carbs  \\\nName                                                                      \n100% Bran                        70        4    1     130   10.0    5.0   \n100% Natural Bran               120        3    5      15    2.0    8.0   \nAll-Bran                         70        4    1     260    9.0    7.0   \nAll-Bran with Extra Fiber        50        4    0     140   14.0    8.0   \nAlmond Delight                  110        2    2     200    1.0   14.0   \n...                             ...      ...  ...     ...    ...    ...   \nTriples                         110        2    1     250    0.0   21.0   \nTrix                            110        1    1     140    0.0   13.0   \nWheat Chex                      100        3    1     230    3.0   17.0   \nWheaties                        100        3    1     200    3.0   17.0   \nWheaties Honey Gold             110        2    1     200    1.0   16.0   \n\n                           Sugars  Potassium  Vitamins  Weight  \\\nName                                                             \n100% Bran                       6        280        25     1.0   \n100% Natural Bran               8        135         0     1.0   \nAll-Bran                        5        320        25     1.0   \nAll-Bran with Extra Fiber       0        330        25     1.0   \nAlmond Delight                  8         -1        25     1.0   \n...                           ...        ...       ...     ...   \nTriples                         3         60        25     1.0   \nTrix                           12         25        25     1.0   \nWheat Chex                      3        115        25     1.0   \nWheaties                        3        110        25     1.0   \nWheaties Honey Gold             8         60        25     1.0   \n\n                           Cups per Serving     Rating  \nName                                                    \n100% Bran                              0.33  68.402973  \n100% Natural Bran                      1.00  33.983679  \nAll-Bran                               0.33  59.425505  \nAll-Bran with Extra Fiber              0.50  93.704912  \nAlmond Delight                         0.75  34.384843  \n...                                     ...        ...  \nTriples                                0.75  39.106174  \nTrix                                   1.00        NaN  \nWheat Chex                             0.67  49.787445  \nWheaties                               1.00  51.592193  \nWheaties Honey Gold                    0.75  36.187559  \n\n[77 rows x 12 columns]",
      "text/html": "<div>\n<style scoped>\n    .dataframe tbody tr th:only-of-type {\n        vertical-align: middle;\n    }\n\n    .dataframe tbody tr th {\n        vertical-align: top;\n    }\n\n    .dataframe thead th {\n        text-align: right;\n    }\n</style>\n<table border=\"1\" class=\"dataframe\">\n  <thead>\n    <tr style=\"text-align: right;\">\n      <th></th>\n      <th>Calories</th>\n      <th>Protein</th>\n      <th>Fat</th>\n      <th>Sodium</th>\n      <th>Fiber</th>\n      <th>Carbs</th>\n      <th>Sugars</th>\n      <th>Potassium</th>\n      <th>Vitamins</th>\n      <th>Weight</th>\n      <th>Cups per Serving</th>\n      <th>Rating</th>\n    </tr>\n    <tr>\n      <th>Name</th>\n      <th></th>\n      <th></th>\n      <th></th>\n      <th></th>\n      <th></th>\n      <th></th>\n      <th></th>\n      <th></th>\n      <th></th>\n      <th></th>\n      <th></th>\n      <th></th>\n    </tr>\n  </thead>\n  <tbody>\n    <tr>\n      <td>100% Bran</td>\n      <td>70</td>\n      <td>4</td>\n      <td>1</td>\n      <td>130</td>\n      <td>10.0</td>\n      <td>5.0</td>\n      <td>6</td>\n      <td>280</td>\n      <td>25</td>\n      <td>1.0</td>\n      <td>0.33</td>\n      <td>68.402973</td>\n    </tr>\n    <tr>\n      <td>100% Natural Bran</td>\n      <td>120</td>\n      <td>3</td>\n      <td>5</td>\n      <td>15</td>\n      <td>2.0</td>\n      <td>8.0</td>\n      <td>8</td>\n      <td>135</td>\n      <td>0</td>\n      <td>1.0</td>\n      <td>1.00</td>\n      <td>33.983679</td>\n    </tr>\n    <tr>\n      <td>All-Bran</td>\n      <td>70</td>\n      <td>4</td>\n      <td>1</td>\n      <td>260</td>\n      <td>9.0</td>\n      <td>7.0</td>\n      <td>5</td>\n      <td>320</td>\n      <td>25</td>\n      <td>1.0</td>\n      <td>0.33</td>\n      <td>59.425505</td>\n    </tr>\n    <tr>\n      <td>All-Bran with Extra Fiber</td>\n      <td>50</td>\n      <td>4</td>\n      <td>0</td>\n      <td>140</td>\n      <td>14.0</td>\n      <td>8.0</td>\n      <td>0</td>\n      <td>330</td>\n      <td>25</td>\n      <td>1.0</td>\n      <td>0.50</td>\n      <td>93.704912</td>\n    </tr>\n    <tr>\n      <td>Almond Delight</td>\n      <td>110</td>\n      <td>2</td>\n      <td>2</td>\n      <td>200</td>\n      <td>1.0</td>\n      <td>14.0</td>\n      <td>8</td>\n      <td>-1</td>\n      <td>25</td>\n      <td>1.0</td>\n      <td>0.75</td>\n      <td>34.384843</td>\n    </tr>\n    <tr>\n      <td>...</td>\n      <td>...</td>\n      <td>...</td>\n      <td>...</td>\n      <td>...</td>\n      <td>...</td>\n      <td>...</td>\n      <td>...</td>\n      <td>...</td>\n      <td>...</td>\n      <td>...</td>\n      <td>...</td>\n      <td>...</td>\n    </tr>\n    <tr>\n      <td>Triples</td>\n      <td>110</td>\n      <td>2</td>\n      <td>1</td>\n      <td>250</td>\n      <td>0.0</td>\n      <td>21.0</td>\n      <td>3</td>\n      <td>60</td>\n      <td>25</td>\n      <td>1.0</td>\n      <td>0.75</td>\n      <td>39.106174</td>\n    </tr>\n    <tr>\n      <td>Trix</td>\n      <td>110</td>\n      <td>1</td>\n      <td>1</td>\n      <td>140</td>\n      <td>0.0</td>\n      <td>13.0</td>\n      <td>12</td>\n      <td>25</td>\n      <td>25</td>\n      <td>1.0</td>\n      <td>1.00</td>\n      <td>NaN</td>\n    </tr>\n    <tr>\n      <td>Wheat Chex</td>\n      <td>100</td>\n      <td>3</td>\n      <td>1</td>\n      <td>230</td>\n      <td>3.0</td>\n      <td>17.0</td>\n      <td>3</td>\n      <td>115</td>\n      <td>25</td>\n      <td>1.0</td>\n      <td>0.67</td>\n      <td>49.787445</td>\n    </tr>\n    <tr>\n      <td>Wheaties</td>\n      <td>100</td>\n      <td>3</td>\n      <td>1</td>\n      <td>200</td>\n      <td>3.0</td>\n      <td>17.0</td>\n      <td>3</td>\n      <td>110</td>\n      <td>25</td>\n      <td>1.0</td>\n      <td>1.00</td>\n      <td>51.592193</td>\n    </tr>\n    <tr>\n      <td>Wheaties Honey Gold</td>\n      <td>110</td>\n      <td>2</td>\n      <td>1</td>\n      <td>200</td>\n      <td>1.0</td>\n      <td>16.0</td>\n      <td>8</td>\n      <td>60</td>\n      <td>25</td>\n      <td>1.0</td>\n      <td>0.75</td>\n      <td>36.187559</td>\n    </tr>\n  </tbody>\n</table>\n<p>77 rows × 12 columns</p>\n</div>"
     },
     "metadata": {},
     "output_type": "execute_result",
     "execution_count": 29
    }
   ],
   "source": [
    "cereal_by_name = pd.read_csv(\"cereal.csv\", index_col=0)\n",
    "cereal_by_name"
   ],
   "metadata": {
    "collapsed": false,
    "pycharm": {
     "name": "#%% \n",
     "is_executing": false
    }
   }
  },
  {
   "cell_type": "code",
   "execution_count": 30,
   "outputs": [
    {
     "data": {
      "text/plain": "Calories            110.000000\nProtein               6.000000\nFat                   2.000000\nSodium              290.000000\nFiber                 2.000000\nCarbs                17.000000\nSugars                1.000000\nPotassium           105.000000\nVitamins             25.000000\nWeight                1.000000\nCups per Serving      1.250000\nRating               50.764999\nName: Cheerios, dtype: float64"
     },
     "metadata": {},
     "output_type": "execute_result",
     "execution_count": 30
    }
   ],
   "source": [
    "cereal_by_name.loc['Cheerios']"
   ],
   "metadata": {
    "collapsed": false,
    "pycharm": {
     "name": "#%%\n",
     "is_executing": false
    }
   }
  },
  {
   "cell_type": "markdown",
   "source": [
    "##### You can also grab a range of values with .iloc [start, end) and .loc [start, end]\n",
    "###### Notice how .iloc does not include 20 by .loc includes Count Chocula"
   ],
   "metadata": {
    "collapsed": false,
    "pycharm": {
     "name": "#%% md\n"
    }
   }
  },
  {
   "cell_type": "code",
   "execution_count": 31,
   "outputs": [
    {
     "data": {
      "text/plain": "                     NAME  CALS  PROTEIN  FAT  SODIUM  FIBER  CARBS  SUGARS  \\\n10           Cap'n'Crunch   120        1    2     220    0.0   12.0      12   \n11               Cheerios   110        6    2     290    2.0   17.0       1   \n12  Cinnamon Toast Crunch   120        1    3     210    0.0   13.0       9   \n13               Clusters   110        3    2     140    2.0   13.0       7   \n14            Cocoa Puffs   110        1    1     180    0.0   12.0      13   \n15              Corn Chex   110        2    0     280    0.0   22.0       3   \n16            Corn Flakes   100        2    0     290    1.0   21.0       2   \n17              Corn Pops   110        1    0      90    1.0   13.0      12   \n18          Count Chocula   110        1    1     180    0.0   12.0      13   \n19     Cracklin' Oat Bran   110        3    3     140    4.0   10.0       7   \n\n      K  VITAMINS  WEIGHT  CUPS     RATING  \n10   35        25     1.0  0.75  18.042851  \n11  105        25     1.0  1.25  50.764999  \n12   45        25     1.0  0.75  19.823573  \n13  105        25     1.0  0.50  40.400208  \n14   55        25     1.0  1.00  22.736446  \n15   25        25     1.0  1.00  41.445019  \n16   35        25     1.0  1.00  45.863324  \n17   20        25     1.0  1.00  35.782791  \n18   65        25     1.0  1.00  22.396513  \n19  160        25     1.0  0.50  40.448772  ",
      "text/html": "<div>\n<style scoped>\n    .dataframe tbody tr th:only-of-type {\n        vertical-align: middle;\n    }\n\n    .dataframe tbody tr th {\n        vertical-align: top;\n    }\n\n    .dataframe thead th {\n        text-align: right;\n    }\n</style>\n<table border=\"1\" class=\"dataframe\">\n  <thead>\n    <tr style=\"text-align: right;\">\n      <th></th>\n      <th>NAME</th>\n      <th>CALS</th>\n      <th>PROTEIN</th>\n      <th>FAT</th>\n      <th>SODIUM</th>\n      <th>FIBER</th>\n      <th>CARBS</th>\n      <th>SUGARS</th>\n      <th>K</th>\n      <th>VITAMINS</th>\n      <th>WEIGHT</th>\n      <th>CUPS</th>\n      <th>RATING</th>\n    </tr>\n  </thead>\n  <tbody>\n    <tr>\n      <td>10</td>\n      <td>Cap'n'Crunch</td>\n      <td>120</td>\n      <td>1</td>\n      <td>2</td>\n      <td>220</td>\n      <td>0.0</td>\n      <td>12.0</td>\n      <td>12</td>\n      <td>35</td>\n      <td>25</td>\n      <td>1.0</td>\n      <td>0.75</td>\n      <td>18.042851</td>\n    </tr>\n    <tr>\n      <td>11</td>\n      <td>Cheerios</td>\n      <td>110</td>\n      <td>6</td>\n      <td>2</td>\n      <td>290</td>\n      <td>2.0</td>\n      <td>17.0</td>\n      <td>1</td>\n      <td>105</td>\n      <td>25</td>\n      <td>1.0</td>\n      <td>1.25</td>\n      <td>50.764999</td>\n    </tr>\n    <tr>\n      <td>12</td>\n      <td>Cinnamon Toast Crunch</td>\n      <td>120</td>\n      <td>1</td>\n      <td>3</td>\n      <td>210</td>\n      <td>0.0</td>\n      <td>13.0</td>\n      <td>9</td>\n      <td>45</td>\n      <td>25</td>\n      <td>1.0</td>\n      <td>0.75</td>\n      <td>19.823573</td>\n    </tr>\n    <tr>\n      <td>13</td>\n      <td>Clusters</td>\n      <td>110</td>\n      <td>3</td>\n      <td>2</td>\n      <td>140</td>\n      <td>2.0</td>\n      <td>13.0</td>\n      <td>7</td>\n      <td>105</td>\n      <td>25</td>\n      <td>1.0</td>\n      <td>0.50</td>\n      <td>40.400208</td>\n    </tr>\n    <tr>\n      <td>14</td>\n      <td>Cocoa Puffs</td>\n      <td>110</td>\n      <td>1</td>\n      <td>1</td>\n      <td>180</td>\n      <td>0.0</td>\n      <td>12.0</td>\n      <td>13</td>\n      <td>55</td>\n      <td>25</td>\n      <td>1.0</td>\n      <td>1.00</td>\n      <td>22.736446</td>\n    </tr>\n    <tr>\n      <td>15</td>\n      <td>Corn Chex</td>\n      <td>110</td>\n      <td>2</td>\n      <td>0</td>\n      <td>280</td>\n      <td>0.0</td>\n      <td>22.0</td>\n      <td>3</td>\n      <td>25</td>\n      <td>25</td>\n      <td>1.0</td>\n      <td>1.00</td>\n      <td>41.445019</td>\n    </tr>\n    <tr>\n      <td>16</td>\n      <td>Corn Flakes</td>\n      <td>100</td>\n      <td>2</td>\n      <td>0</td>\n      <td>290</td>\n      <td>1.0</td>\n      <td>21.0</td>\n      <td>2</td>\n      <td>35</td>\n      <td>25</td>\n      <td>1.0</td>\n      <td>1.00</td>\n      <td>45.863324</td>\n    </tr>\n    <tr>\n      <td>17</td>\n      <td>Corn Pops</td>\n      <td>110</td>\n      <td>1</td>\n      <td>0</td>\n      <td>90</td>\n      <td>1.0</td>\n      <td>13.0</td>\n      <td>12</td>\n      <td>20</td>\n      <td>25</td>\n      <td>1.0</td>\n      <td>1.00</td>\n      <td>35.782791</td>\n    </tr>\n    <tr>\n      <td>18</td>\n      <td>Count Chocula</td>\n      <td>110</td>\n      <td>1</td>\n      <td>1</td>\n      <td>180</td>\n      <td>0.0</td>\n      <td>12.0</td>\n      <td>13</td>\n      <td>65</td>\n      <td>25</td>\n      <td>1.0</td>\n      <td>1.00</td>\n      <td>22.396513</td>\n    </tr>\n    <tr>\n      <td>19</td>\n      <td>Cracklin' Oat Bran</td>\n      <td>110</td>\n      <td>3</td>\n      <td>3</td>\n      <td>140</td>\n      <td>4.0</td>\n      <td>10.0</td>\n      <td>7</td>\n      <td>160</td>\n      <td>25</td>\n      <td>1.0</td>\n      <td>0.50</td>\n      <td>40.448772</td>\n    </tr>\n  </tbody>\n</table>\n</div>"
     },
     "metadata": {},
     "output_type": "execute_result",
     "execution_count": 31
    }
   ],
   "source": [
    "cereal.iloc[10:20]"
   ],
   "metadata": {
    "collapsed": false,
    "pycharm": {
     "name": "#%%\n",
     "is_executing": false
    }
   }
  },
  {
   "cell_type": "code",
   "execution_count": 32,
   "outputs": [
    {
     "data": {
      "text/plain": "                       Calories  Protein  Fat  Sodium  Fiber  Carbs  Sugars  \\\nName                                                                          \nCheerios                    110        6    2     290    2.0   17.0       1   \nCinnamon Toast Crunch       120        1    3     210    0.0   13.0       9   \nClusters                    110        3    2     140    2.0   13.0       7   \nCocoa Puffs                 110        1    1     180    0.0   12.0      13   \nCorn Chex                   110        2    0     280    0.0   22.0       3   \nCorn Flakes                 100        2    0     290    1.0   21.0       2   \nCorn Pops                   110        1    0      90    1.0   13.0      12   \nCount Chocula               110        1    1     180    0.0   12.0      13   \n\n                       Potassium  Vitamins  Weight  Cups per Serving  \\\nName                                                                   \nCheerios                     105        25     1.0              1.25   \nCinnamon Toast Crunch         45        25     1.0              0.75   \nClusters                     105        25     1.0              0.50   \nCocoa Puffs                   55        25     1.0              1.00   \nCorn Chex                     25        25     1.0              1.00   \nCorn Flakes                   35        25     1.0              1.00   \nCorn Pops                     20        25     1.0              1.00   \nCount Chocula                 65        25     1.0              1.00   \n\n                          Rating  \nName                              \nCheerios               50.764999  \nCinnamon Toast Crunch  19.823573  \nClusters               40.400208  \nCocoa Puffs            22.736446  \nCorn Chex              41.445019  \nCorn Flakes            45.863324  \nCorn Pops              35.782791  \nCount Chocula          22.396513  ",
      "text/html": "<div>\n<style scoped>\n    .dataframe tbody tr th:only-of-type {\n        vertical-align: middle;\n    }\n\n    .dataframe tbody tr th {\n        vertical-align: top;\n    }\n\n    .dataframe thead th {\n        text-align: right;\n    }\n</style>\n<table border=\"1\" class=\"dataframe\">\n  <thead>\n    <tr style=\"text-align: right;\">\n      <th></th>\n      <th>Calories</th>\n      <th>Protein</th>\n      <th>Fat</th>\n      <th>Sodium</th>\n      <th>Fiber</th>\n      <th>Carbs</th>\n      <th>Sugars</th>\n      <th>Potassium</th>\n      <th>Vitamins</th>\n      <th>Weight</th>\n      <th>Cups per Serving</th>\n      <th>Rating</th>\n    </tr>\n    <tr>\n      <th>Name</th>\n      <th></th>\n      <th></th>\n      <th></th>\n      <th></th>\n      <th></th>\n      <th></th>\n      <th></th>\n      <th></th>\n      <th></th>\n      <th></th>\n      <th></th>\n      <th></th>\n    </tr>\n  </thead>\n  <tbody>\n    <tr>\n      <td>Cheerios</td>\n      <td>110</td>\n      <td>6</td>\n      <td>2</td>\n      <td>290</td>\n      <td>2.0</td>\n      <td>17.0</td>\n      <td>1</td>\n      <td>105</td>\n      <td>25</td>\n      <td>1.0</td>\n      <td>1.25</td>\n      <td>50.764999</td>\n    </tr>\n    <tr>\n      <td>Cinnamon Toast Crunch</td>\n      <td>120</td>\n      <td>1</td>\n      <td>3</td>\n      <td>210</td>\n      <td>0.0</td>\n      <td>13.0</td>\n      <td>9</td>\n      <td>45</td>\n      <td>25</td>\n      <td>1.0</td>\n      <td>0.75</td>\n      <td>19.823573</td>\n    </tr>\n    <tr>\n      <td>Clusters</td>\n      <td>110</td>\n      <td>3</td>\n      <td>2</td>\n      <td>140</td>\n      <td>2.0</td>\n      <td>13.0</td>\n      <td>7</td>\n      <td>105</td>\n      <td>25</td>\n      <td>1.0</td>\n      <td>0.50</td>\n      <td>40.400208</td>\n    </tr>\n    <tr>\n      <td>Cocoa Puffs</td>\n      <td>110</td>\n      <td>1</td>\n      <td>1</td>\n      <td>180</td>\n      <td>0.0</td>\n      <td>12.0</td>\n      <td>13</td>\n      <td>55</td>\n      <td>25</td>\n      <td>1.0</td>\n      <td>1.00</td>\n      <td>22.736446</td>\n    </tr>\n    <tr>\n      <td>Corn Chex</td>\n      <td>110</td>\n      <td>2</td>\n      <td>0</td>\n      <td>280</td>\n      <td>0.0</td>\n      <td>22.0</td>\n      <td>3</td>\n      <td>25</td>\n      <td>25</td>\n      <td>1.0</td>\n      <td>1.00</td>\n      <td>41.445019</td>\n    </tr>\n    <tr>\n      <td>Corn Flakes</td>\n      <td>100</td>\n      <td>2</td>\n      <td>0</td>\n      <td>290</td>\n      <td>1.0</td>\n      <td>21.0</td>\n      <td>2</td>\n      <td>35</td>\n      <td>25</td>\n      <td>1.0</td>\n      <td>1.00</td>\n      <td>45.863324</td>\n    </tr>\n    <tr>\n      <td>Corn Pops</td>\n      <td>110</td>\n      <td>1</td>\n      <td>0</td>\n      <td>90</td>\n      <td>1.0</td>\n      <td>13.0</td>\n      <td>12</td>\n      <td>20</td>\n      <td>25</td>\n      <td>1.0</td>\n      <td>1.00</td>\n      <td>35.782791</td>\n    </tr>\n    <tr>\n      <td>Count Chocula</td>\n      <td>110</td>\n      <td>1</td>\n      <td>1</td>\n      <td>180</td>\n      <td>0.0</td>\n      <td>12.0</td>\n      <td>13</td>\n      <td>65</td>\n      <td>25</td>\n      <td>1.0</td>\n      <td>1.00</td>\n      <td>22.396513</td>\n    </tr>\n  </tbody>\n</table>\n</div>"
     },
     "metadata": {},
     "output_type": "execute_result",
     "execution_count": 32
    }
   ],
   "source": [
    "cereal_by_name.loc['Cheerios': 'Count Chocula']"
   ],
   "metadata": {
    "collapsed": false,
    "pycharm": {
     "name": "#%% \n",
     "is_executing": false
    }
   }
  },
  {
   "cell_type": "markdown",
   "source": [
    "#### Conditional Selections"
   ],
   "metadata": {
    "collapsed": false,
    "pycharm": {
     "name": "#%% md\n"
    }
   }
  },
  {
   "cell_type": "code",
   "execution_count": 33,
   "outputs": [
    {
     "data": {
      "text/plain": "0      True\n1     False\n2      True\n3      True\n4     False\n      ...  \n72    False\n73    False\n74    False\n75     True\n76    False\nName: RATING, Length: 77, dtype: bool"
     },
     "metadata": {},
     "output_type": "execute_result",
     "execution_count": 33
    }
   ],
   "source": [
    "good_ratings = (cereal['RATING'] >= 50)\n",
    "good_ratings"
   ],
   "metadata": {
    "collapsed": false,
    "pycharm": {
     "name": "#%%\n",
     "is_executing": false
    }
   }
  },
  {
   "cell_type": "markdown",
   "source": [
    "##### Looking at Trues and Falses for each row isn't the most helpful, so we should subset the trues instead."
   ],
   "metadata": {
    "collapsed": false,
    "pycharm": {
     "name": "#%% md\n"
    }
   }
  },
  {
   "cell_type": "code",
   "execution_count": 36,
   "outputs": [
    {
     "data": {
      "text/plain": "                         NAME  CALS  PROTEIN  FAT  SODIUM  FIBER  CARBS  \\\n0                   100% Bran    70        4    1     130   10.0    5.0   \n2                    All-Bran    70        4    1     260    9.0    7.0   \n3   All-Bran with Extra Fiber    50        4    0     140   14.0    8.0   \n9                 Bran Flakes    90        3    0     210    5.0   13.0   \n11                   Cheerios   110        6    2     290    2.0   17.0   \n20     Cream of Wheat (Quick)   100        3    0      80    1.0   21.0   \n26        Frosted Mini-Wheats   100        3    0       0    3.0   14.0   \n32          Grape Nuts Flakes   100        3    1     140    3.0   15.0   \n33                 Grape-Nuts   110        3    0     170    3.0   17.0   \n43                      Maypo   100        4    1       0    0.0   16.0   \n50          Nutri-grain Wheat    90        3    0     170    3.0   18.0   \n54                Puffed Rice    50        1    0       0    0.0   13.0   \n55               Puffed Wheat    50        2    0       0    1.0   10.0   \n57             Quaker Oatmeal   100        5    2       0    2.7   -1.0   \n60             Raisin Squares    90        2    0       0    2.0   15.0   \n63             Shredded Wheat    80        2    0       0    3.0   16.0   \n64     Shredded Wheat 'n'Bran    90        3    0       0    4.0   19.0   \n65  Shredded Wheat spoon size    90        3    0       0    3.0   20.0   \n68    Strawberry Fruit Wheats    90        2    0      15    3.0   15.0   \n75                   Wheaties   100        3    1     200    3.0   17.0   \n\n    SUGARS    K  VITAMINS  WEIGHT  CUPS     RATING  \n0        6  280        25    1.00  0.33  68.402973  \n2        5  320        25    1.00  0.33  59.425505  \n3        0  330        25    1.00  0.50  93.704912  \n9        5  190        25    1.00  0.67  53.313813  \n11       1  105        25    1.00  1.25  50.764999  \n20       0   -1         0    1.00  1.00  64.533816  \n26       7  100        25    1.00  0.80  58.345141  \n32       5   85        25    1.00  0.88  52.076897  \n33       3   90        25    1.00  0.25  53.371007  \n43       3   95        25    1.00  1.00  54.850917  \n50       2   90        25    1.00  1.00  59.642837  \n54       0   15         0    0.50  1.00  60.756112  \n55       0   50         0    0.50  1.00  63.005645  \n57      -1  110         0    1.00  0.67  50.828392  \n60       6  110        25    1.00  0.50  55.333142  \n63       0   95         0    0.83  1.00  68.235885  \n64       0  140         0    1.00  0.67  74.472949  \n65       0  120         0    1.00  0.67  72.801787  \n68       5   90        25    1.00  1.00  59.363993  \n75       3  110        25    1.00  1.00  51.592193  ",
      "text/html": "<div>\n<style scoped>\n    .dataframe tbody tr th:only-of-type {\n        vertical-align: middle;\n    }\n\n    .dataframe tbody tr th {\n        vertical-align: top;\n    }\n\n    .dataframe thead th {\n        text-align: right;\n    }\n</style>\n<table border=\"1\" class=\"dataframe\">\n  <thead>\n    <tr style=\"text-align: right;\">\n      <th></th>\n      <th>NAME</th>\n      <th>CALS</th>\n      <th>PROTEIN</th>\n      <th>FAT</th>\n      <th>SODIUM</th>\n      <th>FIBER</th>\n      <th>CARBS</th>\n      <th>SUGARS</th>\n      <th>K</th>\n      <th>VITAMINS</th>\n      <th>WEIGHT</th>\n      <th>CUPS</th>\n      <th>RATING</th>\n    </tr>\n  </thead>\n  <tbody>\n    <tr>\n      <td>0</td>\n      <td>100% Bran</td>\n      <td>70</td>\n      <td>4</td>\n      <td>1</td>\n      <td>130</td>\n      <td>10.0</td>\n      <td>5.0</td>\n      <td>6</td>\n      <td>280</td>\n      <td>25</td>\n      <td>1.00</td>\n      <td>0.33</td>\n      <td>68.402973</td>\n    </tr>\n    <tr>\n      <td>2</td>\n      <td>All-Bran</td>\n      <td>70</td>\n      <td>4</td>\n      <td>1</td>\n      <td>260</td>\n      <td>9.0</td>\n      <td>7.0</td>\n      <td>5</td>\n      <td>320</td>\n      <td>25</td>\n      <td>1.00</td>\n      <td>0.33</td>\n      <td>59.425505</td>\n    </tr>\n    <tr>\n      <td>3</td>\n      <td>All-Bran with Extra Fiber</td>\n      <td>50</td>\n      <td>4</td>\n      <td>0</td>\n      <td>140</td>\n      <td>14.0</td>\n      <td>8.0</td>\n      <td>0</td>\n      <td>330</td>\n      <td>25</td>\n      <td>1.00</td>\n      <td>0.50</td>\n      <td>93.704912</td>\n    </tr>\n    <tr>\n      <td>9</td>\n      <td>Bran Flakes</td>\n      <td>90</td>\n      <td>3</td>\n      <td>0</td>\n      <td>210</td>\n      <td>5.0</td>\n      <td>13.0</td>\n      <td>5</td>\n      <td>190</td>\n      <td>25</td>\n      <td>1.00</td>\n      <td>0.67</td>\n      <td>53.313813</td>\n    </tr>\n    <tr>\n      <td>11</td>\n      <td>Cheerios</td>\n      <td>110</td>\n      <td>6</td>\n      <td>2</td>\n      <td>290</td>\n      <td>2.0</td>\n      <td>17.0</td>\n      <td>1</td>\n      <td>105</td>\n      <td>25</td>\n      <td>1.00</td>\n      <td>1.25</td>\n      <td>50.764999</td>\n    </tr>\n    <tr>\n      <td>20</td>\n      <td>Cream of Wheat (Quick)</td>\n      <td>100</td>\n      <td>3</td>\n      <td>0</td>\n      <td>80</td>\n      <td>1.0</td>\n      <td>21.0</td>\n      <td>0</td>\n      <td>-1</td>\n      <td>0</td>\n      <td>1.00</td>\n      <td>1.00</td>\n      <td>64.533816</td>\n    </tr>\n    <tr>\n      <td>26</td>\n      <td>Frosted Mini-Wheats</td>\n      <td>100</td>\n      <td>3</td>\n      <td>0</td>\n      <td>0</td>\n      <td>3.0</td>\n      <td>14.0</td>\n      <td>7</td>\n      <td>100</td>\n      <td>25</td>\n      <td>1.00</td>\n      <td>0.80</td>\n      <td>58.345141</td>\n    </tr>\n    <tr>\n      <td>32</td>\n      <td>Grape Nuts Flakes</td>\n      <td>100</td>\n      <td>3</td>\n      <td>1</td>\n      <td>140</td>\n      <td>3.0</td>\n      <td>15.0</td>\n      <td>5</td>\n      <td>85</td>\n      <td>25</td>\n      <td>1.00</td>\n      <td>0.88</td>\n      <td>52.076897</td>\n    </tr>\n    <tr>\n      <td>33</td>\n      <td>Grape-Nuts</td>\n      <td>110</td>\n      <td>3</td>\n      <td>0</td>\n      <td>170</td>\n      <td>3.0</td>\n      <td>17.0</td>\n      <td>3</td>\n      <td>90</td>\n      <td>25</td>\n      <td>1.00</td>\n      <td>0.25</td>\n      <td>53.371007</td>\n    </tr>\n    <tr>\n      <td>43</td>\n      <td>Maypo</td>\n      <td>100</td>\n      <td>4</td>\n      <td>1</td>\n      <td>0</td>\n      <td>0.0</td>\n      <td>16.0</td>\n      <td>3</td>\n      <td>95</td>\n      <td>25</td>\n      <td>1.00</td>\n      <td>1.00</td>\n      <td>54.850917</td>\n    </tr>\n    <tr>\n      <td>50</td>\n      <td>Nutri-grain Wheat</td>\n      <td>90</td>\n      <td>3</td>\n      <td>0</td>\n      <td>170</td>\n      <td>3.0</td>\n      <td>18.0</td>\n      <td>2</td>\n      <td>90</td>\n      <td>25</td>\n      <td>1.00</td>\n      <td>1.00</td>\n      <td>59.642837</td>\n    </tr>\n    <tr>\n      <td>54</td>\n      <td>Puffed Rice</td>\n      <td>50</td>\n      <td>1</td>\n      <td>0</td>\n      <td>0</td>\n      <td>0.0</td>\n      <td>13.0</td>\n      <td>0</td>\n      <td>15</td>\n      <td>0</td>\n      <td>0.50</td>\n      <td>1.00</td>\n      <td>60.756112</td>\n    </tr>\n    <tr>\n      <td>55</td>\n      <td>Puffed Wheat</td>\n      <td>50</td>\n      <td>2</td>\n      <td>0</td>\n      <td>0</td>\n      <td>1.0</td>\n      <td>10.0</td>\n      <td>0</td>\n      <td>50</td>\n      <td>0</td>\n      <td>0.50</td>\n      <td>1.00</td>\n      <td>63.005645</td>\n    </tr>\n    <tr>\n      <td>57</td>\n      <td>Quaker Oatmeal</td>\n      <td>100</td>\n      <td>5</td>\n      <td>2</td>\n      <td>0</td>\n      <td>2.7</td>\n      <td>-1.0</td>\n      <td>-1</td>\n      <td>110</td>\n      <td>0</td>\n      <td>1.00</td>\n      <td>0.67</td>\n      <td>50.828392</td>\n    </tr>\n    <tr>\n      <td>60</td>\n      <td>Raisin Squares</td>\n      <td>90</td>\n      <td>2</td>\n      <td>0</td>\n      <td>0</td>\n      <td>2.0</td>\n      <td>15.0</td>\n      <td>6</td>\n      <td>110</td>\n      <td>25</td>\n      <td>1.00</td>\n      <td>0.50</td>\n      <td>55.333142</td>\n    </tr>\n    <tr>\n      <td>63</td>\n      <td>Shredded Wheat</td>\n      <td>80</td>\n      <td>2</td>\n      <td>0</td>\n      <td>0</td>\n      <td>3.0</td>\n      <td>16.0</td>\n      <td>0</td>\n      <td>95</td>\n      <td>0</td>\n      <td>0.83</td>\n      <td>1.00</td>\n      <td>68.235885</td>\n    </tr>\n    <tr>\n      <td>64</td>\n      <td>Shredded Wheat 'n'Bran</td>\n      <td>90</td>\n      <td>3</td>\n      <td>0</td>\n      <td>0</td>\n      <td>4.0</td>\n      <td>19.0</td>\n      <td>0</td>\n      <td>140</td>\n      <td>0</td>\n      <td>1.00</td>\n      <td>0.67</td>\n      <td>74.472949</td>\n    </tr>\n    <tr>\n      <td>65</td>\n      <td>Shredded Wheat spoon size</td>\n      <td>90</td>\n      <td>3</td>\n      <td>0</td>\n      <td>0</td>\n      <td>3.0</td>\n      <td>20.0</td>\n      <td>0</td>\n      <td>120</td>\n      <td>0</td>\n      <td>1.00</td>\n      <td>0.67</td>\n      <td>72.801787</td>\n    </tr>\n    <tr>\n      <td>68</td>\n      <td>Strawberry Fruit Wheats</td>\n      <td>90</td>\n      <td>2</td>\n      <td>0</td>\n      <td>15</td>\n      <td>3.0</td>\n      <td>15.0</td>\n      <td>5</td>\n      <td>90</td>\n      <td>25</td>\n      <td>1.00</td>\n      <td>1.00</td>\n      <td>59.363993</td>\n    </tr>\n    <tr>\n      <td>75</td>\n      <td>Wheaties</td>\n      <td>100</td>\n      <td>3</td>\n      <td>1</td>\n      <td>200</td>\n      <td>3.0</td>\n      <td>17.0</td>\n      <td>3</td>\n      <td>110</td>\n      <td>25</td>\n      <td>1.00</td>\n      <td>1.00</td>\n      <td>51.592193</td>\n    </tr>\n  </tbody>\n</table>\n</div>"
     },
     "metadata": {},
     "output_type": "execute_result",
     "execution_count": 36
    }
   ],
   "source": [
    "cereal[cereal['RATING'] >= 50]"
   ],
   "metadata": {
    "collapsed": false,
    "pycharm": {
     "name": "#%% \n",
     "is_executing": false
    }
   }
  },
  {
   "cell_type": "markdown",
   "source": [
    "###### Use .count() to get the number of rows in a selection\n",
    "###### Try removing ['NAME'] to see why it was added"
   ],
   "metadata": {
    "collapsed": false,
    "pycharm": {
     "name": "#%% md\n"
    }
   }
  },
  {
   "cell_type": "code",
   "execution_count": 38,
   "outputs": [
    {
     "data": {
      "text/plain": "30"
     },
     "metadata": {},
     "output_type": "execute_result",
     "execution_count": 38
    }
   ],
   "source": [
    "cereal[cereal['CALS'] <= 100]['NAME'].count()"
   ],
   "metadata": {
    "collapsed": false,
    "pycharm": {
     "name": "#%%\n",
     "is_executing": false
    }
   }
  },
  {
   "cell_type": "markdown",
   "source": [
    "##### Try some other selections from cereal using the conditionals |, &&, <, >, ==:"
   ],
   "metadata": {
    "collapsed": false,
    "pycharm": {
     "name": "#%% md\n"
    }
   }
  },
  {
   "cell_type": "code",
   "execution_count": null,
   "outputs": [],
   "source": [],
   "metadata": {
    "collapsed": false,
    "pycharm": {
     "name": "#%% \n"
    }
   }
  },
  {
   "cell_type": "markdown",
   "source": [
    "***\n",
    "# Matplotlib\n",
    "#### We'll go through a brief overview of plotting in Python, though there are other tools you may want to use during the Data Challenge\n",
    "\n",
    "##### Using ! in front of a command lets it run as if it was in a terminal"
   ],
   "metadata": {
    "collapsed": false,
    "pycharm": {
     "name": "#%% md\n"
    }
   }
  },
  {
   "cell_type": "code",
   "execution_count": 39,
   "outputs": [
    {
     "name": "stdout",
     "text": [
      "Collecting matplotlib\r\n",
      "\u001b[?25l  Downloading https://files.pythonhosted.org/packages/c3/8b/af9e0984f5c0df06d3fab0bf396eb09cbf05f8452de4e9502b182f59c33b/matplotlib-3.1.1-cp37-cp37m-macosx_10_6_intel.macosx_10_9_intel.macosx_10_9_x86_64.macosx_10_10_intel.macosx_10_10_x86_64.whl (14.4MB)\r\n",
      "\r\u001b[K     |                                | 10kB 323kB/s eta 0:00:45\r\u001b[K     |                                | 20kB 423kB/s eta 0:00:34\r\u001b[K     |                                | 30kB 575kB/s eta 0:00:25\r\u001b[K     |                                | 40kB 656kB/s eta 0:00:22",
      "\r\u001b[K     |▏                               | 51kB 634kB/s eta 0:00:23\r\u001b[K     |▏                               | 61kB 695kB/s eta 0:00:21\r\u001b[K     |▏                               | 71kB 778kB/s eta 0:00:19\r\u001b[K     |▏                               | 81kB 871kB/s eta 0:00:17\r\u001b[K     |▏                               | 92kB 946kB/s eta 0:00:16\r\u001b[K     |▎                               | 102kB 911kB/s eta 0:00:16",
      "\r\u001b[K     |▎                               | 112kB 911kB/s eta 0:00:16\r\u001b[K     |▎                               | 122kB 911kB/s eta 0:00:16\r\u001b[K     |▎                               | 133kB 911kB/s eta 0:00:16\r\u001b[K     |▎                               | 143kB 911kB/s eta 0:00:16\r\u001b[K     |▍                               | 153kB 911kB/s eta 0:00:16\r\u001b[K     |▍                               | 163kB 911kB/s eta 0:00:16",
      "\r\u001b[K     |▍                               | 174kB 911kB/s eta 0:00:16\r\u001b[K     |▍                               | 184kB 911kB/s eta 0:00:16\r\u001b[K     |▍                               | 194kB 911kB/s eta 0:00:16\r\u001b[K     |▌                               | 204kB 911kB/s eta 0:00:16\r\u001b[K     |▌                               | 215kB 911kB/s eta 0:00:16\r\u001b[K     |▌                               | 225kB 911kB/s eta 0:00:16\r\u001b[K     |▌                               | 235kB 911kB/s eta 0:00:16\r\u001b[K     |▌                               | 245kB 911kB/s eta 0:00:16",
      "\r\u001b[K     |▋                               | 256kB 911kB/s eta 0:00:16\r\u001b[K     |▋                               | 266kB 911kB/s eta 0:00:16\r\u001b[K     |▋                               | 276kB 911kB/s eta 0:00:16\r\u001b[K     |▋                               | 286kB 911kB/s eta 0:00:16\r\u001b[K     |▋                               | 296kB 911kB/s eta 0:00:16\r\u001b[K     |▊                               | 307kB 911kB/s eta 0:00:16\r\u001b[K     |▊                               | 317kB 911kB/s eta 0:00:16\r\u001b[K     |▊                               | 327kB 911kB/s eta 0:00:16\r\u001b[K     |▊                               | 337kB 911kB/s eta 0:00:16\r\u001b[K     |▊                               | 348kB 911kB/s eta 0:00:16",
      "\r\u001b[K     |▉                               | 358kB 911kB/s eta 0:00:16\r\u001b[K     |▉                               | 368kB 911kB/s eta 0:00:16\r\u001b[K     |▉                               | 378kB 911kB/s eta 0:00:16\r\u001b[K     |▉                               | 389kB 911kB/s eta 0:00:16\r\u001b[K     |▉                               | 399kB 911kB/s eta 0:00:16",
      "\r\u001b[K     |█                               | 409kB 911kB/s eta 0:00:16\r\u001b[K     |█                               | 419kB 911kB/s eta 0:00:16\r\u001b[K     |█                               | 430kB 911kB/s eta 0:00:16\r\u001b[K     |█                               | 440kB 911kB/s eta 0:00:16\r\u001b[K     |█                               | 450kB 911kB/s eta 0:00:16\r\u001b[K     |█                               | 460kB 911kB/s eta 0:00:16\r\u001b[K     |█                               | 471kB 911kB/s eta 0:00:16\r\u001b[K     |█                               | 481kB 911kB/s eta 0:00:16\r\u001b[K     |█                               | 491kB 911kB/s eta 0:00:16\r\u001b[K     |█▏                              | 501kB 911kB/s eta 0:00:16\r\u001b[K     |█▏                              | 512kB 911kB/s eta 0:00:16",
      "\r\u001b[K     |█▏                              | 522kB 911kB/s eta 0:00:16\r\u001b[K     |█▏                              | 532kB 911kB/s eta 0:00:16\r\u001b[K     |█▏                              | 542kB 911kB/s eta 0:00:16\r\u001b[K     |█▎                              | 552kB 911kB/s eta 0:00:16\r\u001b[K     |█▎                              | 563kB 911kB/s eta 0:00:16\r\u001b[K     |█▎                              | 573kB 911kB/s eta 0:00:16",
      "\r\u001b[K     |█▎                              | 583kB 911kB/s eta 0:00:16\r\u001b[K     |█▎                              | 593kB 911kB/s eta 0:00:16\r\u001b[K     |█▍                              | 604kB 911kB/s eta 0:00:16\r\u001b[K     |█▍                              | 614kB 911kB/s eta 0:00:16\r\u001b[K     |█▍                              | 624kB 911kB/s eta 0:00:16\r\u001b[K     |█▍                              | 634kB 911kB/s eta 0:00:16\r\u001b[K     |█▍                              | 645kB 911kB/s eta 0:00:16\r\u001b[K     |█▌                              | 655kB 911kB/s eta 0:00:16\r\u001b[K     |█▌                              | 665kB 911kB/s eta 0:00:16\r\u001b[K     |█▌                              | 675kB 911kB/s eta 0:00:16",
      "\r\u001b[K     |█▌                              | 686kB 911kB/s eta 0:00:16\r\u001b[K     |█▌                              | 696kB 911kB/s eta 0:00:16\r\u001b[K     |█▋                              | 706kB 911kB/s eta 0:00:15\r\u001b[K     |█▋                              | 716kB 911kB/s eta 0:00:15\r\u001b[K     |█▋                              | 727kB 911kB/s eta 0:00:15\r\u001b[K     |█▋                              | 737kB 911kB/s eta 0:00:15\r\u001b[K     |█▋                              | 747kB 911kB/s eta 0:00:15",
      "\r\u001b[K     |█▊                              | 757kB 911kB/s eta 0:00:15\r\u001b[K     |█▊                              | 768kB 911kB/s eta 0:00:15\r\u001b[K     |█▊                              | 778kB 911kB/s eta 0:00:15\r\u001b[K     |█▊                              | 788kB 911kB/s eta 0:00:15\r\u001b[K     |█▊                              | 798kB 911kB/s eta 0:00:15\r\u001b[K     |█▉                              | 808kB 911kB/s eta 0:00:15\r\u001b[K     |█▉                              | 819kB 911kB/s eta 0:00:15\r\u001b[K     |█▉                              | 829kB 911kB/s eta 0:00:15\r\u001b[K     |█▉                              | 839kB 911kB/s eta 0:00:15\r\u001b[K     |██                              | 849kB 911kB/s eta 0:00:15\r\u001b[K     |██                              | 860kB 911kB/s eta 0:00:15",
      "\r\u001b[K     |██                              | 870kB 911kB/s eta 0:00:15\r\u001b[K     |██                              | 880kB 911kB/s eta 0:00:15\r\u001b[K     |██                              | 890kB 911kB/s eta 0:00:15\r\u001b[K     |██                              | 901kB 911kB/s eta 0:00:15\r\u001b[K     |██                              | 911kB 911kB/s eta 0:00:15\r\u001b[K     |██                              | 921kB 911kB/s eta 0:00:15\r\u001b[K     |██                              | 931kB 911kB/s eta 0:00:15\r\u001b[K     |██                              | 942kB 911kB/s eta 0:00:15\r\u001b[K     |██▏                             | 952kB 911kB/s eta 0:00:15\r\u001b[K     |██▏                             | 962kB 911kB/s eta 0:00:15\r\u001b[K     |██▏                             | 972kB 911kB/s eta 0:00:15",
      "\r\u001b[K     |██▏                             | 983kB 911kB/s eta 0:00:15\r\u001b[K     |██▏                             | 993kB 911kB/s eta 0:00:15\r\u001b[K     |██▎                             | 1.0MB 911kB/s eta 0:00:15\r\u001b[K     |██▎                             | 1.0MB 911kB/s eta 0:00:15\r\u001b[K     |██▎                             | 1.0MB 911kB/s eta 0:00:15\r\u001b[K     |██▎                             | 1.0MB 911kB/s eta 0:00:15\r\u001b[K     |██▎                             | 1.0MB 911kB/s eta 0:00:15\r\u001b[K     |██▍                             | 1.1MB 911kB/s eta 0:00:15\r\u001b[K     |██▍                             | 1.1MB 911kB/s eta 0:00:15\r\u001b[K     |██▍                             | 1.1MB 911kB/s eta 0:00:15",
      "\r\u001b[K     |██▍                             | 1.1MB 911kB/s eta 0:00:15\r\u001b[K     |██▍                             | 1.1MB 911kB/s eta 0:00:15\r\u001b[K     |██▌                             | 1.1MB 911kB/s eta 0:00:15\r\u001b[K     |██▌                             | 1.1MB 911kB/s eta 0:00:15\r\u001b[K     |██▌                             | 1.1MB 911kB/s eta 0:00:15\r\u001b[K     |██▌                             | 1.1MB 911kB/s eta 0:00:15\r\u001b[K     |██▌                             | 1.1MB 911kB/s eta 0:00:15\r\u001b[K     |██▋                             | 1.2MB 911kB/s eta 0:00:15\r\u001b[K     |██▋                             | 1.2MB 911kB/s eta 0:00:15\r\u001b[K     |██▋                             | 1.2MB 911kB/s eta 0:00:15\r\u001b[K     |██▋                             | 1.2MB 911kB/s eta 0:00:15\r\u001b[K     |██▋                             | 1.2MB 911kB/s eta 0:00:15\r\u001b[K     |██▊                             | 1.2MB 911kB/s eta 0:00:15",
      "\r\u001b[K     |██▊                             | 1.2MB 911kB/s eta 0:00:15\r\u001b[K     |██▊                             | 1.2MB 911kB/s eta 0:00:15\r\u001b[K     |██▊                             | 1.2MB 911kB/s eta 0:00:15\r\u001b[K     |██▉                             | 1.2MB 911kB/s eta 0:00:15\r\u001b[K     |██▉                             | 1.3MB 911kB/s eta 0:00:15\r\u001b[K     |██▉                             | 1.3MB 911kB/s eta 0:00:15\r\u001b[K     |██▉                             | 1.3MB 911kB/s eta 0:00:15\r\u001b[K     |██▉                             | 1.3MB 911kB/s eta 0:00:15\r\u001b[K     |███                             | 1.3MB 911kB/s eta 0:00:15\r\u001b[K     |███                             | 1.3MB 911kB/s eta 0:00:15\r\u001b[K     |███                             | 1.3MB 911kB/s eta 0:00:15",
      "\r\u001b[K     |███                             | 1.3MB 911kB/s eta 0:00:15\r\u001b[K     |███                             | 1.3MB 911kB/s eta 0:00:15\r\u001b[K     |███                             | 1.4MB 911kB/s eta 0:00:15\r\u001b[K     |███                             | 1.4MB 911kB/s eta 0:00:15\r\u001b[K     |███                             | 1.4MB 911kB/s eta 0:00:15\r\u001b[K     |███                             | 1.4MB 911kB/s eta 0:00:15\r\u001b[K     |███                             | 1.4MB 911kB/s eta 0:00:15\r\u001b[K     |███▏                            | 1.4MB 911kB/s eta 0:00:15\r\u001b[K     |███▏                            | 1.4MB 911kB/s eta 0:00:15\r\u001b[K     |███▏                            | 1.4MB 911kB/s eta 0:00:15\r\u001b[K     |███▏                            | 1.4MB 911kB/s eta 0:00:15\r\u001b[K     |███▏                            | 1.4MB 911kB/s eta 0:00:15",
      "\r\u001b[K     |███▎                            | 1.5MB 911kB/s eta 0:00:15\r\u001b[K     |███▎                            | 1.5MB 911kB/s eta 0:00:15\r\u001b[K     |███▎                            | 1.5MB 911kB/s eta 0:00:15\r\u001b[K     |███▎                            | 1.5MB 911kB/s eta 0:00:15\r\u001b[K     |███▎                            | 1.5MB 911kB/s eta 0:00:15\r\u001b[K     |███▍                            | 1.5MB 911kB/s eta 0:00:15\r\u001b[K     |███▍                            | 1.5MB 911kB/s eta 0:00:15\r\u001b[K     |███▍                            | 1.5MB 911kB/s eta 0:00:15\r\u001b[K     |███▍                            | 1.5MB 911kB/s eta 0:00:15\r\u001b[K     |███▍                            | 1.5MB 911kB/s eta 0:00:15\r\u001b[K     |███▌                            | 1.6MB 911kB/s eta 0:00:15\r\u001b[K     |███▌                            | 1.6MB 911kB/s eta 0:00:15\r\u001b[K     |███▌                            | 1.6MB 911kB/s eta 0:00:15",
      "\r\u001b[K     |███▌                            | 1.6MB 911kB/s eta 0:00:15\r\u001b[K     |███▌                            | 1.6MB 911kB/s eta 0:00:15\r\u001b[K     |███▋                            | 1.6MB 911kB/s eta 0:00:15\r\u001b[K     |███▋                            | 1.6MB 911kB/s eta 0:00:14\r\u001b[K     |███▋                            | 1.6MB 911kB/s eta 0:00:14\r\u001b[K     |███▋                            | 1.6MB 911kB/s eta 0:00:14\r\u001b[K     |███▊                            | 1.6MB 911kB/s eta 0:00:14\r\u001b[K     |███▊                            | 1.7MB 911kB/s eta 0:00:14\r\u001b[K     |███▊                            | 1.7MB 911kB/s eta 0:00:14\r\u001b[K     |███▊                            | 1.7MB 911kB/s eta 0:00:14\r\u001b[K     |███▊                            | 1.7MB 911kB/s eta 0:00:14\r\u001b[K     |███▉                            | 1.7MB 911kB/s eta 0:00:14\r\u001b[K     |███▉                            | 1.7MB 911kB/s eta 0:00:14",
      "\r\u001b[K     |███▉                            | 1.7MB 911kB/s eta 0:00:14\r\u001b[K     |███▉                            | 1.7MB 911kB/s eta 0:00:14\r\u001b[K     |███▉                            | 1.7MB 911kB/s eta 0:00:14\r\u001b[K     |████                            | 1.8MB 911kB/s eta 0:00:14\r\u001b[K     |████                            | 1.8MB 911kB/s eta 0:00:14\r\u001b[K     |████                            | 1.8MB 911kB/s eta 0:00:14\r\u001b[K     |████                            | 1.8MB 911kB/s eta 0:00:14\r\u001b[K     |████                            | 1.8MB 911kB/s eta 0:00:14\r\u001b[K     |████                            | 1.8MB 911kB/s eta 0:00:14\r\u001b[K     |████                            | 1.8MB 911kB/s eta 0:00:14\r\u001b[K     |████                            | 1.8MB 911kB/s eta 0:00:14\r\u001b[K     |████                            | 1.8MB 911kB/s eta 0:00:14\r\u001b[K     |████                            | 1.8MB 911kB/s eta 0:00:14",
      "\r\u001b[K     |████▏                           | 1.9MB 911kB/s eta 0:00:14\r\u001b[K     |████▏                           | 1.9MB 911kB/s eta 0:00:14\r\u001b[K     |████▏                           | 1.9MB 911kB/s eta 0:00:14\r\u001b[K     |████▏                           | 1.9MB 911kB/s eta 0:00:14\r\u001b[K     |████▏                           | 1.9MB 911kB/s eta 0:00:14\r\u001b[K     |████▎                           | 1.9MB 911kB/s eta 0:00:14\r\u001b[K     |████▎                           | 1.9MB 911kB/s eta 0:00:14\r\u001b[K     |████▎                           | 1.9MB 911kB/s eta 0:00:14\r\u001b[K     |████▎                           | 1.9MB 911kB/s eta 0:00:14\r\u001b[K",
      "     |████▎                           | 1.9MB 911kB/s eta 0:00:14\r\u001b[K     |████▍                           | 2.0MB 911kB/s eta 0:00:14\r\u001b[K     |████▍                           | 2.0MB 911kB/s eta 0:00:14\r\u001b[K     |████▍                           | 2.0MB 911kB/s eta 0:00:14\r\u001b[K     |████▍                           | 2.0MB 911kB/s eta 0:00:14\r\u001b[K     |████▍                           | 2.0MB 911kB/s eta 0:00:14\r\u001b[K     |████▌                           | 2.0MB 911kB/s eta 0:00:14\r\u001b[K     |████▌                           | 2.0MB 911kB/s eta 0:00:14\r\u001b[K     |████▌                           | 2.0MB 911kB/s eta 0:00:14\r\u001b[K     |████▌                           | 2.0MB 911kB/s eta 0:00:14\r\u001b[K     |████▋                           | 2.0MB 911kB/s eta 0:00:14",
      "\r\u001b[K     |████▋                           | 2.1MB 911kB/s eta 0:00:14\r\u001b[K     |████▋                           | 2.1MB 911kB/s eta 0:00:14\r\u001b[K     |████▋                           | 2.1MB 911kB/s eta 0:00:14\r\u001b[K     |████▋                           | 2.1MB 1.6MB/s eta 0:00:08\r\u001b[K     |████▊                           | 2.1MB 1.6MB/s eta 0:00:08\r\u001b[K     |████▊                           | 2.1MB 1.6MB/s eta 0:00:08\r\u001b[K     |████▊                           | 2.1MB 1.6MB/s eta 0:00:08\r\u001b[K     |████▊                           | 2.1MB 1.6MB/s eta 0:00:08\r\u001b[K     |████▊                           | 2.1MB 1.6MB/s eta 0:00:08",
      "\r\u001b[K     |████▉                           | 2.2MB 1.6MB/s eta 0:00:08\r\u001b[K     |████▉                           | 2.2MB 1.6MB/s eta 0:00:08\r\u001b[K     |████▉                           | 2.2MB 1.6MB/s eta 0:00:08\r\u001b[K     |████▉                           | 2.2MB 1.6MB/s eta 0:00:08\r\u001b[K     |████▉                           | 2.2MB 1.6MB/s eta 0:00:08\r\u001b[K     |█████                           | 2.2MB 1.6MB/s eta 0:00:08\r\u001b[K     |█████                           | 2.2MB 1.6MB/s eta 0:00:08\r\u001b[K     |█████                           | 2.2MB 1.6MB/s eta 0:00:08\r\u001b[K     |█████                           | 2.2MB 1.6MB/s eta 0:00:08\r\u001b[K     |█████                           | 2.2MB 1.6MB/s eta 0:00:08\r\u001b[K     |█████                           | 2.3MB 1.6MB/s eta 0:00:08\r\u001b[K     |█████                           | 2.3MB 1.6MB/s eta 0:00:08\r\u001b[K     |█████                           | 2.3MB 1.6MB/s eta 0:00:08\r\u001b[K     |█████                           | 2.3MB 1.6MB/s eta 0:00:08\r\u001b[K     |█████                           | 2.3MB 1.6MB/s eta 0:00:08",
      "\r\u001b[K     |█████▏                          | 2.3MB 1.6MB/s eta 0:00:08\r\u001b[K     |█████▏                          | 2.3MB 1.6MB/s eta 0:00:08\r\u001b[K     |█████▏                          | 2.3MB 1.6MB/s eta 0:00:08\r\u001b[K     |█████▏                          | 2.3MB 1.6MB/s eta 0:00:08\r\u001b[K     |█████▏                          | 2.3MB 1.6MB/s eta 0:00:08\r\u001b[K     |█████▎                          | 2.4MB 1.6MB/s eta 0:00:08\r\u001b[K     |█████▎                          | 2.4MB 1.6MB/s eta 0:00:08\r\u001b[K     |█████▎                          | 2.4MB 1.6MB/s eta 0:00:08\r\u001b[K     |█████▎                          | 2.4MB 1.6MB/s eta 0:00:08\r\u001b[K     |█████▎                          | 2.4MB 1.6MB/s eta 0:00:08",
      "\r\u001b[K     |█████▍                          | 2.4MB 1.6MB/s eta 0:00:08\r\u001b[K     |█████▍                          | 2.4MB 1.6MB/s eta 0:00:08\r\u001b[K     |█████▍                          | 2.4MB 1.6MB/s eta 0:00:08\r\u001b[K     |█████▍                          | 2.4MB 1.6MB/s eta 0:00:08\r\u001b[K     |█████▌                          | 2.4MB 1.6MB/s eta 0:00:08\r\u001b[K     |█████▌                          | 2.5MB 1.6MB/s eta 0:00:08\r\u001b[K     |█████▌                          | 2.5MB 1.6MB/s eta 0:00:08\r\u001b[K     |█████▌                          | 2.5MB 1.6MB/s eta 0:00:08\r\u001b[K     |█████▌                          | 2.5MB 1.6MB/s eta 0:00:08\r\u001b[K     |█████▋                          | 2.5MB 1.6MB/s eta 0:00:08\r\u001b[K     |█████▋                          | 2.5MB 1.6MB/s eta 0:00:08\r\u001b[K     |█████▋                          | 2.5MB 1.6MB/s eta 0:00:08\r\u001b[K     |█████▋                          | 2.5MB 1.6MB/s eta 0:00:08\r\u001b[K     |█████▋                          | 2.5MB 1.6MB/s eta 0:00:08",
      "\r\u001b[K     |█████▊                          | 2.5MB 1.6MB/s eta 0:00:08\r\u001b[K     |█████▊                          | 2.6MB 1.6MB/s eta 0:00:08\r\u001b[K     |█████▊                          | 2.6MB 1.6MB/s eta 0:00:08\r\u001b[K     |█████▊                          | 2.6MB 1.6MB/s eta 0:00:08\r\u001b[K     |█████▊                          | 2.6MB 1.6MB/s eta 0:00:08\r\u001b[K     |█████▉                          | 2.6MB 1.6MB/s eta 0:00:08\r\u001b[K     |█████▉                          | 2.6MB 1.6MB/s eta 0:00:08\r\u001b[K     |█████▉                          | 2.6MB 1.6MB/s eta 0:00:08\r\u001b[K     |█████▉                          | 2.6MB 1.6MB/s eta 0:00:08\r\u001b[K     |█████▉                          | 2.6MB 1.6MB/s eta 0:00:08",
      "\r\u001b[K     |██████                          | 2.7MB 1.6MB/s eta 0:00:08\r\u001b[K     |██████                          | 2.7MB 1.6MB/s eta 0:00:08\r\u001b[K     |██████                          | 2.7MB 1.6MB/s eta 0:00:08\r\u001b[K     |██████                          | 2.7MB 1.6MB/s eta 0:00:08\r\u001b[K     |██████                          | 2.7MB 1.6MB/s eta 0:00:08\r\u001b[K     |██████                          | 2.7MB 1.6MB/s eta 0:00:08\r\u001b[K     |██████                          | 2.7MB 1.6MB/s eta 0:00:08\r\u001b[K     |██████                          | 2.7MB 1.6MB/s eta 0:00:08\r\u001b[K     |██████                          | 2.7MB 1.6MB/s eta 0:00:08\r\u001b[K     |██████                          | 2.7MB 1.6MB/s eta 0:00:08\r\u001b[K     |██████▏                         | 2.8MB 1.6MB/s eta 0:00:08",
      "\r\u001b[K     |██████▏                         | 2.8MB 1.6MB/s eta 0:00:08\r\u001b[K     |██████▏                         | 2.8MB 1.6MB/s eta 0:00:08\r\u001b[K     |██████▏                         | 2.8MB 1.6MB/s eta 0:00:08\r\u001b[K     |██████▏                         | 2.8MB 1.6MB/s eta 0:00:08\r\u001b[K     |██████▎                         | 2.8MB 1.6MB/s eta 0:00:08\r\u001b[K     |██████▎                         | 2.8MB 1.6MB/s eta 0:00:08\r\u001b[K     |██████▎                         | 2.8MB 1.6MB/s eta 0:00:08\r\u001b[K     |██████▎                         | 2.8MB 1.6MB/s eta 0:00:08\r\u001b[K     |██████▍                         | 2.8MB 1.6MB/s eta 0:00:08\r\u001b[K     |██████▍                         | 2.9MB 1.6MB/s eta 0:00:08\r\u001b[K     |██████▍                         | 2.9MB 1.6MB/s eta 0:00:08",
      "\r\u001b[K     |██████▍                         | 2.9MB 1.6MB/s eta 0:00:08\r\u001b[K     |██████▍                         | 2.9MB 1.6MB/s eta 0:00:08\r\u001b[K     |██████▌                         | 2.9MB 1.6MB/s eta 0:00:07\r\u001b[K     |██████▌                         | 2.9MB 1.6MB/s eta 0:00:07\r\u001b[K     |██████▌                         | 2.9MB 1.6MB/s eta 0:00:07\r\u001b[K     |██████▌                         | 2.9MB 1.6MB/s eta 0:00:07\r\u001b[K     |██████▌                         | 2.9MB 1.6MB/s eta 0:00:07\r\u001b[K     |██████▋                         | 2.9MB 1.6MB/s eta 0:00:07\r\u001b[K     |██████▋                         | 3.0MB 1.6MB/s eta 0:00:07\r\u001b[K     |██████▋                         | 3.0MB 1.6MB/s eta 0:00:07\r\u001b[K     |██████▋                         | 3.0MB 1.6MB/s eta 0:00:07\r\u001b[K     |██████▋                         | 3.0MB 1.6MB/s eta 0:00:07\r\u001b[K     |██████▊                         | 3.0MB 1.6MB/s eta 0:00:07",
      "\r\u001b[K     |██████▊                         | 3.0MB 1.6MB/s eta 0:00:07\r\u001b[K     |██████▊                         | 3.0MB 1.6MB/s eta 0:00:07\r\u001b[K     |██████▊                         | 3.0MB 1.6MB/s eta 0:00:07\r\u001b[K     |██████▊                         | 3.0MB 1.6MB/s eta 0:00:07\r\u001b[K     |██████▉                         | 3.1MB 1.6MB/s eta 0:00:07\r\u001b[K     |██████▉                         | 3.1MB 1.6MB/s eta 0:00:07\r\u001b[K     |██████▉                         | 3.1MB 1.6MB/s eta 0:00:07\r\u001b[K     |██████▉                         | 3.1MB 1.6MB/s eta 0:00:07\r\u001b[K     |██████▉                         | 3.1MB 1.6MB/s eta 0:00:07\r\u001b[K     |███████                         | 3.1MB 1.6MB/s eta 0:00:07\r\u001b[K     |███████                         | 3.1MB 1.6MB/s eta 0:00:07",
      "\r\u001b[K     |███████                         | 3.1MB 1.6MB/s eta 0:00:07\r\u001b[K     |███████                         | 3.1MB 1.6MB/s eta 0:00:07\r\u001b[K     |███████                         | 3.1MB 1.6MB/s eta 0:00:07\r\u001b[K     |███████                         | 3.2MB 1.6MB/s eta 0:00:07\r\u001b[K     |███████                         | 3.2MB 1.6MB/s eta 0:00:07\r\u001b[K     |███████                         | 3.2MB 1.6MB/s eta 0:00:07\r\u001b[K     |███████                         | 3.2MB 1.6MB/s eta 0:00:07\r\u001b[K     |███████                         | 3.2MB 1.6MB/s eta 0:00:07\r\u001b[K     |███████▏                        | 3.2MB 1.6MB/s eta 0:00:07\r\u001b[K     |███████▏                        | 3.2MB 1.6MB/s eta 0:00:07\r\u001b[K     |███████▏                        | 3.2MB 1.6MB/s eta 0:00:07\r\u001b[K     |███████▏                        | 3.2MB 1.6MB/s eta 0:00:07\r\u001b[K     |███████▎                        | 3.2MB 1.6MB/s eta 0:00:07\r\u001b[K     |███████▎                        | 3.3MB 1.6MB/s eta 0:00:07\r\u001b[K     |███████▎                        | 3.3MB 1.6MB/s eta 0:00:07",
      "\r\u001b[K     |███████▎                        | 3.3MB 1.6MB/s eta 0:00:07\r\u001b[K     |███████▎                        | 3.3MB 1.6MB/s eta 0:00:07\r\u001b[K     |███████▍                        | 3.3MB 1.6MB/s eta 0:00:07\r\u001b[K     |███████▍                        | 3.3MB 1.6MB/s eta 0:00:07\r\u001b[K     |███████▍                        | 3.3MB 1.6MB/s eta 0:00:07\r\u001b[K     |███████▍                        | 3.3MB 1.6MB/s eta 0:00:07\r\u001b[K     |███████▍                        | 3.3MB 1.6MB/s eta 0:00:07\r\u001b[K     |███████▌                        | 3.3MB 1.6MB/s eta 0:00:07\r\u001b[K     |███████▌                        | 3.4MB 1.6MB/s eta 0:00:07",
      "\r\u001b[K     |███████▌                        | 3.4MB 1.6MB/s eta 0:00:07\r\u001b[K     |███████▌                        | 3.4MB 1.6MB/s eta 0:00:07\r\u001b[K     |███████▌                        | 3.4MB 1.6MB/s eta 0:00:07\r\u001b[K     |███████▋                        | 3.4MB 1.6MB/s eta 0:00:07\r\u001b[K     |███████▋                        | 3.4MB 1.6MB/s eta 0:00:07\r\u001b[K     |███████▋                        | 3.4MB 1.6MB/s eta 0:00:07\r\u001b[K     |███████▋                        | 3.4MB 1.6MB/s eta 0:00:07\r\u001b[K     |███████▋                        | 3.4MB 1.6MB/s eta 0:00:07\r\u001b[K     |███████▊                        | 3.5MB 1.6MB/s eta 0:00:07\r\u001b[K     |███████▊                        | 3.5MB 1.6MB/s eta 0:00:07\r\u001b[K     |███████▊                        | 3.5MB 1.6MB/s eta 0:00:07",
      "\r\u001b[K     |███████▊                        | 3.5MB 1.6MB/s eta 0:00:07\r\u001b[K     |███████▊                        | 3.5MB 1.6MB/s eta 0:00:07\r\u001b[K     |███████▉                        | 3.5MB 1.6MB/s eta 0:00:07\r\u001b[K     |███████▉                        | 3.5MB 1.6MB/s eta 0:00:07\r\u001b[K     |███████▉                        | 3.5MB 1.6MB/s eta 0:00:07\r\u001b[K     |███████▉                        | 3.5MB 1.6MB/s eta 0:00:07\r\u001b[K     |███████▉                        | 3.5MB 1.6MB/s eta 0:00:07\r\u001b[K     |████████                        | 3.6MB 1.6MB/s eta 0:00:07\r\u001b[K     |████████                        | 3.6MB 1.6MB/s eta 0:00:07\r\u001b[K     |████████                        | 3.6MB 1.6MB/s eta 0:00:07\r\u001b[K     |████████                        | 3.6MB 1.6MB/s eta 0:00:07",
      "\r\u001b[K     |████████                        | 3.6MB 1.6MB/s eta 0:00:07\r\u001b[K     |████████                        | 3.6MB 1.6MB/s eta 0:00:07\r\u001b[K     |████████                        | 3.6MB 1.6MB/s eta 0:00:07\r\u001b[K     |████████                        | 3.6MB 1.6MB/s eta 0:00:07\r\u001b[K     |████████                        | 3.6MB 1.6MB/s eta 0:00:07\r\u001b[K     |████████▏                       | 3.6MB 1.6MB/s eta 0:00:07\r\u001b[K     |████████▏                       | 3.7MB 1.6MB/s eta 0:00:07\r\u001b[K     |████████▏                       | 3.7MB 1.6MB/s eta 0:00:07\r\u001b[K     |████████▏                       | 3.7MB 1.6MB/s eta 0:00:07\r\u001b[K     |████████▏                       | 3.7MB 1.6MB/s eta 0:00:07\r\u001b[K     |████████▎                       | 3.7MB 1.6MB/s eta 0:00:07\r\u001b[K     |████████▎                       | 3.7MB 1.6MB/s eta 0:00:07\r\u001b[K     |████████▎                       | 3.7MB 1.6MB/s eta 0:00:07\r\u001b[K     |████████▎                       | 3.7MB 1.6MB/s eta 0:00:07",
      "\r\u001b[K     |████████▎                       | 3.7MB 1.6MB/s eta 0:00:07\r\u001b[K     |████████▍                       | 3.7MB 1.6MB/s eta 0:00:07\r\u001b[K     |████████▍                       | 3.8MB 1.6MB/s eta 0:00:07\r\u001b[K     |████████▍                       | 3.8MB 1.6MB/s eta 0:00:07\r\u001b[K     |████████▍                       | 3.8MB 1.6MB/s eta 0:00:07\r\u001b[K     |████████▍                       | 3.8MB 1.6MB/s eta 0:00:07\r\u001b[K     |████████▌                       | 3.8MB 1.6MB/s eta 0:00:07\r\u001b[K     |████████▌                       | 3.8MB 1.6MB/s eta 0:00:07\r\u001b[K     |████████▌                       | 3.8MB 1.6MB/s eta 0:00:07\r\u001b[K     |████████▌                       | 3.8MB 1.6MB/s eta 0:00:07\r\u001b[K     |████████▌                       | 3.8MB 1.6MB/s eta 0:00:07",
      "\r\u001b[K     |████████▋                       | 3.9MB 1.6MB/s eta 0:00:07\r\u001b[K     |████████▋                       | 3.9MB 1.6MB/s eta 0:00:07\r\u001b[K     |████████▋                       | 3.9MB 1.6MB/s eta 0:00:07\r\u001b[K     |████████▋                       | 3.9MB 1.6MB/s eta 0:00:07\r\u001b[K     |████████▋                       | 3.9MB 1.6MB/s eta 0:00:07\r\u001b[K     |████████▊                       | 3.9MB 1.6MB/s eta 0:00:07\r\u001b[K     |████████▊                       | 3.9MB 1.6MB/s eta 0:00:07\r\u001b[K     |████████▊                       | 3.9MB 1.6MB/s eta 0:00:07\r\u001b[K     |████████▊                       | 3.9MB 1.6MB/s eta 0:00:07\r\u001b[K     |████████▊                       | 3.9MB 1.6MB/s eta 0:00:07\r\u001b[K     |████████▉                       | 4.0MB 1.6MB/s eta 0:00:07\r\u001b[K     |████████▉                       | 4.0MB 1.6MB/s eta 0:00:07",
      "\r\u001b[K     |████████▉                       | 4.0MB 1.6MB/s eta 0:00:07\r\u001b[K     |████████▉                       | 4.0MB 1.6MB/s eta 0:00:07\r\u001b[K     |████████▉                       | 4.0MB 1.6MB/s eta 0:00:07\r\u001b[K     |█████████                       | 4.0MB 1.6MB/s eta 0:00:07\r\u001b[K     |█████████                       | 4.0MB 1.6MB/s eta 0:00:07\r\u001b[K     |█████████                       | 4.0MB 1.6MB/s eta 0:00:07\r\u001b[K     |█████████                       | 4.0MB 1.6MB/s eta 0:00:07\r\u001b[K     |█████████                       | 4.0MB 1.6MB/s eta 0:00:07\r\u001b[K     |█████████                       | 4.1MB 1.6MB/s eta 0:00:07\r\u001b[K     |█████████                       | 4.1MB 1.6MB/s eta 0:00:07\r\u001b[K     |█████████                       | 4.1MB 1.6MB/s eta 0:00:07",
      "\r\u001b[K     |█████████                       | 4.1MB 1.6MB/s eta 0:00:07\r\u001b[K     |█████████▏                      | 4.1MB 1.6MB/s eta 0:00:07\r\u001b[K     |█████████▏                      | 4.1MB 1.6MB/s eta 0:00:07\r\u001b[K     |█████████▏                      | 4.1MB 1.6MB/s eta 0:00:07\r\u001b[K     |█████████▏                      | 4.1MB 1.6MB/s eta 0:00:07\r\u001b[K     |█████████▏                      | 4.1MB 1.6MB/s eta 0:00:07\r\u001b[K     |█████████▎                      | 4.1MB 1.6MB/s eta 0:00:07\r\u001b[K     |█████████▎                      | 4.2MB 1.6MB/s eta 0:00:07\r\u001b[K     |█████████▎                      | 4.2MB 1.6MB/s eta 0:00:07\r\u001b[K     |█████████▎                      | 4.2MB 1.6MB/s eta 0:00:07\r\u001b[K     |█████████▎                      | 4.2MB 1.6MB/s eta 0:00:07\r\u001b[K     |█████████▍                      | 4.2MB 1.6MB/s eta 0:00:07\r\u001b[K     |█████████▍                      | 4.2MB 1.6MB/s eta 0:00:07",
      "\r\u001b[K     |█████████▍                      | 4.2MB 1.6MB/s eta 0:00:07\r\u001b[K     |█████████▍                      | 4.2MB 1.6MB/s eta 0:00:07\r\u001b[K     |█████████▍                      | 4.2MB 1.6MB/s eta 0:00:07\r\u001b[K     |█████████▌                      | 4.2MB 1.6MB/s eta 0:00:07\r\u001b[K     |█████████▌                      | 4.3MB 1.6MB/s eta 0:00:07\r\u001b[K     |█████████▌                      | 4.3MB 1.6MB/s eta 0:00:07\r\u001b[K     |█████████▌                      | 4.3MB 1.6MB/s eta 0:00:07\r\u001b[K     |█████████▌                      | 4.3MB 1.6MB/s eta 0:00:07\r\u001b[K     |█████████▋                      | 4.3MB 1.6MB/s eta 0:00:07\r\u001b[K     |█████████▋                      | 4.3MB 1.6MB/s eta 0:00:07\r\u001b[K     |█████████▋                      | 4.3MB 1.6MB/s eta 0:00:07",
      "\r\u001b[K     |█████████▋                      | 4.3MB 1.6MB/s eta 0:00:07\r\u001b[K     |█████████▋                      | 4.3MB 1.6MB/s eta 0:00:07\r\u001b[K     |█████████▊                      | 4.4MB 1.6MB/s eta 0:00:07\r\u001b[K     |█████████▊                      | 4.4MB 1.6MB/s eta 0:00:07\r\u001b[K     |█████████▊                      | 4.4MB 1.6MB/s eta 0:00:07\r\u001b[K     |█████████▊                      | 4.4MB 1.6MB/s eta 0:00:07\r\u001b[K     |█████████▊                      | 4.4MB 1.6MB/s eta 0:00:07\r\u001b[K     |█████████▉                      | 4.4MB 1.6MB/s eta 0:00:07\r\u001b[K     |█████████▉                      | 4.4MB 1.6MB/s eta 0:00:07\r\u001b[K     |█████████▉                      | 4.4MB 1.6MB/s eta 0:00:07\r\u001b[K     |█████████▉                      | 4.4MB 1.6MB/s eta 0:00:07\r\u001b[K     |██████████                      | 4.4MB 2.3MB/s eta 0:00:05",
      "\r\u001b[K     |██████████                      | 4.5MB 2.3MB/s eta 0:00:05\r\u001b[K     |██████████                      | 4.5MB 2.3MB/s eta 0:00:05\r\u001b[K     |██████████                      | 4.5MB 2.3MB/s eta 0:00:05\r\u001b[K     |██████████                      | 4.5MB 2.3MB/s eta 0:00:05\r\u001b[K     |██████████                      | 4.5MB 2.3MB/s eta 0:00:05\r\u001b[K     |██████████                      | 4.5MB 2.3MB/s eta 0:00:05\r\u001b[K     |██████████                      | 4.5MB 2.3MB/s eta 0:00:05",
      "\r\u001b[K     |██████████                      | 4.5MB 2.3MB/s eta 0:00:05\r\u001b[K     |██████████                      | 4.5MB 2.3MB/s eta 0:00:05\r\u001b[K     |██████████▏                     | 4.5MB 2.3MB/s eta 0:00:05\r\u001b[K     |██████████▏                     | 4.6MB 2.3MB/s eta 0:00:05\r\u001b[K     |██████████▏                     | 4.6MB 2.3MB/s eta 0:00:05\r\u001b[K     |██████████▏                     | 4.6MB 2.3MB/s eta 0:00:05\r\u001b[K     |██████████▏                     | 4.6MB 2.3MB/s eta 0:00:05\r\u001b[K     |██████████▎                     | 4.6MB 2.3MB/s eta 0:00:05\r\u001b[K     |██████████▎                     | 4.6MB 2.3MB/s eta 0:00:05\r\u001b[K     |██████████▎                     | 4.6MB 2.3MB/s eta 0:00:05\r\u001b[K     |██████████▎                     | 4.6MB 2.3MB/s eta 0:00:05\r\u001b[K     |██████████▎                     | 4.6MB 2.3MB/s eta 0:00:05\r\u001b[K     |██████████▍                     | 4.6MB 2.3MB/s eta 0:00:05",
      "\r\u001b[K     |██████████▍                     | 4.7MB 2.3MB/s eta 0:00:05\r\u001b[K     |██████████▍                     | 4.7MB 2.3MB/s eta 0:00:05\r\u001b[K     |██████████▍                     | 4.7MB 2.3MB/s eta 0:00:05\r\u001b[K     |██████████▍                     | 4.7MB 2.3MB/s eta 0:00:05\r\u001b[K     |██████████▌                     | 4.7MB 2.3MB/s eta 0:00:05\r\u001b[K     |██████████▌                     | 4.7MB 2.3MB/s eta 0:00:05",
      "\r\u001b[K     |██████████▌                     | 4.7MB 2.3MB/s eta 0:00:05\r\u001b[K     |██████████▌                     | 4.7MB 2.3MB/s eta 0:00:05\r\u001b[K     |██████████▌                     | 4.7MB 2.3MB/s eta 0:00:05\r\u001b[K     |██████████▋                     | 4.8MB 2.3MB/s eta 0:00:05\r\u001b[K     |██████████▋                     | 4.8MB 2.3MB/s eta 0:00:05\r\u001b[K     |██████████▋                     | 4.8MB 2.3MB/s eta 0:00:05\r\u001b[K     |██████████▋                     | 4.8MB 2.3MB/s eta 0:00:05\r\u001b[K     |██████████▋                     | 4.8MB 2.3MB/s eta 0:00:05\r\u001b[K     |██████████▊                     | 4.8MB 2.3MB/s eta 0:00:05\r\u001b[K     |██████████▊                     | 4.8MB 2.3MB/s eta 0:00:05\r\u001b[K     |██████████▊                     | 4.8MB 2.3MB/s eta 0:00:05\r\u001b[K     |██████████▊                     | 4.8MB 2.3MB/s eta 0:00:05\r\u001b[K     |██████████▉                     | 4.8MB 2.3MB/s eta 0:00:05\r\u001b[K     |██████████▉                     | 4.9MB 2.3MB/s eta 0:00:05\r\u001b[K     |██████████▉                     | 4.9MB 2.3MB/s eta 0:00:05\r\u001b[K     |██████████▉                     | 4.9MB 2.3MB/s eta 0:00:05\r\u001b[K     |██████████▉                     | 4.9MB 2.3MB/s eta 0:00:05\r\u001b[K     |███████████                     | 4.9MB 2.3MB/s eta 0:00:05\r\u001b[K     |███████████                     | 4.9MB 2.3MB/s eta 0:00:05\r\u001b[K     |███████████                     | 4.9MB 2.3MB/s eta 0:00:05\r\u001b[K     |███████████                     | 4.9MB 2.3MB/s eta 0:00:05\r\u001b[K     |███████████                     | 4.9MB 2.3MB/s eta 0:00:05\r\u001b[K     |███████████                     | 4.9MB 2.3MB/s eta 0:00:05\r\u001b[K     |███████████                     | 5.0MB 2.3MB/s eta 0:00:05\r\u001b[K     |███████████                     | 5.0MB 2.3MB/s eta 0:00:05\r\u001b[K     |███████████                     | 5.0MB 2.3MB/s eta 0:00:05\r\u001b[K     |███████████                     | 5.0MB 2.3MB/s eta 0:00:05\r\u001b[K     |███████████▏                    | 5.0MB 2.3MB/s eta 0:00:05\r\u001b[K     |███████████▏                    | 5.0MB 2.3MB/s eta 0:00:05\r\u001b[K     |███████████▏                    | 5.0MB 2.3MB/s eta 0:00:05\r\u001b[K     |███████████▏                    | 5.0MB 2.3MB/s eta 0:00:05\r\u001b[K     |███████████▏                    | 5.0MB 2.3MB/s eta 0:00:05\r\u001b[K     |███████████▎                    | 5.0MB 2.3MB/s eta 0:00:05\r\u001b[K     |███████████▎                    | 5.1MB 2.3MB/s eta 0:00:05\r\u001b[K     |███████████▎                    | 5.1MB 2.3MB/s eta 0:00:05\r\u001b[K     |███████████▎                    | 5.1MB 2.3MB/s eta 0:00:04\r\u001b[K     |███████████▎                    | 5.1MB 2.3MB/s eta 0:00:04\r\u001b[K     |███████████▍                    | 5.1MB 2.3MB/s eta 0:00:04\r\u001b[K     |███████████▍                    | 5.1MB 2.3MB/s eta 0:00:04\r\u001b[K     |███████████▍                    | 5.1MB 2.3MB/s eta 0:00:04\r\u001b[K     |███████████▍                    | 5.1MB 2.3MB/s eta 0:00:04\r\u001b[K     |███████████▍                    | 5.1MB 2.3MB/s eta 0:00:04\r\u001b[K     |███████████▌                    | 5.2MB 2.3MB/s eta 0:00:04\r\u001b[K     |███████████▌                    | 5.2MB 2.3MB/s eta 0:00:04",
      "\r\u001b[K     |███████████▌                    | 5.2MB 2.3MB/s eta 0:00:04\r\u001b[K     |███████████▌                    | 5.2MB 2.3MB/s eta 0:00:04\r\u001b[K     |███████████▌                    | 5.2MB 2.3MB/s eta 0:00:04\r\u001b[K     |███████████▋                    | 5.2MB 2.3MB/s eta 0:00:04\r\u001b[K     |███████████▋                    | 5.2MB 2.3MB/s eta 0:00:04\r\u001b[K     |███████████▋                    | 5.2MB 2.3MB/s eta 0:00:04\r\u001b[K     |███████████▋                    | 5.2MB 2.3MB/s eta 0:00:04\r\u001b[K     |███████████▊                    | 5.2MB 2.3MB/s eta 0:00:04\r\u001b[K     |███████████▊                    | 5.3MB 2.3MB/s eta 0:00:04\r\u001b[K     |███████████▊                    | 5.3MB 2.3MB/s eta 0:00:04",
      "\r\u001b[K     |███████████▊                    | 5.3MB 2.3MB/s eta 0:00:04\r\u001b[K     |███████████▊                    | 5.3MB 2.3MB/s eta 0:00:04\r\u001b[K     |███████████▉                    | 5.3MB 2.3MB/s eta 0:00:04\r\u001b[K     |███████████▉                    | 5.3MB 2.3MB/s eta 0:00:04\r\u001b[K     |███████████▉                    | 5.3MB 2.3MB/s eta 0:00:04\r\u001b[K     |███████████▉                    | 5.3MB 2.3MB/s eta 0:00:04\r\u001b[K     |███████████▉                    | 5.3MB 2.3MB/s eta 0:00:04\r\u001b[K     |████████████                    | 5.3MB 2.3MB/s eta 0:00:04\r\u001b[K     |████████████                    | 5.4MB 2.3MB/s eta 0:00:04\r\u001b[K     |████████████                    | 5.4MB 2.3MB/s eta 0:00:04\r\u001b[K     |████████████                    | 5.4MB 2.3MB/s eta 0:00:04\r\u001b[K     |████████████                    | 5.4MB 2.3MB/s eta 0:00:04",
      "\r\u001b[K     |████████████                    | 5.4MB 2.3MB/s eta 0:00:04\r\u001b[K     |████████████                    | 5.4MB 2.3MB/s eta 0:00:04\r\u001b[K     |████████████                    | 5.4MB 2.3MB/s eta 0:00:04\r\u001b[K     |████████████                    | 5.4MB 2.3MB/s eta 0:00:04\r\u001b[K     |████████████                    | 5.4MB 2.3MB/s eta 0:00:04\r\u001b[K     |████████████▏                   | 5.4MB 2.3MB/s eta 0:00:04\r\u001b[K     |████████████▏                   | 5.5MB 2.3MB/s eta 0:00:04\r\u001b[K     |████████████▏                   | 5.5MB 2.3MB/s eta 0:00:04\r\u001b[K     |████████████▏                   | 5.5MB 2.3MB/s eta 0:00:04\r\u001b[K     |████████████▏                   | 5.5MB 2.3MB/s eta 0:00:04",
      "\r\u001b[K     |████████████▎                   | 5.5MB 2.3MB/s eta 0:00:04\r\u001b[K     |████████████▎                   | 5.5MB 2.3MB/s eta 0:00:04\r\u001b[K     |████████████▎                   | 5.5MB 2.3MB/s eta 0:00:04\r\u001b[K     |████████████▎                   | 5.5MB 2.3MB/s eta 0:00:04\r\u001b[K     |████████████▎                   | 5.5MB 2.3MB/s eta 0:00:04\r\u001b[K     |████████████▍                   | 5.6MB 2.3MB/s eta 0:00:04\r\u001b[K     |████████████▍                   | 5.6MB 2.3MB/s eta 0:00:04\r\u001b[K     |████████████▍                   | 5.6MB 2.3MB/s eta 0:00:04\r\u001b[K     |████████████▍                   | 5.6MB 2.3MB/s eta 0:00:04\r\u001b[K     |████████████▍                   | 5.6MB 2.3MB/s eta 0:00:04\r\u001b[K     |████████████▌                   | 5.6MB 2.3MB/s eta 0:00:04",
      "\r\u001b[K     |████████████▌                   | 5.6MB 2.3MB/s eta 0:00:04\r\u001b[K     |████████████▌                   | 5.6MB 2.3MB/s eta 0:00:04\r\u001b[K     |████████████▌                   | 5.6MB 2.3MB/s eta 0:00:04\r\u001b[K     |████████████▋                   | 5.6MB 2.3MB/s eta 0:00:04\r\u001b[K     |████████████▋                   | 5.7MB 2.3MB/s eta 0:00:04\r\u001b[K     |████████████▋                   | 5.7MB 2.3MB/s eta 0:00:04\r\u001b[K     |████████████▋                   | 5.7MB 2.3MB/s eta 0:00:04\r\u001b[K     |████████████▋                   | 5.7MB 2.3MB/s eta 0:00:04\r\u001b[K     |████████████▊                   | 5.7MB 2.3MB/s eta 0:00:04",
      "\r\u001b[K     |████████████▊                   | 5.7MB 2.3MB/s eta 0:00:04\r\u001b[K     |████████████▊                   | 5.7MB 2.3MB/s eta 0:00:04\r\u001b[K     |████████████▊                   | 5.7MB 2.3MB/s eta 0:00:04\r\u001b[K     |████████████▊                   | 5.7MB 2.3MB/s eta 0:00:04\r\u001b[K     |████████████▉                   | 5.7MB 2.3MB/s eta 0:00:04\r\u001b[K     |████████████▉                   | 5.8MB 2.3MB/s eta 0:00:04\r\u001b[K     |████████████▉                   | 5.8MB 2.3MB/s eta 0:00:04\r\u001b[K     |████████████▉                   | 5.8MB 2.3MB/s eta 0:00:04",
      "\r\u001b[K     |████████████▉                   | 5.8MB 2.3MB/s eta 0:00:04\r\u001b[K     |█████████████                   | 5.8MB 2.3MB/s eta 0:00:04\r\u001b[K     |█████████████                   | 5.8MB 2.3MB/s eta 0:00:04\r\u001b[K     |█████████████                   | 5.8MB 2.3MB/s eta 0:00:04\r\u001b[K     |█████████████                   | 5.8MB 2.3MB/s eta 0:00:04\r\u001b[K     |█████████████                   | 5.8MB 2.3MB/s eta 0:00:04\r\u001b[K     |█████████████                   | 5.8MB 2.3MB/s eta 0:00:04",
      "\r\u001b[K     |█████████████                   | 5.9MB 2.3MB/s eta 0:00:04\r\u001b[K     |█████████████                   | 5.9MB 2.3MB/s eta 0:00:04\r\u001b[K     |█████████████                   | 5.9MB 2.3MB/s eta 0:00:04\r\u001b[K     |█████████████                   | 5.9MB 2.3MB/s eta 0:00:04\r\u001b[K     |█████████████▏                  | 5.9MB 2.3MB/s eta 0:00:04\r\u001b[K     |█████████████▏                  | 5.9MB 2.3MB/s eta 0:00:04\r\u001b[K     |█████████████▏                  | 5.9MB 2.3MB/s eta 0:00:04\r\u001b[K     |█████████████▏                  | 5.9MB 2.3MB/s eta 0:00:04\r\u001b[K     |█████████████▏                  | 5.9MB 2.3MB/s eta 0:00:04\r\u001b[K     |█████████████▎                  | 5.9MB 2.3MB/s eta 0:00:04\r\u001b[K     |█████████████▎                  | 6.0MB 2.3MB/s eta 0:00:04",
      "\r\u001b[K     |█████████████▎                  | 6.0MB 2.3MB/s eta 0:00:04\r\u001b[K     |█████████████▎                  | 6.0MB 2.3MB/s eta 0:00:04\r\u001b[K     |█████████████▎                  | 6.0MB 2.3MB/s eta 0:00:04\r\u001b[K     |█████████████▍                  | 6.0MB 2.3MB/s eta 0:00:04\r\u001b[K     |█████████████▍                  | 6.0MB 2.3MB/s eta 0:00:04\r\u001b[K     |█████████████▍                  | 6.0MB 2.3MB/s eta 0:00:04\r\u001b[K     |█████████████▍                  | 6.0MB 2.3MB/s eta 0:00:04\r\u001b[K     |█████████████▌                  | 6.0MB 2.3MB/s eta 0:00:04\r\u001b[K     |█████████████▌                  | 6.1MB 2.3MB/s eta 0:00:04",
      "\r\u001b[K     |█████████████▌                  | 6.1MB 2.3MB/s eta 0:00:04\r\u001b[K     |█████████████▌                  | 6.1MB 2.3MB/s eta 0:00:04\r\u001b[K     |█████████████▌                  | 6.1MB 2.3MB/s eta 0:00:04\r\u001b[K     |█████████████▋                  | 6.1MB 2.3MB/s eta 0:00:04\r\u001b[K     |█████████████▋                  | 6.1MB 2.3MB/s eta 0:00:04\r\u001b[K     |█████████████▋                  | 6.1MB 2.3MB/s eta 0:00:04\r\u001b[K     |█████████████▋                  | 6.1MB 2.3MB/s eta 0:00:04\r\u001b[K     |█████████████▋                  | 6.1MB 2.3MB/s eta 0:00:04\r\u001b[K     |█████████████▊                  | 6.1MB 2.3MB/s eta 0:00:04\r\u001b[K     |█████████████▊                  | 6.2MB 2.3MB/s eta 0:00:04\r\u001b[K     |█████████████▊                  | 6.2MB 2.3MB/s eta 0:00:04\r\u001b[K     |█████████████▊                  | 6.2MB 2.3MB/s eta 0:00:04\r\u001b[K     |█████████████▊                  | 6.2MB 2.3MB/s eta 0:00:04\r\u001b[K     |█████████████▉                  | 6.2MB 2.3MB/s eta 0:00:04\r\u001b[K     |█████████████▉                  | 6.2MB 2.3MB/s eta 0:00:04\r\u001b[K     |█████████████▉                  | 6.2MB 2.3MB/s eta 0:00:04\r\u001b[K     |█████████████▉                  | 6.2MB 2.3MB/s eta 0:00:04",
      "\r\u001b[K     |█████████████▉                  | 6.2MB 2.3MB/s eta 0:00:04\r\u001b[K     |██████████████                  | 6.2MB 2.3MB/s eta 0:00:04\r\u001b[K     |██████████████                  | 6.3MB 2.3MB/s eta 0:00:04\r\u001b[K     |██████████████                  | 6.3MB 2.3MB/s eta 0:00:04\r\u001b[K     |██████████████                  | 6.3MB 2.3MB/s eta 0:00:04\r\u001b[K     |██████████████                  | 6.3MB 2.3MB/s eta 0:00:04\r\u001b[K     |██████████████                  | 6.3MB 2.3MB/s eta 0:00:04\r\u001b[K     |██████████████                  | 6.3MB 2.3MB/s eta 0:00:04\r\u001b[K     |██████████████                  | 6.3MB 2.3MB/s eta 0:00:04\r\u001b[K     |██████████████                  | 6.3MB 2.3MB/s eta 0:00:04\r\u001b[K     |██████████████                  | 6.3MB 2.3MB/s eta 0:00:04",
      "\r\u001b[K     |██████████████▏                 | 6.3MB 2.3MB/s eta 0:00:04\r\u001b[K     |██████████████▏                 | 6.4MB 2.3MB/s eta 0:00:04\r\u001b[K     |██████████████▏                 | 6.4MB 2.3MB/s eta 0:00:04\r\u001b[K     |██████████████▏                 | 6.4MB 2.3MB/s eta 0:00:04\r\u001b[K     |██████████████▏                 | 6.4MB 2.3MB/s eta 0:00:04\r\u001b[K     |██████████████▎                 | 6.4MB 2.3MB/s eta 0:00:04\r\u001b[K     |██████████████▎                 | 6.4MB 2.3MB/s eta 0:00:04\r\u001b[K     |██████████████▎                 | 6.4MB 2.3MB/s eta 0:00:04\r\u001b[K     |██████████████▎                 | 6.4MB 2.3MB/s eta 0:00:04\r\u001b[K     |██████████████▍                 | 6.4MB 2.3MB/s eta 0:00:04\r\u001b[K     |██████████████▍                 | 6.5MB 2.3MB/s eta 0:00:04",
      "\r\u001b[K     |██████████████▍                 | 6.5MB 2.3MB/s eta 0:00:04\r\u001b[K     |██████████████▍                 | 6.5MB 2.3MB/s eta 0:00:04\r\u001b[K     |██████████████▍                 | 6.5MB 2.3MB/s eta 0:00:04\r\u001b[K     |██████████████▌                 | 6.5MB 2.9MB/s eta 0:00:03\r\u001b[K     |██████████████▌                 | 6.5MB 2.9MB/s eta 0:00:03\r\u001b[K     |██████████████▌                 | 6.5MB 2.9MB/s eta 0:00:03\r\u001b[K     |██████████████▌                 | 6.5MB 2.9MB/s eta 0:00:03\r\u001b[K     |██████████████▌                 | 6.5MB 2.9MB/s eta 0:00:03\r\u001b[K     |██████████████▋                 | 6.5MB 2.9MB/s eta 0:00:03\r\u001b[K     |██████████████▋                 | 6.6MB 2.9MB/s eta 0:00:03\r\u001b[K     |██████████████▋                 | 6.6MB 2.9MB/s eta 0:00:03\r\u001b[K     |██████████████▋                 | 6.6MB 2.9MB/s eta 0:00:03\r\u001b[K     |██████████████▋                 | 6.6MB 2.9MB/s eta 0:00:03\r\u001b[K     |██████████████▊                 | 6.6MB 2.9MB/s eta 0:00:03",
      "\r\u001b[K     |██████████████▊                 | 6.6MB 2.9MB/s eta 0:00:03\r\u001b[K     |██████████████▊                 | 6.6MB 2.9MB/s eta 0:00:03\r\u001b[K     |██████████████▊                 | 6.6MB 2.9MB/s eta 0:00:03\r\u001b[K     |██████████████▊                 | 6.6MB 2.9MB/s eta 0:00:03\r\u001b[K     |██████████████▉                 | 6.6MB 2.9MB/s eta 0:00:03\r\u001b[K     |██████████████▉                 | 6.7MB 2.9MB/s eta 0:00:03\r\u001b[K     |██████████████▉                 | 6.7MB 2.9MB/s eta 0:00:03\r\u001b[K     |██████████████▉                 | 6.7MB 2.9MB/s eta 0:00:03\r\u001b[K     |██████████████▉                 | 6.7MB 2.9MB/s eta 0:00:03\r\u001b[K     |███████████████                 | 6.7MB 2.9MB/s eta 0:00:03\r\u001b[K     |███████████████                 | 6.7MB 2.9MB/s eta 0:00:03\r\u001b[K     |███████████████                 | 6.7MB 2.9MB/s eta 0:00:03",
      "\r\u001b[K     |███████████████                 | 6.7MB 2.9MB/s eta 0:00:03\r\u001b[K     |███████████████                 | 6.7MB 2.9MB/s eta 0:00:03\r\u001b[K     |███████████████                 | 6.7MB 2.9MB/s eta 0:00:03\r\u001b[K     |███████████████                 | 6.8MB 2.9MB/s eta 0:00:03\r\u001b[K     |███████████████                 | 6.8MB 2.9MB/s eta 0:00:03\r\u001b[K     |███████████████                 | 6.8MB 2.9MB/s eta 0:00:03\r\u001b[K     |███████████████                 | 6.8MB 2.9MB/s eta 0:00:03\r\u001b[K     |███████████████▏                | 6.8MB 2.9MB/s eta 0:00:03\r\u001b[K     |███████████████▏                | 6.8MB 2.9MB/s eta 0:00:03\r\u001b[K     |███████████████▏                | 6.8MB 2.9MB/s eta 0:00:03\r\u001b[K     |███████████████▏                | 6.8MB 2.9MB/s eta 0:00:03",
      "\r\u001b[K     |███████████████▎                | 6.8MB 2.9MB/s eta 0:00:03\r\u001b[K     |███████████████▎                | 6.9MB 2.9MB/s eta 0:00:03\r\u001b[K     |███████████████▎                | 6.9MB 2.9MB/s eta 0:00:03\r\u001b[K     |███████████████▎                | 6.9MB 2.9MB/s eta 0:00:03\r\u001b[K     |███████████████▎                | 6.9MB 2.9MB/s eta 0:00:03\r\u001b[K     |███████████████▍                | 6.9MB 2.9MB/s eta 0:00:03\r\u001b[K     |███████████████▍                | 6.9MB 2.9MB/s eta 0:00:03\r\u001b[K     |███████████████▍                | 6.9MB 2.9MB/s eta 0:00:03\r\u001b[K     |███████████████▍                | 6.9MB 2.9MB/s eta 0:00:03\r\u001b[K     |███████████████▍                | 6.9MB 2.9MB/s eta 0:00:03\r\u001b[K     |███████████████▌                | 6.9MB 2.9MB/s eta 0:00:03\r\u001b[K     |███████████████▌                | 7.0MB 2.9MB/s eta 0:00:03\r\u001b[K     |███████████████▌                | 7.0MB 2.9MB/s eta 0:00:03",
      "\r\u001b[K     |███████████████▌                | 7.0MB 2.9MB/s eta 0:00:03\r\u001b[K     |███████████████▌                | 7.0MB 2.9MB/s eta 0:00:03\r\u001b[K     |███████████████▋                | 7.0MB 2.9MB/s eta 0:00:03\r\u001b[K     |███████████████▋                | 7.0MB 2.9MB/s eta 0:00:03\r\u001b[K     |███████████████▋                | 7.0MB 2.9MB/s eta 0:00:03\r\u001b[K     |███████████████▋                | 7.0MB 2.9MB/s eta 0:00:03\r\u001b[K     |███████████████▋                | 7.0MB 2.9MB/s eta 0:00:03\r\u001b[K     |███████████████▊                | 7.0MB 2.9MB/s eta 0:00:03\r\u001b[K     |███████████████▊                | 7.1MB 2.9MB/s eta 0:00:03\r\u001b[K     |███████████████▊                | 7.1MB 2.9MB/s eta 0:00:03\r\u001b[K     |███████████████▊                | 7.1MB 2.9MB/s eta 0:00:03\r\u001b[K     |███████████████▊                | 7.1MB 2.9MB/s eta 0:00:03",
      "\r\u001b[K     |███████████████▉                | 7.1MB 2.9MB/s eta 0:00:03\r\u001b[K     |███████████████▉                | 7.1MB 2.9MB/s eta 0:00:03\r\u001b[K     |███████████████▉                | 7.1MB 2.9MB/s eta 0:00:03\r\u001b[K     |███████████████▉                | 7.1MB 2.9MB/s eta 0:00:03\r\u001b[K     |███████████████▉                | 7.1MB 2.9MB/s eta 0:00:03\r\u001b[K     |████████████████                | 7.1MB 2.9MB/s eta 0:00:03\r\u001b[K     |████████████████                | 7.2MB 2.9MB/s eta 0:00:03\r\u001b[K     |████████████████                | 7.2MB 2.9MB/s eta 0:00:03\r\u001b[K     |████████████████                | 7.2MB 2.9MB/s eta 0:00:03\r\u001b[K     |████████████████                | 7.2MB 2.9MB/s eta 0:00:03\r\u001b[K     |████████████████                | 7.2MB 2.9MB/s eta 0:00:03\r\u001b[K     |████████████████                | 7.2MB 2.9MB/s eta 0:00:03\r\u001b[K     |████████████████                | 7.2MB 2.9MB/s eta 0:00:03",
      "\r\u001b[K     |████████████████                | 7.2MB 2.9MB/s eta 0:00:03\r\u001b[K     |████████████████▏               | 7.2MB 2.9MB/s eta 0:00:03\r\u001b[K     |████████████████▏               | 7.2MB 2.9MB/s eta 0:00:03\r\u001b[K     |████████████████▏               | 7.3MB 2.9MB/s eta 0:00:03\r\u001b[K     |████████████████▏               | 7.3MB 2.9MB/s eta 0:00:03\r\u001b[K     |████████████████▏               | 7.3MB 2.9MB/s eta 0:00:03\r\u001b[K     |████████████████▎               | 7.3MB 2.9MB/s eta 0:00:03\r\u001b[K     |████████████████▎               | 7.3MB 2.9MB/s eta 0:00:03\r\u001b[K     |████████████████▎               | 7.3MB 2.9MB/s eta 0:00:03\r\u001b[K     |████████████████▎               | 7.3MB 2.9MB/s eta 0:00:03\r\u001b[K     |████████████████▎               | 7.3MB 2.9MB/s eta 0:00:03\r\u001b[K     |████████████████▍               | 7.3MB 2.9MB/s eta 0:00:03\r\u001b[K     |████████████████▍               | 7.4MB 2.9MB/s eta 0:00:03",
      "\r\u001b[K     |████████████████▍               | 7.4MB 2.9MB/s eta 0:00:03\r\u001b[K     |████████████████▍               | 7.4MB 2.9MB/s eta 0:00:03\r\u001b[K     |████████████████▍               | 7.4MB 2.9MB/s eta 0:00:03\r\u001b[K     |████████████████▌               | 7.4MB 2.9MB/s eta 0:00:03\r\u001b[K     |████████████████▌               | 7.4MB 2.9MB/s eta 0:00:03\r\u001b[K     |████████████████▌               | 7.4MB 2.9MB/s eta 0:00:03\r\u001b[K     |████████████████▌               | 7.4MB 2.9MB/s eta 0:00:03\r\u001b[K     |████████████████▌               | 7.4MB 2.9MB/s eta 0:00:03",
      "\r\u001b[K     |████████████████▋               | 7.4MB 2.9MB/s eta 0:00:03\r\u001b[K     |████████████████▋               | 7.5MB 2.9MB/s eta 0:00:03\r\u001b[K     |████████████████▋               | 7.5MB 2.9MB/s eta 0:00:03\r\u001b[K     |████████████████▋               | 7.5MB 2.9MB/s eta 0:00:03\r\u001b[K     |████████████████▋               | 7.5MB 2.9MB/s eta 0:00:03\r\u001b[K     |████████████████▊               | 7.5MB 2.9MB/s eta 0:00:03\r\u001b[K     |████████████████▊               | 7.5MB 2.9MB/s eta 0:00:03\r\u001b[K     |████████████████▊               | 7.5MB 2.9MB/s eta 0:00:03\r\u001b[K     |████████████████▊               | 7.5MB 2.9MB/s eta 0:00:03\r\u001b[K     |████████████████▊               | 7.5MB 2.9MB/s eta 0:00:03\r\u001b[K     |████████████████▉               | 7.5MB 2.9MB/s eta 0:00:03\r\u001b[K     |████████████████▉               | 7.6MB 2.9MB/s eta 0:00:03\r\u001b[K     |████████████████▉               | 7.6MB 2.9MB/s eta 0:00:03",
      "\r\u001b[K     |████████████████▉               | 7.6MB 2.9MB/s eta 0:00:03\r\u001b[K     |████████████████▉               | 7.6MB 2.9MB/s eta 0:00:03\r\u001b[K     |█████████████████               | 7.6MB 2.9MB/s eta 0:00:03\r\u001b[K     |█████████████████               | 7.6MB 2.9MB/s eta 0:00:03\r\u001b[K     |█████████████████               | 7.6MB 2.9MB/s eta 0:00:03\r\u001b[K     |█████████████████               | 7.6MB 2.9MB/s eta 0:00:03\r\u001b[K     |█████████████████               | 7.6MB 2.9MB/s eta 0:00:03\r\u001b[K     |█████████████████               | 7.6MB 2.9MB/s eta 0:00:03\r\u001b[K     |█████████████████               | 7.7MB 2.9MB/s eta 0:00:03\r\u001b[K     |█████████████████               | 7.7MB 2.9MB/s eta 0:00:03\r\u001b[K     |█████████████████               | 7.7MB 2.9MB/s eta 0:00:03\r\u001b[K     |█████████████████▏              | 7.7MB 2.9MB/s eta 0:00:03\r\u001b[K     |█████████████████▏              | 7.7MB 2.9MB/s eta 0:00:03",
      "\r\u001b[K     |█████████████████▏              | 7.7MB 2.9MB/s eta 0:00:03\r\u001b[K     |█████████████████▏              | 7.7MB 2.9MB/s eta 0:00:03\r\u001b[K     |█████████████████▏              | 7.7MB 2.9MB/s eta 0:00:03\r\u001b[K     |█████████████████▎              | 7.7MB 2.9MB/s eta 0:00:03\r\u001b[K     |█████████████████▎              | 7.8MB 2.9MB/s eta 0:00:03\r\u001b[K     |█████████████████▎              | 7.8MB 2.9MB/s eta 0:00:03\r\u001b[K     |█████████████████▎              | 7.8MB 2.9MB/s eta 0:00:03\r\u001b[K     |█████████████████▎              | 7.8MB 2.9MB/s eta 0:00:03\r\u001b[K     |█████████████████▍              | 7.8MB 2.9MB/s eta 0:00:03\r\u001b[K     |█████████████████▍              | 7.8MB 2.9MB/s eta 0:00:03\r\u001b[K     |█████████████████▍              | 7.8MB 2.9MB/s eta 0:00:03\r\u001b[K     |█████████████████▍              | 7.8MB 2.9MB/s eta 0:00:03\r\u001b[K     |█████████████████▍              | 7.8MB 2.9MB/s eta 0:00:03",
      "\r\u001b[K     |█████████████████▌              | 7.8MB 2.9MB/s eta 0:00:03\r\u001b[K     |█████████████████▌              | 7.9MB 2.9MB/s eta 0:00:03\r\u001b[K     |█████████████████▌              | 7.9MB 2.9MB/s eta 0:00:03\r\u001b[K     |█████████████████▌              | 7.9MB 2.9MB/s eta 0:00:03\r\u001b[K     |█████████████████▌              | 7.9MB 2.9MB/s eta 0:00:03\r\u001b[K     |█████████████████▋              | 7.9MB 2.9MB/s eta 0:00:03\r\u001b[K     |█████████████████▋              | 7.9MB 2.9MB/s eta 0:00:03\r\u001b[K     |█████████████████▋              | 7.9MB 2.9MB/s eta 0:00:03\r\u001b[K     |█████████████████▋              | 7.9MB 2.9MB/s eta 0:00:03\r\u001b[K     |█████████████████▋              | 7.9MB 2.9MB/s eta 0:00:03\r\u001b[K     |█████████████████▊              | 7.9MB 2.9MB/s eta 0:00:03\r\u001b[K     |█████████████████▊              | 8.0MB 2.9MB/s eta 0:00:03\r\u001b[K     |█████████████████▊              | 8.0MB 2.9MB/s eta 0:00:03",
      "\r\u001b[K     |█████████████████▊              | 8.0MB 2.9MB/s eta 0:00:03\r\u001b[K     |█████████████████▊              | 8.0MB 2.9MB/s eta 0:00:03\r\u001b[K     |█████████████████▉              | 8.0MB 2.9MB/s eta 0:00:03\r\u001b[K     |█████████████████▉              | 8.0MB 2.9MB/s eta 0:00:03\r\u001b[K     |█████████████████▉              | 8.0MB 2.9MB/s eta 0:00:03\r\u001b[K     |█████████████████▉              | 8.0MB 2.9MB/s eta 0:00:03\r\u001b[K     |██████████████████              | 8.0MB 2.9MB/s eta 0:00:03\r\u001b[K     |██████████████████              | 8.0MB 2.9MB/s eta 0:00:03\r\u001b[K     |██████████████████              | 8.1MB 2.9MB/s eta 0:00:03",
      "\r\u001b[K     |██████████████████              | 8.1MB 2.9MB/s eta 0:00:03\r\u001b[K     |██████████████████              | 8.1MB 2.9MB/s eta 0:00:03\r\u001b[K     |██████████████████              | 8.1MB 2.9MB/s eta 0:00:03\r\u001b[K     |██████████████████              | 8.1MB 2.9MB/s eta 0:00:03\r\u001b[K     |██████████████████              | 8.1MB 2.9MB/s eta 0:00:03\r\u001b[K     |██████████████████              | 8.1MB 2.9MB/s eta 0:00:03\r\u001b[K     |██████████████████              | 8.1MB 2.9MB/s eta 0:00:03\r\u001b[K     |██████████████████▏             | 8.1MB 2.9MB/s eta 0:00:03\r\u001b[K     |██████████████████▏             | 8.2MB 2.9MB/s eta 0:00:03\r\u001b[K     |██████████████████▏             | 8.2MB 2.9MB/s eta 0:00:03\r\u001b[K     |██████████████████▏             | 8.2MB 2.9MB/s eta 0:00:03\r\u001b[K     |██████████████████▏             | 8.2MB 2.9MB/s eta 0:00:03",
      "\r\u001b[K     |██████████████████▎             | 8.2MB 2.9MB/s eta 0:00:03\r\u001b[K     |██████████████████▎             | 8.2MB 2.9MB/s eta 0:00:03\r\u001b[K     |██████████████████▎             | 8.2MB 2.9MB/s eta 0:00:03\r\u001b[K     |██████████████████▎             | 8.2MB 2.9MB/s eta 0:00:03\r\u001b[K     |██████████████████▎             | 8.2MB 2.9MB/s eta 0:00:03\r\u001b[K     |██████████████████▍             | 8.2MB 2.9MB/s eta 0:00:03\r\u001b[K     |██████████████████▍             | 8.3MB 2.9MB/s eta 0:00:03\r\u001b[K     |██████████████████▍             | 8.3MB 2.9MB/s eta 0:00:03\r\u001b[K     |██████████████████▍             | 8.3MB 2.9MB/s eta 0:00:03",
      "\r\u001b[K     |██████████████████▍             | 8.3MB 2.9MB/s eta 0:00:03\r\u001b[K     |██████████████████▌             | 8.3MB 2.9MB/s eta 0:00:03\r\u001b[K     |██████████████████▌             | 8.3MB 2.9MB/s eta 0:00:03\r\u001b[K     |██████████████████▌             | 8.3MB 2.9MB/s eta 0:00:03\r\u001b[K     |██████████████████▌             | 8.3MB 2.9MB/s eta 0:00:03\r\u001b[K     |██████████████████▌             | 8.3MB 2.9MB/s eta 0:00:03\r\u001b[K     |██████████████████▋             | 8.3MB 2.9MB/s eta 0:00:03\r\u001b[K     |██████████████████▋             | 8.4MB 2.9MB/s eta 0:00:03\r\u001b[K     |██████████████████▋             | 8.4MB 2.9MB/s eta 0:00:03\r\u001b[K     |██████████████████▋             | 8.4MB 2.9MB/s eta 0:00:03\r\u001b[K     |██████████████████▋             | 8.4MB 2.9MB/s eta 0:00:03\r\u001b[K     |██████████████████▊             | 8.4MB 2.9MB/s eta 0:00:03",
      "\r\u001b[K     |██████████████████▊             | 8.4MB 2.9MB/s eta 0:00:03\r\u001b[K     |██████████████████▊             | 8.4MB 2.9MB/s eta 0:00:03\r\u001b[K     |██████████████████▊             | 8.4MB 2.9MB/s eta 0:00:03\r\u001b[K     |██████████████████▉             | 8.4MB 2.9MB/s eta 0:00:03\r\u001b[K     |██████████████████▉             | 8.4MB 2.9MB/s eta 0:00:03\r\u001b[K     |██████████████████▉             | 8.5MB 2.9MB/s eta 0:00:03\r\u001b[K     |██████████████████▉             | 8.5MB 2.9MB/s eta 0:00:03\r\u001b[K     |██████████████████▉             | 8.5MB 2.9MB/s eta 0:00:03\r\u001b[K     |███████████████████             | 8.5MB 2.9MB/s eta 0:00:03\r\u001b[K     |███████████████████             | 8.5MB 2.9MB/s eta 0:00:03\r\u001b[K     |███████████████████             | 8.5MB 2.9MB/s eta 0:00:03",
      "\r\u001b[K     |███████████████████             | 8.5MB 2.9MB/s eta 0:00:03\r\u001b[K     |███████████████████             | 8.5MB 2.9MB/s eta 0:00:03\r\u001b[K     |███████████████████             | 8.5MB 2.9MB/s eta 0:00:03\r\u001b[K     |███████████████████             | 8.6MB 2.9MB/s eta 0:00:03\r\u001b[K     |███████████████████             | 8.6MB 2.9MB/s eta 0:00:03\r\u001b[K     |███████████████████             | 8.6MB 2.9MB/s eta 0:00:03\r\u001b[K     |███████████████████             | 8.6MB 2.9MB/s eta 0:00:03\r\u001b[K     |███████████████████▏            | 8.6MB 2.9MB/s eta 0:00:03\r\u001b[K     |███████████████████▏            | 8.6MB 2.9MB/s eta 0:00:03\r\u001b[K     |███████████████████▏            | 8.6MB 2.9MB/s eta 0:00:03\r\u001b[K     |███████████████████▏            | 8.6MB 2.9MB/s eta 0:00:03\r\u001b[K     |███████████████████▏            | 8.6MB 2.9MB/s eta 0:00:03\r\u001b[K     |███████████████████▎            | 8.6MB 2.9MB/s eta 0:00:03\r\u001b[K     |███████████████████▎            | 8.7MB 2.9MB/s eta 0:00:03",
      "\r\u001b[K     |███████████████████▎            | 8.7MB 2.9MB/s eta 0:00:03\r\u001b[K     |███████████████████▎            | 8.7MB 2.9MB/s eta 0:00:03\r\u001b[K     |███████████████████▎            | 8.7MB 2.9MB/s eta 0:00:02\r\u001b[K     |███████████████████▍            | 8.7MB 2.9MB/s eta 0:00:02\r\u001b[K     |███████████████████▍            | 8.7MB 2.9MB/s eta 0:00:02\r\u001b[K     |███████████████████▍            | 8.7MB 2.9MB/s eta 0:00:02\r\u001b[K     |███████████████████▍            | 8.7MB 2.9MB/s eta 0:00:02\r\u001b[K     |███████████████████▍            | 8.7MB 2.9MB/s eta 0:00:02",
      "\r\u001b[K     |███████████████████▌            | 8.7MB 2.9MB/s eta 0:00:02\r\u001b[K     |███████████████████▌            | 8.8MB 2.9MB/s eta 0:00:02\r\u001b[K     |███████████████████▌            | 8.8MB 2.9MB/s eta 0:00:02\r\u001b[K     |███████████████████▌            | 8.8MB 1.6MB/s eta 0:00:04\r\u001b[K     |███████████████████▌            | 8.8MB 1.6MB/s eta 0:00:04\r\u001b[K     |███████████████████▋            | 8.8MB 1.6MB/s eta 0:00:04\r\u001b[K     |███████████████████▋            | 8.8MB 1.6MB/s eta 0:00:04\r\u001b[K     |███████████████████▋            | 8.8MB 1.6MB/s eta 0:00:04\r\u001b[K     |███████████████████▋            | 8.8MB 1.6MB/s eta 0:00:04\r\u001b[K     |███████████████████▊            | 8.8MB 1.6MB/s eta 0:00:04\r\u001b[K     |███████████████████▊            | 8.8MB 1.6MB/s eta 0:00:04",
      "\r\u001b[K     |███████████████████▊            | 8.9MB 1.6MB/s eta 0:00:04\r\u001b[K     |███████████████████▊            | 8.9MB 1.6MB/s eta 0:00:04\r\u001b[K     |███████████████████▊            | 8.9MB 1.6MB/s eta 0:00:04\r\u001b[K     |███████████████████▉            | 8.9MB 1.6MB/s eta 0:00:04\r\u001b[K     |███████████████████▉            | 8.9MB 1.6MB/s eta 0:00:04\r\u001b[K     |███████████████████▉            | 8.9MB 1.6MB/s eta 0:00:04\r\u001b[K     |███████████████████▉            | 8.9MB 1.6MB/s eta 0:00:04\r\u001b[K     |███████████████████▉            | 8.9MB 1.6MB/s eta 0:00:04\r\u001b[K     |████████████████████            | 8.9MB 1.6MB/s eta 0:00:04\r\u001b[K     |████████████████████            | 8.9MB 1.6MB/s eta 0:00:04\r\u001b[K     |████████████████████            | 9.0MB 1.6MB/s eta 0:00:04\r\u001b[K     |████████████████████            | 9.0MB 1.6MB/s eta 0:00:04",
      "\r\u001b[K     |████████████████████            | 9.0MB 1.6MB/s eta 0:00:04\r\u001b[K     |████████████████████            | 9.0MB 1.6MB/s eta 0:00:04\r\u001b[K     |████████████████████            | 9.0MB 1.6MB/s eta 0:00:04\r\u001b[K     |████████████████████            | 9.0MB 1.6MB/s eta 0:00:04\r\u001b[K     |████████████████████            | 9.0MB 1.6MB/s eta 0:00:04\r\u001b[K     |████████████████████            | 9.0MB 1.6MB/s eta 0:00:04\r\u001b[K     |████████████████████▏           | 9.0MB 1.6MB/s eta 0:00:04\r\u001b[K     |████████████████████▏           | 9.1MB 1.6MB/s eta 0:00:04\r\u001b[K     |████████████████████▏           | 9.1MB 1.6MB/s eta 0:00:04\r\u001b[K     |████████████████████▏           | 9.1MB 1.6MB/s eta 0:00:04\r\u001b[K     |████████████████████▏           | 9.1MB 1.6MB/s eta 0:00:04\r\u001b[K     |████████████████████▎           | 9.1MB 1.6MB/s eta 0:00:04",
      "\r\u001b[K     |████████████████████▎           | 9.1MB 1.6MB/s eta 0:00:04\r\u001b[K     |████████████████████▎           | 9.1MB 1.6MB/s eta 0:00:04\r\u001b[K     |████████████████████▎           | 9.1MB 1.6MB/s eta 0:00:04\r\u001b[K     |████████████████████▎           | 9.1MB 1.6MB/s eta 0:00:04\r\u001b[K     |████████████████████▍           | 9.1MB 1.6MB/s eta 0:00:04\r\u001b[K     |████████████████████▍           | 9.2MB 1.6MB/s eta 0:00:04\r\u001b[K     |████████████████████▍           | 9.2MB 1.6MB/s eta 0:00:04",
      "\r\u001b[K     |████████████████████▍           | 9.2MB 1.6MB/s eta 0:00:04\r\u001b[K     |████████████████████▍           | 9.2MB 1.6MB/s eta 0:00:04\r\u001b[K     |████████████████████▌           | 9.2MB 1.6MB/s eta 0:00:04\r\u001b[K     |████████████████████▌           | 9.2MB 1.6MB/s eta 0:00:04\r\u001b[K     |████████████████████▌           | 9.2MB 1.6MB/s eta 0:00:04\r\u001b[K     |████████████████████▌           | 9.2MB 1.6MB/s eta 0:00:04\r\u001b[K     |████████████████████▋           | 9.2MB 1.6MB/s eta 0:00:04\r\u001b[K     |████████████████████▋           | 9.2MB 1.6MB/s eta 0:00:04\r\u001b[K     |████████████████████▋           | 9.3MB 1.6MB/s eta 0:00:04\r\u001b[K     |████████████████████▋           | 9.3MB 1.6MB/s eta 0:00:04\r\u001b[K     |████████████████████▋           | 9.3MB 1.6MB/s eta 0:00:04\r\u001b[K     |████████████████████▊           | 9.3MB 1.6MB/s eta 0:00:04",
      "\r\u001b[K     |████████████████████▊           | 9.3MB 1.6MB/s eta 0:00:04\r\u001b[K     |████████████████████▊           | 9.3MB 1.6MB/s eta 0:00:04\r\u001b[K     |████████████████████▊           | 9.3MB 1.6MB/s eta 0:00:04\r\u001b[K     |████████████████████▊           | 9.3MB 1.6MB/s eta 0:00:04\r\u001b[K     |████████████████████▉           | 9.3MB 1.6MB/s eta 0:00:04\r\u001b[K     |████████████████████▉           | 9.3MB 1.6MB/s eta 0:00:04\r\u001b[K     |████████████████████▉           | 9.4MB 1.6MB/s eta 0:00:04\r\u001b[K     |████████████████████▉           | 9.4MB 1.6MB/s eta 0:00:04",
      "\r\u001b[K     |████████████████████▉           | 9.4MB 1.6MB/s eta 0:00:04\r\u001b[K     |█████████████████████           | 9.4MB 1.6MB/s eta 0:00:04\r\u001b[K     |█████████████████████           | 9.4MB 1.6MB/s eta 0:00:04\r\u001b[K     |█████████████████████           | 9.4MB 1.6MB/s eta 0:00:04\r\u001b[K     |█████████████████████           | 9.4MB 1.6MB/s eta 0:00:04\r\u001b[K     |█████████████████████           | 9.4MB 1.6MB/s eta 0:00:04\r\u001b[K     |█████████████████████           | 9.4MB 1.6MB/s eta 0:00:04\r\u001b[K     |█████████████████████           | 9.5MB 1.6MB/s eta 0:00:04\r\u001b[K     |█████████████████████           | 9.5MB 1.6MB/s eta 0:00:03\r\u001b[K     |█████████████████████           | 9.5MB 1.6MB/s eta 0:00:03\r\u001b[K     |█████████████████████           | 9.5MB 1.6MB/s eta 0:00:03",
      "\r\u001b[K     |█████████████████████▏          | 9.5MB 1.6MB/s eta 0:00:03\r\u001b[K     |█████████████████████▏          | 9.5MB 1.6MB/s eta 0:00:03\r\u001b[K     |█████████████████████▏          | 9.5MB 1.6MB/s eta 0:00:03\r\u001b[K     |█████████████████████▏          | 9.5MB 1.6MB/s eta 0:00:03\r\u001b[K     |█████████████████████▏          | 9.5MB 1.6MB/s eta 0:00:03\r\u001b[K     |█████████████████████▎          | 9.5MB 1.6MB/s eta 0:00:03\r\u001b[K     |█████████████████████▎          | 9.6MB 1.6MB/s eta 0:00:03\r\u001b[K     |█████████████████████▎          | 9.6MB 1.6MB/s eta 0:00:03\r\u001b[K     |█████████████████████▎          | 9.6MB 1.6MB/s eta 0:00:03\r\u001b[K     |█████████████████████▎          | 9.6MB 1.6MB/s eta 0:00:03\r\u001b[K     |█████████████████████▍          | 9.6MB 1.6MB/s eta 0:00:03\r\u001b[K     |█████████████████████▍          | 9.6MB 1.6MB/s eta 0:00:03\r\u001b[K     |█████████████████████▍          | 9.6MB 1.6MB/s eta 0:00:03\r\u001b[K     |█████████████████████▍          | 9.6MB 1.6MB/s eta 0:00:03\r\u001b[K     |█████████████████████▌          | 9.6MB 1.6MB/s eta 0:00:03\r\u001b[K     |█████████████████████▌          | 9.6MB 1.6MB/s eta 0:00:03\r\u001b[K     |█████████████████████▌          | 9.7MB 1.6MB/s eta 0:00:03\r\u001b[K     |█████████████████████▌          | 9.7MB 1.6MB/s eta 0:00:03\r\u001b[K     |█████████████████████▌          | 9.7MB 1.6MB/s eta 0:00:03\r\u001b[K     |█████████████████████▋          | 9.7MB 1.6MB/s eta 0:00:03\r\u001b[K     |█████████████████████▋          | 9.7MB 1.6MB/s eta 0:00:03\r\u001b[K     |█████████████████████▋          | 9.7MB 1.6MB/s eta 0:00:03\r\u001b[K     |█████████████████████▋          | 9.7MB 1.6MB/s eta 0:00:03\r\u001b[K     |█████████████████████▋          | 9.7MB 1.6MB/s eta 0:00:03\r\u001b[K     |█████████████████████▊          | 9.7MB 1.6MB/s eta 0:00:03\r\u001b[K     |█████████████████████▊          | 9.7MB 1.6MB/s eta 0:00:03\r\u001b[K     |█████████████████████▊          | 9.8MB 1.6MB/s eta 0:00:03\r\u001b[K     |█████████████████████▊          | 9.8MB 1.6MB/s eta 0:00:03\r\u001b[K     |█████████████████████▊          | 9.8MB 1.6MB/s eta 0:00:03\r\u001b[K     |█████████████████████▉          | 9.8MB 1.6MB/s eta 0:00:03\r\u001b[K     |█████████████████████▉          | 9.8MB 1.6MB/s eta 0:00:03\r\u001b[K     |█████████████████████▉          | 9.8MB 1.6MB/s eta 0:00:03\r\u001b[K     |█████████████████████▉          | 9.8MB 1.6MB/s eta 0:00:03\r\u001b[K     |█████████████████████▉          | 9.8MB 1.6MB/s eta 0:00:03\r\u001b[K     |██████████████████████          | 9.8MB 1.6MB/s eta 0:00:03\r\u001b[K     |██████████████████████          | 9.9MB 1.6MB/s eta 0:00:03\r\u001b[K     |██████████████████████          | 9.9MB 1.6MB/s eta 0:00:03\r\u001b[K     |██████████████████████          | 9.9MB 1.6MB/s eta 0:00:03\r\u001b[K     |██████████████████████          | 9.9MB 1.6MB/s eta 0:00:03\r\u001b[K     |██████████████████████          | 9.9MB 1.6MB/s eta 0:00:03\r\u001b[K     |██████████████████████          | 9.9MB 1.6MB/s eta 0:00:03\r\u001b[K     |██████████████████████          | 9.9MB 1.6MB/s eta 0:00:03\r\u001b[K     |██████████████████████          | 9.9MB 1.6MB/s eta 0:00:03\r\u001b[K     |██████████████████████          | 9.9MB 1.6MB/s eta 0:00:03",
      "\r\u001b[K     |██████████████████████▏         | 9.9MB 1.6MB/s eta 0:00:03\r\u001b[K     |██████████████████████▏         | 10.0MB 1.6MB/s eta 0:00:03\r\u001b[K     |██████████████████████▏         | 10.0MB 1.6MB/s eta 0:00:03\r\u001b[K     |██████████████████████▏         | 10.0MB 1.6MB/s eta 0:00:03\r\u001b[K     |██████████████████████▏         | 10.0MB 1.6MB/s eta 0:00:03\r\u001b[K     |██████████████████████▎         | 10.0MB 1.6MB/s eta 0:00:03\r\u001b[K     |██████████████████████▎         | 10.0MB 1.6MB/s eta 0:00:03\r\u001b[K     |██████████████████████▎         | 10.0MB 1.6MB/s eta 0:00:03\r\u001b[K     |██████████████████████▎         | 10.0MB 1.6MB/s eta 0:00:03\r\u001b[K     |██████████████████████▍         | 10.0MB 1.6MB/s eta 0:00:03\r\u001b[K     |██████████████████████▍         | 10.0MB 1.6MB/s eta 0:00:03",
      "\r\u001b[K     |██████████████████████▍         | 10.1MB 1.6MB/s eta 0:00:03\r\u001b[K     |██████████████████████▍         | 10.1MB 1.6MB/s eta 0:00:03\r\u001b[K     |██████████████████████▍         | 10.1MB 1.6MB/s eta 0:00:03\r\u001b[K     |██████████████████████▌         | 10.1MB 1.6MB/s eta 0:00:03\r\u001b[K     |██████████████████████▌         | 10.1MB 1.6MB/s eta 0:00:03\r\u001b[K     |██████████████████████▌         | 10.1MB 1.6MB/s eta 0:00:03\r\u001b[K     |██████████████████████▌         | 10.1MB 1.6MB/s eta 0:00:03\r\u001b[K     |██████████████████████▌         | 10.1MB 1.6MB/s eta 0:00:03\r\u001b[K     |██████████████████████▋         | 10.1MB 1.6MB/s eta 0:00:03\r\u001b[K     |██████████████████████▋         | 10.1MB 1.6MB/s eta 0:00:03",
      "\r\u001b[K     |██████████████████████▋         | 10.2MB 1.6MB/s eta 0:00:03\r\u001b[K     |██████████████████████▋         | 10.2MB 1.6MB/s eta 0:00:03\r\u001b[K     |██████████████████████▋         | 10.2MB 1.6MB/s eta 0:00:03\r\u001b[K     |██████████████████████▊         | 10.2MB 1.6MB/s eta 0:00:03\r\u001b[K     |██████████████████████▊         | 10.2MB 1.6MB/s eta 0:00:03\r\u001b[K     |██████████████████████▊         | 10.2MB 1.6MB/s eta 0:00:03\r\u001b[K     |██████████████████████▊         | 10.2MB 1.6MB/s eta 0:00:03\r\u001b[K     |██████████████████████▊         | 10.2MB 1.6MB/s eta 0:00:03\r\u001b[K     |██████████████████████▉         | 10.2MB 1.6MB/s eta 0:00:03",
      "\r\u001b[K     |██████████████████████▉         | 10.3MB 1.6MB/s eta 0:00:03\r\u001b[K     |██████████████████████▉         | 10.3MB 1.6MB/s eta 0:00:03\r\u001b[K     |██████████████████████▉         | 10.3MB 1.6MB/s eta 0:00:03\r\u001b[K     |██████████████████████▉         | 10.3MB 1.6MB/s eta 0:00:03\r\u001b[K     |███████████████████████         | 10.3MB 1.6MB/s eta 0:00:03\r\u001b[K     |███████████████████████         | 10.3MB 1.6MB/s eta 0:00:03\r\u001b[K     |███████████████████████         | 10.3MB 1.6MB/s eta 0:00:03\r\u001b[K     |███████████████████████         | 10.3MB 1.6MB/s eta 0:00:03\r\u001b[K     |███████████████████████         | 10.3MB 1.6MB/s eta 0:00:03\r\u001b[K     |███████████████████████         | 10.3MB 1.6MB/s eta 0:00:03\r\u001b[K     |███████████████████████         | 10.4MB 1.6MB/s eta 0:00:03",
      "\r\u001b[K     |███████████████████████         | 10.4MB 1.6MB/s eta 0:00:03\r\u001b[K     |███████████████████████         | 10.4MB 1.6MB/s eta 0:00:03\r\u001b[K     |███████████████████████         | 10.4MB 1.6MB/s eta 0:00:03\r\u001b[K     |███████████████████████▏        | 10.4MB 1.6MB/s eta 0:00:03\r\u001b[K     |███████████████████████▏        | 10.4MB 1.6MB/s eta 0:00:03\r\u001b[K     |███████████████████████▏        | 10.4MB 1.6MB/s eta 0:00:03\r\u001b[K     |███████████████████████▏        | 10.4MB 1.6MB/s eta 0:00:03\r\u001b[K     |███████████████████████▎        | 10.4MB 1.6MB/s eta 0:00:03",
      "\r\u001b[K     |███████████████████████▎        | 10.4MB 1.6MB/s eta 0:00:03\r\u001b[K     |███████████████████████▎        | 10.5MB 1.6MB/s eta 0:00:03\r\u001b[K     |███████████████████████▎        | 10.5MB 1.6MB/s eta 0:00:03\r\u001b[K     |███████████████████████▎        | 10.5MB 1.6MB/s eta 0:00:03\r\u001b[K     |███████████████████████▍        | 10.5MB 1.6MB/s eta 0:00:03\r\u001b[K     |███████████████████████▍        | 10.5MB 1.6MB/s eta 0:00:03\r\u001b[K     |███████████████████████▍        | 10.5MB 1.6MB/s eta 0:00:03\r\u001b[K     |███████████████████████▍        | 10.5MB 1.6MB/s eta 0:00:03\r\u001b[K     |███████████████████████▍        | 10.5MB 1.6MB/s eta 0:00:03\r\u001b[K     |███████████████████████▌        | 10.5MB 1.6MB/s eta 0:00:03\r\u001b[K     |███████████████████████▌        | 10.5MB 1.6MB/s eta 0:00:03",
      "\r\u001b[K     |███████████████████████▌        | 10.6MB 1.6MB/s eta 0:00:03\r\u001b[K     |███████████████████████▌        | 10.6MB 1.6MB/s eta 0:00:03\r\u001b[K     |███████████████████████▌        | 10.6MB 1.6MB/s eta 0:00:03\r\u001b[K     |███████████████████████▋        | 10.6MB 1.6MB/s eta 0:00:03\r\u001b[K     |███████████████████████▋        | 10.6MB 1.6MB/s eta 0:00:03\r\u001b[K     |███████████████████████▋        | 10.6MB 1.6MB/s eta 0:00:03\r\u001b[K     |███████████████████████▋        | 10.6MB 1.6MB/s eta 0:00:03\r\u001b[K     |███████████████████████▋        | 10.6MB 1.6MB/s eta 0:00:03\r\u001b[K     |███████████████████████▊        | 10.6MB 1.6MB/s eta 0:00:03\r\u001b[K     |███████████████████████▊        | 10.6MB 1.6MB/s eta 0:00:03\r\u001b[K     |███████████████████████▊        | 10.7MB 1.6MB/s eta 0:00:03",
      "\r\u001b[K     |███████████████████████▊        | 10.7MB 1.6MB/s eta 0:00:03\r\u001b[K     |███████████████████████▊        | 10.7MB 1.6MB/s eta 0:00:03\r\u001b[K     |███████████████████████▉        | 10.7MB 1.6MB/s eta 0:00:03\r\u001b[K     |███████████████████████▉        | 10.7MB 1.6MB/s eta 0:00:03\r\u001b[K     |███████████████████████▉        | 10.7MB 1.6MB/s eta 0:00:03\r\u001b[K     |███████████████████████▉        | 10.7MB 1.6MB/s eta 0:00:03\r\u001b[K     |███████████████████████▉        | 10.7MB 1.6MB/s eta 0:00:03\r\u001b[K     |████████████████████████        | 10.7MB 1.6MB/s eta 0:00:03\r\u001b[K     |████████████████████████        | 10.8MB 1.6MB/s eta 0:00:03\r\u001b[K     |████████████████████████        | 10.8MB 1.6MB/s eta 0:00:03\r\u001b[K     |████████████████████████        | 10.8MB 1.6MB/s eta 0:00:03\r\u001b[K     |████████████████████████        | 10.8MB 1.6MB/s eta 0:00:03\r\u001b[K     |████████████████████████        | 10.8MB 1.6MB/s eta 0:00:03",
      "\r\u001b[K     |████████████████████████        | 10.8MB 1.6MB/s eta 0:00:03\r\u001b[K     |████████████████████████        | 10.8MB 1.6MB/s eta 0:00:03\r\u001b[K     |████████████████████████        | 10.8MB 1.6MB/s eta 0:00:03\r\u001b[K     |████████████████████████▏       | 10.8MB 1.6MB/s eta 0:00:03\r\u001b[K     |████████████████████████▏       | 10.8MB 1.6MB/s eta 0:00:03\r\u001b[K     |████████████████████████▏       | 10.9MB 1.6MB/s eta 0:00:03\r\u001b[K     |████████████████████████▏       | 10.9MB 1.6MB/s eta 0:00:03\r\u001b[K     |████████████████████████▏       | 10.9MB 2.6MB/s eta 0:00:02\r\u001b[K     |████████████████████████▎       | 10.9MB 2.6MB/s eta 0:00:02\r\u001b[K     |████████████████████████▎       | 10.9MB 2.6MB/s eta 0:00:02\r\u001b[K     |████████████████████████▎       | 10.9MB 2.6MB/s eta 0:00:02",
      "\r\u001b[K     |████████████████████████▎       | 10.9MB 2.6MB/s eta 0:00:02\r\u001b[K     |████████████████████████▎       | 10.9MB 2.6MB/s eta 0:00:02\r\u001b[K     |████████████████████████▍       | 10.9MB 2.6MB/s eta 0:00:02\r\u001b[K     |████████████████████████▍       | 10.9MB 2.6MB/s eta 0:00:02\r\u001b[K     |████████████████████████▍       | 11.0MB 2.6MB/s eta 0:00:02\r\u001b[K     |████████████████████████▍       | 11.0MB 2.6MB/s eta 0:00:02\r\u001b[K     |████████████████████████▍       | 11.0MB 2.6MB/s eta 0:00:02\r\u001b[K     |████████████████████████▌       | 11.0MB 2.6MB/s eta 0:00:02\r\u001b[K     |████████████████████████▌       | 11.0MB 2.6MB/s eta 0:00:02\r\u001b[K     |████████████████████████▌       | 11.0MB 2.6MB/s eta 0:00:02\r\u001b[K     |████████████████████████▌       | 11.0MB 2.6MB/s eta 0:00:02",
      "\r\u001b[K     |████████████████████████▌       | 11.0MB 2.6MB/s eta 0:00:02\r\u001b[K     |████████████████████████▋       | 11.0MB 2.6MB/s eta 0:00:02\r\u001b[K     |████████████████████████▋       | 11.0MB 2.6MB/s eta 0:00:02\r\u001b[K     |████████████████████████▋       | 11.1MB 2.6MB/s eta 0:00:02\r\u001b[K     |████████████████████████▋       | 11.1MB 2.6MB/s eta 0:00:02\r\u001b[K     |████████████████████████▋       | 11.1MB 2.6MB/s eta 0:00:02\r\u001b[K     |████████████████████████▊       | 11.1MB 2.6MB/s eta 0:00:02\r\u001b[K     |████████████████████████▊       | 11.1MB 2.6MB/s eta 0:00:02\r\u001b[K     |████████████████████████▊       | 11.1MB 2.6MB/s eta 0:00:02\r\u001b[K     |████████████████████████▊       | 11.1MB 2.6MB/s eta 0:00:02\r\u001b[K     |████████████████████████▊       | 11.1MB 2.6MB/s eta 0:00:02",
      "\r\u001b[K     |████████████████████████▉       | 11.1MB 2.6MB/s eta 0:00:02\r\u001b[K     |████████████████████████▉       | 11.2MB 2.6MB/s eta 0:00:02\r\u001b[K     |████████████████████████▉       | 11.2MB 2.6MB/s eta 0:00:02\r\u001b[K     |████████████████████████▉       | 11.2MB 2.6MB/s eta 0:00:02\r\u001b[K     |████████████████████████▉       | 11.2MB 2.6MB/s eta 0:00:02\r\u001b[K     |█████████████████████████       | 11.2MB 2.6MB/s eta 0:00:02\r\u001b[K     |█████████████████████████       | 11.2MB 2.6MB/s eta 0:00:02\r\u001b[K     |█████████████████████████       | 11.2MB 2.6MB/s eta 0:00:02\r\u001b[K     |█████████████████████████       | 11.2MB 2.6MB/s eta 0:00:02\r\u001b[K     |█████████████████████████       | 11.2MB 2.6MB/s eta 0:00:02\r\u001b[K     |█████████████████████████       | 11.2MB 2.6MB/s eta 0:00:02",
      "\r\u001b[K     |█████████████████████████       | 11.3MB 2.6MB/s eta 0:00:02\r\u001b[K     |█████████████████████████       | 11.3MB 2.6MB/s eta 0:00:02\r\u001b[K     |█████████████████████████       | 11.3MB 2.6MB/s eta 0:00:02\r\u001b[K     |█████████████████████████▏      | 11.3MB 2.6MB/s eta 0:00:02\r\u001b[K     |█████████████████████████▏      | 11.3MB 2.6MB/s eta 0:00:02\r\u001b[K     |█████████████████████████▏      | 11.3MB 2.6MB/s eta 0:00:02\r\u001b[K     |█████████████████████████▏      | 11.3MB 2.6MB/s eta 0:00:02\r\u001b[K     |█████████████████████████▏      | 11.3MB 2.6MB/s eta 0:00:02\r\u001b[K     |█████████████████████████▎      | 11.3MB 2.6MB/s eta 0:00:02\r\u001b[K     |█████████████████████████▎      | 11.3MB 2.6MB/s eta 0:00:02\r\u001b[K     |█████████████████████████▎      | 11.4MB 2.6MB/s eta 0:00:02\r\u001b[K     |█████████████████████████▎      | 11.4MB 2.6MB/s eta 0:00:02\r\u001b[K     |█████████████████████████▎      | 11.4MB 2.6MB/s eta 0:00:02\r\u001b[K     |█████████████████████████▍      | 11.4MB 2.6MB/s eta 0:00:02",
      "\r\u001b[K     |█████████████████████████▍      | 11.4MB 2.6MB/s eta 0:00:02\r\u001b[K     |█████████████████████████▍      | 11.4MB 2.6MB/s eta 0:00:02\r\u001b[K     |█████████████████████████▍      | 11.4MB 2.6MB/s eta 0:00:02\r\u001b[K     |█████████████████████████▍      | 11.4MB 2.6MB/s eta 0:00:02\r\u001b[K     |█████████████████████████▌      | 11.4MB 2.6MB/s eta 0:00:02\r\u001b[K     |█████████████████████████▌      | 11.4MB 2.6MB/s eta 0:00:02\r\u001b[K     |█████████████████████████▌      | 11.5MB 2.6MB/s eta 0:00:02\r\u001b[K     |█████████████████████████▌      | 11.5MB 2.6MB/s eta 0:00:02\r\u001b[K     |█████████████████████████▌      | 11.5MB 2.6MB/s eta 0:00:02\r\u001b[K     |█████████████████████████▋      | 11.5MB 2.6MB/s eta 0:00:02\r\u001b[K     |█████████████████████████▋      | 11.5MB 2.6MB/s eta 0:00:02\r\u001b[K     |█████████████████████████▋      | 11.5MB 2.6MB/s eta 0:00:02",
      "\r\u001b[K     |█████████████████████████▋      | 11.5MB 2.6MB/s eta 0:00:02\r\u001b[K     |█████████████████████████▋      | 11.5MB 2.6MB/s eta 0:00:02\r\u001b[K     |█████████████████████████▊      | 11.5MB 2.6MB/s eta 0:00:02\r\u001b[K     |█████████████████████████▊      | 11.6MB 2.6MB/s eta 0:00:02\r\u001b[K     |█████████████████████████▊      | 11.6MB 2.6MB/s eta 0:00:02\r\u001b[K     |█████████████████████████▊      | 11.6MB 2.6MB/s eta 0:00:02\r\u001b[K     |█████████████████████████▊      | 11.6MB 2.6MB/s eta 0:00:02\r\u001b[K     |█████████████████████████▉      | 11.6MB 2.6MB/s eta 0:00:02\r\u001b[K     |█████████████████████████▉      | 11.6MB 2.6MB/s eta 0:00:02\r\u001b[K     |█████████████████████████▉      | 11.6MB 2.6MB/s eta 0:00:02\r\u001b[K     |█████████████████████████▉      | 11.6MB 2.6MB/s eta 0:00:02\r\u001b[K     |██████████████████████████      | 11.6MB 2.6MB/s eta 0:00:02",
      "\r\u001b[K     |██████████████████████████      | 11.6MB 2.6MB/s eta 0:00:02\r\u001b[K     |██████████████████████████      | 11.7MB 2.6MB/s eta 0:00:02\r\u001b[K     |██████████████████████████      | 11.7MB 2.6MB/s eta 0:00:02\r\u001b[K     |██████████████████████████      | 11.7MB 2.6MB/s eta 0:00:02\r\u001b[K     |██████████████████████████      | 11.7MB 2.6MB/s eta 0:00:02\r\u001b[K     |██████████████████████████      | 11.7MB 2.6MB/s eta 0:00:02\r\u001b[K     |██████████████████████████      | 11.7MB 2.6MB/s eta 0:00:02\r\u001b[K     |██████████████████████████      | 11.7MB 2.6MB/s eta 0:00:02\r\u001b[K     |██████████████████████████      | 11.7MB 2.6MB/s eta 0:00:02\r\u001b[K     |██████████████████████████▏     | 11.7MB 2.6MB/s eta 0:00:02\r\u001b[K     |██████████████████████████▏     | 11.7MB 2.6MB/s eta 0:00:02\r\u001b[K     |██████████████████████████▏     | 11.8MB 2.6MB/s eta 0:00:02\r\u001b[K     |██████████████████████████▏     | 11.8MB 2.6MB/s eta 0:00:02",
      "\r\u001b[K     |██████████████████████████▏     | 11.8MB 2.6MB/s eta 0:00:02\r\u001b[K     |██████████████████████████▎     | 11.8MB 2.6MB/s eta 0:00:02\r\u001b[K     |██████████████████████████▎     | 11.8MB 2.6MB/s eta 0:00:02\r\u001b[K     |██████████████████████████▎     | 11.8MB 2.6MB/s eta 0:00:02\r\u001b[K     |██████████████████████████▎     | 11.8MB 2.6MB/s eta 0:00:02\r\u001b[K     |██████████████████████████▎     | 11.8MB 2.6MB/s eta 0:00:01\r\u001b[K     |██████████████████████████▍     | 11.8MB 2.6MB/s eta 0:00:01\r\u001b[K     |██████████████████████████▍     | 11.8MB 2.6MB/s eta 0:00:01\r\u001b[K     |██████████████████████████▍     | 11.9MB 2.6MB/s eta 0:00:01\r\u001b[K     |██████████████████████████▍     | 11.9MB 2.6MB/s eta 0:00:01\r\u001b[K     |██████████████████████████▍     | 11.9MB 2.6MB/s eta 0:00:01\r\u001b[K     |██████████████████████████▌     | 11.9MB 2.6MB/s eta 0:00:01\r\u001b[K     |██████████████████████████▌     | 11.9MB 2.6MB/s eta 0:00:01\r\u001b[K     |██████████████████████████▌     | 11.9MB 2.6MB/s eta 0:00:01",
      "\r\u001b[K     |██████████████████████████▌     | 11.9MB 2.6MB/s eta 0:00:01\r\u001b[K     |██████████████████████████▌     | 11.9MB 2.6MB/s eta 0:00:01\r\u001b[K     |██████████████████████████▋     | 11.9MB 2.6MB/s eta 0:00:01\r\u001b[K     |██████████████████████████▋     | 12.0MB 2.6MB/s eta 0:00:01\r\u001b[K     |██████████████████████████▋     | 12.0MB 2.6MB/s eta 0:00:01\r\u001b[K     |██████████████████████████▋     | 12.0MB 2.6MB/s eta 0:00:01\r\u001b[K     |██████████████████████████▋     | 12.0MB 2.6MB/s eta 0:00:01\r\u001b[K     |██████████████████████████▊     | 12.0MB 2.6MB/s eta 0:00:01\r\u001b[K     |██████████████████████████▊     | 12.0MB 2.6MB/s eta 0:00:01\r\u001b[K     |██████████████████████████▊     | 12.0MB 2.6MB/s eta 0:00:01\r\u001b[K     |██████████████████████████▊     | 12.0MB 2.6MB/s eta 0:00:01",
      "\r\u001b[K     |██████████████████████████▉     | 12.0MB 2.6MB/s eta 0:00:01\r\u001b[K     |██████████████████████████▉     | 12.0MB 2.6MB/s eta 0:00:01\r\u001b[K     |██████████████████████████▉     | 12.1MB 2.6MB/s eta 0:00:01\r\u001b[K     |██████████████████████████▉     | 12.1MB 2.6MB/s eta 0:00:01\r\u001b[K     |██████████████████████████▉     | 12.1MB 2.6MB/s eta 0:00:01\r\u001b[K     |███████████████████████████     | 12.1MB 2.6MB/s eta 0:00:01\r\u001b[K     |███████████████████████████     | 12.1MB 2.6MB/s eta 0:00:01\r\u001b[K     |███████████████████████████     | 12.1MB 2.6MB/s eta 0:00:01\r\u001b[K     |███████████████████████████     | 12.1MB 2.6MB/s eta 0:00:01\r\u001b[K     |███████████████████████████     | 12.1MB 2.6MB/s eta 0:00:01\r\u001b[K     |███████████████████████████     | 12.1MB 2.6MB/s eta 0:00:01\r\u001b[K     |███████████████████████████     | 12.1MB 2.6MB/s eta 0:00:01\r\u001b[K     |███████████████████████████     | 12.2MB 2.6MB/s eta 0:00:01",
      "\r\u001b[K     |███████████████████████████     | 12.2MB 2.6MB/s eta 0:00:01\r\u001b[K     |███████████████████████████     | 12.2MB 2.6MB/s eta 0:00:01\r\u001b[K     |███████████████████████████▏    | 12.2MB 2.6MB/s eta 0:00:01\r\u001b[K     |███████████████████████████▏    | 12.2MB 2.6MB/s eta 0:00:01\r\u001b[K     |███████████████████████████▏    | 12.2MB 2.6MB/s eta 0:00:01\r\u001b[K     |███████████████████████████▏    | 12.2MB 2.6MB/s eta 0:00:01\r\u001b[K     |███████████████████████████▏    | 12.2MB 2.6MB/s eta 0:00:01\r\u001b[K     |███████████████████████████▎    | 12.2MB 2.6MB/s eta 0:00:01\r\u001b[K     |███████████████████████████▎    | 12.2MB 2.6MB/s eta 0:00:01\r\u001b[K     |███████████████████████████▎    | 12.3MB 2.6MB/s eta 0:00:01\r\u001b[K     |███████████████████████████▎    | 12.3MB 2.6MB/s eta 0:00:01",
      "\r\u001b[K     |███████████████████████████▎    | 12.3MB 2.6MB/s eta 0:00:01\r\u001b[K     |███████████████████████████▍    | 12.3MB 2.6MB/s eta 0:00:01\r\u001b[K     |███████████████████████████▍    | 12.3MB 2.6MB/s eta 0:00:01\r\u001b[K     |███████████████████████████▍    | 12.3MB 2.6MB/s eta 0:00:01\r\u001b[K     |███████████████████████████▍    | 12.3MB 2.6MB/s eta 0:00:01\r\u001b[K     |███████████████████████████▍    | 12.3MB 2.6MB/s eta 0:00:01\r\u001b[K     |███████████████████████████▌    | 12.3MB 2.6MB/s eta 0:00:01\r\u001b[K     |███████████████████████████▌    | 12.3MB 2.6MB/s eta 0:00:01\r\u001b[K     |███████████████████████████▌    | 12.4MB 2.6MB/s eta 0:00:01\r\u001b[K     |███████████████████████████▌    | 12.4MB 2.6MB/s eta 0:00:01\r\u001b[K     |███████████████████████████▌    | 12.4MB 2.6MB/s eta 0:00:01\r\u001b[K     |███████████████████████████▋    | 12.4MB 2.6MB/s eta 0:00:01\r\u001b[K     |███████████████████████████▋    | 12.4MB 2.6MB/s eta 0:00:01\r\u001b[K     |███████████████████████████▋    | 12.4MB 2.6MB/s eta 0:00:01\r\u001b[K     |███████████████████████████▋    | 12.4MB 2.6MB/s eta 0:00:01",
      "\r\u001b[K     |███████████████████████████▊    | 12.4MB 2.6MB/s eta 0:00:01\r\u001b[K     |███████████████████████████▊    | 12.4MB 2.6MB/s eta 0:00:01\r\u001b[K     |███████████████████████████▊    | 12.5MB 2.6MB/s eta 0:00:01\r\u001b[K     |███████████████████████████▊    | 12.5MB 2.6MB/s eta 0:00:01\r\u001b[K     |███████████████████████████▊    | 12.5MB 2.6MB/s eta 0:00:01\r\u001b[K     |███████████████████████████▉    | 12.5MB 2.6MB/s eta 0:00:01\r\u001b[K     |███████████████████████████▉    | 12.5MB 2.6MB/s eta 0:00:01\r\u001b[K     |███████████████████████████▉    | 12.5MB 2.6MB/s eta 0:00:01\r\u001b[K     |███████████████████████████▉    | 12.5MB 2.6MB/s eta 0:00:01\r\u001b[K     |███████████████████████████▉    | 12.5MB 2.6MB/s eta 0:00:01\r\u001b[K     |████████████████████████████    | 12.5MB 2.6MB/s eta 0:00:01\r\u001b[K     |████████████████████████████    | 12.5MB 2.6MB/s eta 0:00:01",
      "\r\u001b[K     |████████████████████████████    | 12.6MB 2.6MB/s eta 0:00:01\r\u001b[K     |████████████████████████████    | 12.6MB 2.6MB/s eta 0:00:01\r\u001b[K     |████████████████████████████    | 12.6MB 2.6MB/s eta 0:00:01\r\u001b[K     |████████████████████████████    | 12.6MB 2.6MB/s eta 0:00:01\r\u001b[K     |████████████████████████████    | 12.6MB 2.6MB/s eta 0:00:01\r\u001b[K     |████████████████████████████    | 12.6MB 2.6MB/s eta 0:00:01\r\u001b[K     |████████████████████████████    | 12.6MB 2.6MB/s eta 0:00:01\r\u001b[K     |████████████████████████████    | 12.6MB 2.6MB/s eta 0:00:01\r\u001b[K     |████████████████████████████▏   | 12.6MB 2.6MB/s eta 0:00:01\r\u001b[K     |████████████████████████████▏   | 12.6MB 2.6MB/s eta 0:00:01\r\u001b[K     |████████████████████████████▏   | 12.7MB 2.6MB/s eta 0:00:01\r\u001b[K     |████████████████████████████▏   | 12.7MB 2.6MB/s eta 0:00:01\r\u001b[K     |████████████████████████████▏   | 12.7MB 2.6MB/s eta 0:00:01\r\u001b[K     |████████████████████████████▎   | 12.7MB 2.6MB/s eta 0:00:01\r\u001b[K     |████████████████████████████▎   | 12.7MB 2.6MB/s eta 0:00:01",
      "\r\u001b[K     |████████████████████████████▎   | 12.7MB 2.6MB/s eta 0:00:01\r\u001b[K     |████████████████████████████▎   | 12.7MB 2.6MB/s eta 0:00:01\r\u001b[K     |████████████████████████████▎   | 12.7MB 2.6MB/s eta 0:00:01\r\u001b[K     |████████████████████████████▍   | 12.7MB 2.6MB/s eta 0:00:01\r\u001b[K     |████████████████████████████▍   | 12.7MB 2.6MB/s eta 0:00:01\r\u001b[K     |████████████████████████████▍   | 12.8MB 2.6MB/s eta 0:00:01\r\u001b[K     |████████████████████████████▍   | 12.8MB 2.6MB/s eta 0:00:01\r\u001b[K     |████████████████████████████▍   | 12.8MB 2.6MB/s eta 0:00:01\r\u001b[K     |████████████████████████████▌   | 12.8MB 2.6MB/s eta 0:00:01\r\u001b[K     |████████████████████████████▌   | 12.8MB 2.6MB/s eta 0:00:01\r\u001b[K     |████████████████████████████▌   | 12.8MB 2.6MB/s eta 0:00:01",
      "\r\u001b[K     |████████████████████████████▌   | 12.8MB 2.6MB/s eta 0:00:01\r\u001b[K     |████████████████████████████▋   | 12.8MB 2.6MB/s eta 0:00:01\r\u001b[K     |████████████████████████████▋   | 12.8MB 2.6MB/s eta 0:00:01\r\u001b[K     |████████████████████████████▋   | 12.9MB 2.6MB/s eta 0:00:01\r\u001b[K     |████████████████████████████▋   | 12.9MB 2.6MB/s eta 0:00:01\r\u001b[K     |████████████████████████████▋   | 12.9MB 2.6MB/s eta 0:00:01\r\u001b[K     |████████████████████████████▊   | 12.9MB 2.6MB/s eta 0:00:01\r\u001b[K     |████████████████████████████▊   | 12.9MB 2.6MB/s eta 0:00:01\r\u001b[K     |████████████████████████████▊   | 12.9MB 2.6MB/s eta 0:00:01\r\u001b[K     |████████████████████████████▊   | 12.9MB 2.6MB/s eta 0:00:01\r\u001b[K     |████████████████████████████▊   | 12.9MB 2.6MB/s eta 0:00:01\r\u001b[K     |████████████████████████████▉   | 12.9MB 2.6MB/s eta 0:00:01\r\u001b[K     |████████████████████████████▉   | 12.9MB 2.6MB/s eta 0:00:01",
      "\r\u001b[K     |████████████████████████████▉   | 13.0MB 2.6MB/s eta 0:00:01\r\u001b[K     |████████████████████████████▉   | 13.0MB 2.6MB/s eta 0:00:01\r\u001b[K     |████████████████████████████▉   | 13.0MB 2.6MB/s eta 0:00:01\r\u001b[K     |█████████████████████████████   | 13.0MB 2.6MB/s eta 0:00:01\r\u001b[K     |█████████████████████████████   | 13.0MB 2.6MB/s eta 0:00:01\r\u001b[K     |█████████████████████████████   | 13.0MB 2.6MB/s eta 0:00:01\r\u001b[K     |█████████████████████████████   | 13.0MB 2.6MB/s eta 0:00:01\r\u001b[K     |█████████████████████████████   | 13.0MB 2.6MB/s eta 0:00:01\r\u001b[K     |█████████████████████████████   | 13.0MB 2.6MB/s eta 0:00:01\r\u001b[K     |█████████████████████████████   | 13.0MB 2.6MB/s eta 0:00:01\r\u001b[K     |█████████████████████████████   | 13.1MB 2.6MB/s eta 0:00:01\r\u001b[K     |█████████████████████████████   | 13.1MB 2.6MB/s eta 0:00:01",
      "\r\u001b[K     |█████████████████████████████   | 13.1MB 2.6MB/s eta 0:00:01\r\u001b[K     |█████████████████████████████▏  | 13.1MB 2.6MB/s eta 0:00:01\r\u001b[K     |█████████████████████████████▏  | 13.1MB 2.6MB/s eta 0:00:01\r\u001b[K     |█████████████████████████████▏  | 13.1MB 2.6MB/s eta 0:00:01\r\u001b[K     |█████████████████████████████▏  | 13.1MB 2.6MB/s eta 0:00:01\r\u001b[K     |█████████████████████████████▏  | 13.1MB 2.6MB/s eta 0:00:01\r\u001b[K     |█████████████████████████████▎  | 13.1MB 2.6MB/s eta 0:00:01\r\u001b[K     |█████████████████████████████▎  | 13.1MB 2.6MB/s eta 0:00:01\r\u001b[K     |█████████████████████████████▎  | 13.2MB 2.6MB/s eta 0:00:01\r\u001b[K     |█████████████████████████████▎  | 13.2MB 2.6MB/s eta 0:00:01\r\u001b[K     |█████████████████████████████▎  | 13.2MB 2.6MB/s eta 0:00:01\r\u001b[K     |█████████████████████████████▍  | 13.2MB 2.6MB/s eta 0:00:01\r\u001b[K     |█████████████████████████████▍  | 13.2MB 2.6MB/s eta 0:00:01",
      "\r\u001b[K     |█████████████████████████████▍  | 13.2MB 2.6MB/s eta 0:00:01\r\u001b[K     |█████████████████████████████▍  | 13.2MB 2.6MB/s eta 0:00:01\r\u001b[K     |█████████████████████████████▌  | 13.2MB 2.6MB/s eta 0:00:01\r\u001b[K     |█████████████████████████████▌  | 13.2MB 2.6MB/s eta 0:00:01\r\u001b[K     |█████████████████████████████▌  | 13.3MB 2.6MB/s eta 0:00:01\r\u001b[K     |█████████████████████████████▌  | 13.3MB 2.6MB/s eta 0:00:01\r\u001b[K     |█████████████████████████████▌  | 13.3MB 2.6MB/s eta 0:00:01\r\u001b[K     |█████████████████████████████▋  | 13.3MB 2.6MB/s eta 0:00:01",
      "\r\u001b[K     |█████████████████████████████▋  | 13.3MB 1.7MB/s eta 0:00:01\r\u001b[K     |█████████████████████████████▋  | 13.3MB 1.7MB/s eta 0:00:01\r\u001b[K     |█████████████████████████████▋  | 13.3MB 1.7MB/s eta 0:00:01\r\u001b[K     |█████████████████████████████▋  | 13.3MB 1.7MB/s eta 0:00:01\r\u001b[K     |█████████████████████████████▊  | 13.3MB 1.7MB/s eta 0:00:01\r\u001b[K     |█████████████████████████████▊  | 13.3MB 1.7MB/s eta 0:00:01\r\u001b[K     |█████████████████████████████▊  | 13.4MB 1.7MB/s eta 0:00:01\r\u001b[K     |█████████████████████████████▊  | 13.4MB 1.7MB/s eta 0:00:01\r\u001b[K     |█████████████████████████████▊  | 13.4MB 1.7MB/s eta 0:00:01\r\u001b[K     |█████████████████████████████▉  | 13.4MB 1.7MB/s eta 0:00:01\r\u001b[K     |█████████████████████████████▉  | 13.4MB 1.7MB/s eta 0:00:01\r\u001b[K     |█████████████████████████████▉  | 13.4MB 1.7MB/s eta 0:00:01\r\u001b[K     |█████████████████████████████▉  | 13.4MB 1.7MB/s eta 0:00:01",
      "\r\u001b[K     |█████████████████████████████▉  | 13.4MB 1.7MB/s eta 0:00:01\r\u001b[K     |██████████████████████████████  | 13.4MB 1.7MB/s eta 0:00:01\r\u001b[K     |██████████████████████████████  | 13.4MB 1.7MB/s eta 0:00:01\r\u001b[K     |██████████████████████████████  | 13.5MB 1.7MB/s eta 0:00:01\r\u001b[K     |██████████████████████████████  | 13.5MB 1.7MB/s eta 0:00:01\r\u001b[K     |██████████████████████████████  | 13.5MB 1.7MB/s eta 0:00:01\r\u001b[K     |██████████████████████████████  | 13.5MB 1.7MB/s eta 0:00:01\r\u001b[K     |██████████████████████████████  | 13.5MB 1.7MB/s eta 0:00:01\r\u001b[K     |██████████████████████████████  | 13.5MB 1.7MB/s eta 0:00:01\r\u001b[K     |██████████████████████████████  | 13.5MB 1.7MB/s eta 0:00:01\r\u001b[K     |██████████████████████████████  | 13.5MB 1.7MB/s eta 0:00:01\r\u001b[K     |██████████████████████████████▏ | 13.5MB 1.7MB/s eta 0:00:01",
      "\r\u001b[K     |██████████████████████████████▏ | 13.5MB 1.7MB/s eta 0:00:01\r\u001b[K     |██████████████████████████████▏ | 13.6MB 1.7MB/s eta 0:00:01\r\u001b[K     |██████████████████████████████▏ | 13.6MB 1.7MB/s eta 0:00:01\r\u001b[K     |██████████████████████████████▏ | 13.6MB 1.7MB/s eta 0:00:01\r\u001b[K     |██████████████████████████████▎ | 13.6MB 1.7MB/s eta 0:00:01\r\u001b[K     |██████████████████████████████▎ | 13.6MB 1.7MB/s eta 0:00:01\r\u001b[K     |██████████████████████████████▎ | 13.6MB 1.7MB/s eta 0:00:01\r\u001b[K     |██████████████████████████████▎ | 13.6MB 1.7MB/s eta 0:00:01\r\u001b[K     |██████████████████████████████▍ | 13.6MB 1.7MB/s eta 0:00:01\r\u001b[K     |██████████████████████████████▍ | 13.6MB 1.7MB/s eta 0:00:01\r\u001b[K     |██████████████████████████████▍ | 13.6MB 1.7MB/s eta 0:00:01\r\u001b[K     |██████████████████████████████▍ | 13.7MB 1.7MB/s eta 0:00:01\r\u001b[K     |██████████████████████████████▍ | 13.7MB 1.7MB/s eta 0:00:01",
      "\r\u001b[K     |██████████████████████████████▌ | 13.7MB 1.7MB/s eta 0:00:01\r\u001b[K     |██████████████████████████████▌ | 13.7MB 1.7MB/s eta 0:00:01\r\u001b[K     |██████████████████████████████▌ | 13.7MB 1.7MB/s eta 0:00:01\r\u001b[K     |██████████████████████████████▌ | 13.7MB 1.7MB/s eta 0:00:01\r\u001b[K     |██████████████████████████████▌ | 13.7MB 1.7MB/s eta 0:00:01\r\u001b[K     |██████████████████████████████▋ | 13.7MB 1.7MB/s eta 0:00:01\r\u001b[K     |██████████████████████████████▋ | 13.7MB 1.7MB/s eta 0:00:01\r\u001b[K     |██████████████████████████████▋ | 13.8MB 1.7MB/s eta 0:00:01\r\u001b[K     |██████████████████████████████▋ | 13.8MB 1.7MB/s eta 0:00:01\r\u001b[K     |██████████████████████████████▋ | 13.8MB 1.7MB/s eta 0:00:01\r\u001b[K     |██████████████████████████████▊ | 13.8MB 1.7MB/s eta 0:00:01",
      "\r\u001b[K     |██████████████████████████████▊ | 13.8MB 1.7MB/s eta 0:00:01\r\u001b[K     |██████████████████████████████▊ | 13.8MB 1.7MB/s eta 0:00:01\r\u001b[K     |██████████████████████████████▊ | 13.8MB 1.7MB/s eta 0:00:01\r\u001b[K     |██████████████████████████████▊ | 13.8MB 1.7MB/s eta 0:00:01\r\u001b[K     |██████████████████████████████▉ | 13.8MB 1.7MB/s eta 0:00:01\r\u001b[K     |██████████████████████████████▉ | 13.8MB 1.7MB/s eta 0:00:01\r\u001b[K     |██████████████████████████████▉ | 13.9MB 1.7MB/s eta 0:00:01\r\u001b[K     |██████████████████████████████▉ | 13.9MB 1.7MB/s eta 0:00:01\r\u001b[K     |██████████████████████████████▉ | 13.9MB 1.7MB/s eta 0:00:01\r\u001b[K     |███████████████████████████████ | 13.9MB 1.7MB/s eta 0:00:01\r\u001b[K     |███████████████████████████████ | 13.9MB 1.7MB/s eta 0:00:01\r\u001b[K     |███████████████████████████████ | 13.9MB 1.7MB/s eta 0:00:01\r\u001b[K     |███████████████████████████████ | 13.9MB 1.7MB/s eta 0:00:01\r\u001b[K     |███████████████████████████████ | 13.9MB 1.7MB/s eta 0:00:01",
      "\r\u001b[K     |███████████████████████████████ | 13.9MB 1.7MB/s eta 0:00:01\r\u001b[K     |███████████████████████████████ | 13.9MB 1.7MB/s eta 0:00:01\r\u001b[K     |███████████████████████████████ | 14.0MB 1.7MB/s eta 0:00:01\r\u001b[K     |███████████████████████████████ | 14.0MB 1.7MB/s eta 0:00:01\r\u001b[K     |███████████████████████████████ | 14.0MB 1.7MB/s eta 0:00:01\r\u001b[K     |███████████████████████████████▏| 14.0MB 1.7MB/s eta 0:00:01\r\u001b[K     |███████████████████████████████▏| 14.0MB 1.7MB/s eta 0:00:01\r\u001b[K     |███████████████████████████████▏| 14.0MB 1.7MB/s eta 0:00:01\r\u001b[K     |███████████████████████████████▏| 14.0MB 1.7MB/s eta 0:00:01\r\u001b[K     |███████████████████████████████▎| 14.0MB 1.7MB/s eta 0:00:01\r\u001b[K     |███████████████████████████████▎| 14.0MB 1.7MB/s eta 0:00:01",
      "\r\u001b[K     |███████████████████████████████▎| 14.0MB 1.7MB/s eta 0:00:01\r\u001b[K     |███████████████████████████████▎| 14.1MB 1.7MB/s eta 0:00:01\r\u001b[K     |███████████████████████████████▎| 14.1MB 1.7MB/s eta 0:00:01\r\u001b[K     |███████████████████████████████▍| 14.1MB 1.7MB/s eta 0:00:01\r\u001b[K     |███████████████████████████████▍| 14.1MB 1.7MB/s eta 0:00:01\r\u001b[K     |███████████████████████████████▍| 14.1MB 1.7MB/s eta 0:00:01\r\u001b[K     |███████████████████████████████▍| 14.1MB 1.7MB/s eta 0:00:01\r\u001b[K     |███████████████████████████████▍| 14.1MB 1.7MB/s eta 0:00:01\r\u001b[K     |███████████████████████████████▌| 14.1MB 1.7MB/s eta 0:00:01",
      "\r\u001b[K     |███████████████████████████████▌| 14.1MB 1.7MB/s eta 0:00:01\r\u001b[K     |███████████████████████████████▌| 14.2MB 1.7MB/s eta 0:00:01\r\u001b[K     |███████████████████████████████▌| 14.2MB 1.7MB/s eta 0:00:01\r\u001b[K     |███████████████████████████████▌| 14.2MB 1.7MB/s eta 0:00:01\r\u001b[K     |███████████████████████████████▋| 14.2MB 1.7MB/s eta 0:00:01\r\u001b[K     |███████████████████████████████▋| 14.2MB 1.7MB/s eta 0:00:01\r\u001b[K     |███████████████████████████████▋| 14.2MB 1.7MB/s eta 0:00:01\r\u001b[K     |███████████████████████████████▋| 14.2MB 1.7MB/s eta 0:00:01\r\u001b[K     |███████████████████████████████▋| 14.2MB 1.7MB/s eta 0:00:01",
      "\r\u001b[K     |███████████████████████████████▊| 14.2MB 1.7MB/s eta 0:00:01\r\u001b[K     |███████████████████████████████▊| 14.2MB 1.7MB/s eta 0:00:01\r\u001b[K     |███████████████████████████████▊| 14.3MB 1.7MB/s eta 0:00:01\r\u001b[K     |███████████████████████████████▊| 14.3MB 1.7MB/s eta 0:00:01\r\u001b[K     |███████████████████████████████▊| 14.3MB 1.7MB/s eta 0:00:01\r\u001b[K     |███████████████████████████████▉| 14.3MB 1.7MB/s eta 0:00:01\r\u001b[K     |███████████████████████████████▉| 14.3MB 1.7MB/s eta 0:00:01\r\u001b[K     |███████████████████████████████▉| 14.3MB 1.7MB/s eta 0:00:01\r\u001b[K     |███████████████████████████████▉| 14.3MB 1.7MB/s eta 0:00:01\r\u001b[K     |███████████████████████████████▉| 14.3MB 1.7MB/s eta 0:00:01\r\u001b[K     |████████████████████████████████| 14.3MB 1.7MB/s eta 0:00:01\r\u001b[K     |████████████████████████████████| 14.3MB 1.7MB/s eta 0:00:01\r\u001b[K     |████████████████████████████████| 14.4MB 1.7MB/s eta 0:00:01",
      "\r\u001b[K     |████████████████████████████████| 14.4MB 1.7MB/s eta 0:00:01\r\u001b[K     |████████████████████████████████| 14.4MB 1.7MB/s eta 0:00:01",
      "\r\u001b[K     |████████████████████████████████| 14.4MB 1.7MB/s \r\n",
      "\u001b[?25hCollecting kiwisolver>=1.0.1 (from matplotlib)\r\n",
      "\u001b[?25l  Downloading https://files.pythonhosted.org/packages/df/93/8bc9b52a8846be2b9572aa0a7c881930939b06e4abe1162da6a0430b794f/kiwisolver-1.1.0-cp37-cp37m-macosx_10_6_intel.macosx_10_9_intel.macosx_10_9_x86_64.macosx_10_10_intel.macosx_10_10_x86_64.whl (113kB)\r\n\r\u001b[K     |███                             | 10kB 2.6MB/s eta 0:00:01\r\u001b[K     |█████▉                          | 20kB 2.7MB/s eta 0:00:01\r\u001b[K     |████████▊                       | 30kB 2.1MB/s eta 0:00:01",
      "\r\u001b[K     |███████████▋                    | 40kB 1.8MB/s eta 0:00:01\r\u001b[K     |██████████████▌                 | 51kB 1.8MB/s eta 0:00:01\r\u001b[K     |█████████████████▍              | 61kB 2.2MB/s eta 0:00:01\r\u001b[K     |████████████████████▎           | 71kB 2.2MB/s eta 0:00:01\r\u001b[K     |███████████████████████▏        | 81kB 1.8MB/s eta 0:00:01\r\u001b[K     |██████████████████████████      | 92kB 2.0MB/s eta 0:00:01\r\u001b[K     |█████████████████████████████   | 102kB 2.1MB/s eta 0:00:01\r\u001b[K     |███████████████████████████████▉| 112kB 2.1MB/s eta 0:00:01\r\u001b[K     |████████████████████████████████| 122kB 2.1MB/s \r\n",
      "\u001b[?25hCollecting pyparsing!=2.0.4,!=2.1.2,!=2.1.6,>=2.0.1 (from matplotlib)\r\n",
      "\u001b[?25l  Downloading https://files.pythonhosted.org/packages/11/fa/0160cd525c62d7abd076a070ff02b2b94de589f1a9789774f17d7c54058e/pyparsing-2.4.2-py2.py3-none-any.whl (65kB)\r\n\r\u001b[K     |█████                           | 10kB 11.9MB/s eta 0:00:01\r\u001b[K     |██████████                      | 20kB 3.2MB/s eta 0:00:01\r\u001b[K     |███████████████                 | 30kB 4.3MB/s eta 0:00:01",
      "\r\u001b[K     |████████████████████            | 40kB 2.2MB/s eta 0:00:01\r\u001b[K     |█████████████████████████       | 51kB 2.4MB/s eta 0:00:01\r\u001b[K     |██████████████████████████████  | 61kB 2.9MB/s eta 0:00:01\r\u001b[K     |████████████████████████████████| 71kB 3.0MB/s \r\n",
      "\u001b[?25hRequirement already satisfied: python-dateutil>=2.1 in /Users/brooke/.conda/envs/cdc_demo/lib/python3.7/site-packages (from matplotlib) (2.8.0)\r\nCollecting cycler>=0.10 (from matplotlib)\r\n",
      "  Downloading https://files.pythonhosted.org/packages/f7/d2/e07d3ebb2bd7af696440ce7e754c59dd546ffe1bbe732c8ab68b9c834e61/cycler-0.10.0-py2.py3-none-any.whl\r\n",
      "Requirement already satisfied: numpy>=1.11 in /Users/brooke/.conda/envs/cdc_demo/lib/python3.7/site-packages (from matplotlib) (1.17.2)\r\nRequirement already satisfied: setuptools in /Users/brooke/.conda/envs/cdc_demo/lib/python3.7/site-packages (from kiwisolver>=1.0.1->matplotlib) (41.2.0)\r\nRequirement already satisfied: six>=1.5 in /Users/brooke/.conda/envs/cdc_demo/lib/python3.7/site-packages (from python-dateutil>=2.1->matplotlib) (1.12.0)\r\n",
      "Installing collected packages: kiwisolver, pyparsing, cycler, matplotlib\r\n",
      "Successfully installed cycler-0.10.0 kiwisolver-1.1.0 matplotlib-3.1.1 pyparsing-2.4.2\r\n"
     ],
     "output_type": "stream"
    }
   ],
   "source": [
    "!pip install matplotlib"
   ],
   "metadata": {
    "collapsed": false,
    "pycharm": {
     "name": "#%% \n",
     "is_executing": false
    }
   }
  },
  {
   "cell_type": "code",
   "execution_count": 44,
   "outputs": [],
   "source": [
    "import matplotlib as plt\n",
    "plt.rcParams.update({'font.size': 20, 'figure.figsize': (10, 8)}) # set font and plot size to be larger"
   ],
   "metadata": {
    "collapsed": false,
    "pycharm": {
     "name": "#%% \n",
     "is_executing": false
    }
   }
  },
  {
   "cell_type": "markdown",
   "source": [
    "#### Why it was important to understand your variables earlier:\n",
    "##### - For categorical variables utilize Bar Charts and Boxplots.\n",
    "##### - For continuous variables utilize Histograms, Scatterplots, Line graphs, and Boxplots.\n",
    "\n",
    "###### Try running the below code with and without a semicolon at the end"
   ],
   "metadata": {
    "collapsed": false,
    "pycharm": {
     "name": "#%% md\n"
    }
   }
  },
  {
   "cell_type": "code",
   "execution_count": 49,
   "outputs": [
    {
     "data": {
      "text/plain": "<Figure size 432x288 with 1 Axes>",
      "image/png": "[encoded data removed]"
     },
     "metadata": {
      "needs_background": "light"
     },
     "output_type": "display_data"
    }
   ],
   "source": [
    "cereal.plot(kind='scatter', x='K', y='FIBER', title=\"Potassium x Fiber\");"
   ],
   "metadata": {
    "collapsed": false,
    "pycharm": {
     "name": "#%% \n",
     "is_executing": false
    }
   }
  },
  {
   "cell_type": "code",
   "execution_count": 50,
   "outputs": [
    {
     "data": {
      "text/plain": "<Figure size 432x288 with 1 Axes>",
      "image/png": "[encoded data removed]"
     },
     "metadata": {
      "needs_background": "light"
     },
     "output_type": "display_data"
    }
   ],
   "source": [
    "cereal['RATING'].plot(kind='hist', title='Ratings');"
   ],
   "metadata": {
    "collapsed": false,
    "pycharm": {
     "name": "#%%\n",
     "is_executing": false
    }
   }
  },
  {
   "cell_type": "code",
   "execution_count": 51,
   "outputs": [
    {
     "data": {
      "text/plain": "<Figure size 432x288 with 1 Axes>",
      "image/png": "[encoded data removed]"
     },
     "metadata": {
      "needs_background": "light"
     },
     "output_type": "display_data"
    }
   ],
   "source": [
    "cereal['RATING'].plot(kind=\"box\");"
   ],
   "metadata": {
    "collapsed": false,
    "pycharm": {
     "name": "#%%\n",
     "is_executing": false
    }
   }
  },
  {
   "cell_type": "markdown",
   "source": [
    "***\n",
    "# Thank You For Coming!\n",
    "### We hope you learned some stuff(?)\n",
    "\n",
    "## Please fill out our survey: https://forms.gle/7YHY8EsnSkxAk4AS9 "
   ],
   "metadata": {
    "collapsed": false,
    "pycharm": {
     "name": "#%% md\n"
    }
   }
  }
 ],
 "metadata": {
  "language_info": {
   "codemirror_mode": {
    "name": "ipython",
    "version": 2
   },
   "file_extension": ".py",
   "mimetype": "text/x-python",
   "name": "python",
   "nbconvert_exporter": "python",
   "pygments_lexer": "ipython2",
   "version": "2.7.6"
  },
  "kernelspec": {
   "name": "python3",
   "language": "python",
   "display_name": "Python 3"
  },
  "pycharm": {
   "stem_cell": {
    "cell_type": "raw",
    "source": [],
    "metadata": {
     "collapsed": false
    }
   }
  }
 },
 "nbformat": 4,
 "nbformat_minor": 0
}