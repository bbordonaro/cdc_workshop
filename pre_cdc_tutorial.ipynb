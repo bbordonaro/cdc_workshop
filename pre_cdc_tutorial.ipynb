{
 "cells": [
  {
   "cell_type": "markdown",
   "source": [
    "# Pre Data Challenge Tutorial\n",
    "\n",
    "#### A Beginner's Guide to Analyzing Data in Python\n",
    "\n",
    "###### This tutorial demonstrates the differences between series and data frames, how to clean data in data frames, and how to make basic visualizations in PyCharm."
   ],
   "metadata": {
    "collapsed": false,
    "pycharm": {
     "name": "#%% md\n"
    }
   }
  },
  {
   "cell_type": "code",
   "execution_count": 2,
   "metadata": {
    "collapsed": true,
    "pycharm": {
     "is_executing": false
    }
   },
   "outputs": [],
   "source": [
    "import pandas as pd"
   ]
  },
  {
   "cell_type": "markdown",
   "source": [
    "#### Making a Series"
   ],
   "metadata": {
    "collapsed": false,
    "pycharm": {
     "name": "#%% md\n"
    }
   }
  },
  {
   "cell_type": "code",
   "execution_count": 3,
   "outputs": [
    {
     "data": {
      "text/plain": "0    0\n1    3\n2    4\n3    6\n4    7\nName: Bananas, dtype: int64"
     },
     "metadata": {},
     "output_type": "execute_result",
     "execution_count": 3
    }
   ],
   "source": [
    "bananas = pd.Series([0, 3, 4, 6, 7])\n",
    "bananas.name = \"Bananas\"\n",
    "\n",
    "bananas"
   ],
   "metadata": {
    "collapsed": false,
    "pycharm": {
     "name": "#%%\n",
     "is_executing": false
    }
   }
  },
  {
   "cell_type": "markdown",
   "source": [
    "#### Making a Data Frame"
   ],
   "metadata": {
    "collapsed": false
   }
  },
  {
   "cell_type": "code",
   "execution_count": 4,
   "outputs": [
    {
     "data": {
      "text/plain": "   apples  oranges\n0       3        2\n1       2        4\n2       0        1\n3       1        0",
      "text/html": "<div>\n<style scoped>\n    .dataframe tbody tr th:only-of-type {\n        vertical-align: middle;\n    }\n\n    .dataframe tbody tr th {\n        vertical-align: top;\n    }\n\n    .dataframe thead th {\n        text-align: right;\n    }\n</style>\n<table border=\"1\" class=\"dataframe\">\n  <thead>\n    <tr style=\"text-align: right;\">\n      <th></th>\n      <th>apples</th>\n      <th>oranges</th>\n    </tr>\n  </thead>\n  <tbody>\n    <tr>\n      <td>0</td>\n      <td>3</td>\n      <td>2</td>\n    </tr>\n    <tr>\n      <td>1</td>\n      <td>2</td>\n      <td>4</td>\n    </tr>\n    <tr>\n      <td>2</td>\n      <td>0</td>\n      <td>1</td>\n    </tr>\n    <tr>\n      <td>3</td>\n      <td>1</td>\n      <td>0</td>\n    </tr>\n  </tbody>\n</table>\n</div>"
     },
     "metadata": {},
     "output_type": "execute_result",
     "execution_count": 4
    }
   ],
   "source": [
    "df_data = {\n",
    "    \"apples\": [3, 2, 0, 1],\n",
    "    \"oranges\": [2, 4, 1, 0]\n",
    "}\n",
    "\n",
    "purchases = pd.DataFrame(df_data)\n",
    "\n",
    "purchases"
   ],
   "metadata": {
    "collapsed": false,
    "pycharm": {
     "name": "#%%\n",
     "is_executing": false
    }
   }
  },
  {
   "cell_type": "markdown",
   "source": [
    "#### Re-Indexing a Data Frame"
   ],
   "metadata": {
    "collapsed": false,
    "pycharm": {
     "name": "#%% md\n"
    }
   }
  },
  {
   "cell_type": "code",
   "execution_count": 5,
   "outputs": [
    {
     "data": {
      "text/plain": "        apples  oranges\nJune         3        2\nRobert       2        4\nLily         0        1\nDavid        1        0",
      "text/html": "<div>\n<style scoped>\n    .dataframe tbody tr th:only-of-type {\n        vertical-align: middle;\n    }\n\n    .dataframe tbody tr th {\n        vertical-align: top;\n    }\n\n    .dataframe thead th {\n        text-align: right;\n    }\n</style>\n<table border=\"1\" class=\"dataframe\">\n  <thead>\n    <tr style=\"text-align: right;\">\n      <th></th>\n      <th>apples</th>\n      <th>oranges</th>\n    </tr>\n  </thead>\n  <tbody>\n    <tr>\n      <td>June</td>\n      <td>3</td>\n      <td>2</td>\n    </tr>\n    <tr>\n      <td>Robert</td>\n      <td>2</td>\n      <td>4</td>\n    </tr>\n    <tr>\n      <td>Lily</td>\n      <td>0</td>\n      <td>1</td>\n    </tr>\n    <tr>\n      <td>David</td>\n      <td>1</td>\n      <td>0</td>\n    </tr>\n  </tbody>\n</table>\n</div>"
     },
     "metadata": {},
     "output_type": "execute_result",
     "execution_count": 5
    }
   ],
   "source": [
    "purchases = pd.DataFrame(df_data, index=['June', 'Robert', 'Lily', 'David'])\n",
    "\n",
    "purchases"
   ],
   "metadata": {
    "collapsed": false,
    "pycharm": {
     "name": "#%%\n",
     "is_executing": false
    }
   }
  },
  {
   "cell_type": "markdown",
   "source": [
    "#### Using loc to Grab a Row by Index"
   ],
   "metadata": {
    "collapsed": false,
    "pycharm": {
     "name": "#%% md\n"
    }
   }
  },
  {
   "cell_type": "code",
   "execution_count": 6,
   "outputs": [
    {
     "data": {
      "text/plain": "apples     3\noranges    2\nName: June, dtype: int64"
     },
     "metadata": {},
     "output_type": "execute_result",
     "execution_count": 6
    }
   ],
   "source": [
    "purchases.loc['June']"
   ],
   "metadata": {
    "collapsed": false,
    "pycharm": {
     "name": "#%%\n",
     "is_executing": false
    }
   }
  },
  {
   "cell_type": "markdown",
   "source": [
    "#### Importing a Csv File into a Data Frame\n",
    "\n",
    "###### index_col=0 indicates that the first column of the dataset should be the indexing column instead of the non-meaningful default 1-length system"
   ],
   "metadata": {
    "collapsed": false
   }
  },
  {
   "cell_type": "code",
   "execution_count": 7,
   "outputs": [
    {
     "data": {
      "text/plain": "                           Calories  Protein  Fat  Sodium  Fiber  Carbs  \\\n100% Bran                        70        4    1     130   10.0    5.0   \n100% Natural Bran               120        3    5      15    2.0    8.0   \nAll-Bran                         70        4    1     260    9.0    7.0   \nAll-Bran with Extra Fiber        50        4    0     140   14.0    8.0   \nAlmond Delight                  110        2    2     200    1.0   14.0   \nApple Cinnamon Cheerios         110        2    2     180    1.5   10.5   \nApple Jacks                     110        2    0     125    1.0   11.0   \nBasic 4                         130        3    2     210    2.0   18.0   \nBran Chex                        90        2    1     200    4.0   15.0   \nBran Flakes                      90        3    0     210    5.0   13.0   \n\n                           Sugars  Potassium  Vitamins  Weight  \\\n100% Bran                       6        280        25    1.00   \n100% Natural Bran               8        135         0    1.00   \nAll-Bran                        5        320        25    1.00   \nAll-Bran with Extra Fiber       0        330        25    1.00   \nAlmond Delight                  8         -1        25    1.00   \nApple Cinnamon Cheerios        10         70        25    1.00   \nApple Jacks                    14         30        25    1.00   \nBasic 4                         8        100        25    1.33   \nBran Chex                       6        125        25    1.00   \nBran Flakes                     5        190        25    1.00   \n\n                           Cups per Serving     Rating  \n100% Bran                              0.33  68.402973  \n100% Natural Bran                      1.00  33.983679  \nAll-Bran                               0.33  59.425505  \nAll-Bran with Extra Fiber              0.50  93.704912  \nAlmond Delight                         0.75  34.384843  \nApple Cinnamon Cheerios                0.75        NaN  \nApple Jacks                            1.00  33.174094  \nBasic 4                                0.75  37.038562  \nBran Chex                              0.67  49.120253  \nBran Flakes                            0.67  53.313813  ",
      "text/html": "<div>\n<style scoped>\n    .dataframe tbody tr th:only-of-type {\n        vertical-align: middle;\n    }\n\n    .dataframe tbody tr th {\n        vertical-align: top;\n    }\n\n    .dataframe thead th {\n        text-align: right;\n    }\n</style>\n<table border=\"1\" class=\"dataframe\">\n  <thead>\n    <tr style=\"text-align: right;\">\n      <th></th>\n      <th>Calories</th>\n      <th>Protein</th>\n      <th>Fat</th>\n      <th>Sodium</th>\n      <th>Fiber</th>\n      <th>Carbs</th>\n      <th>Sugars</th>\n      <th>Potassium</th>\n      <th>Vitamins</th>\n      <th>Weight</th>\n      <th>Cups per Serving</th>\n      <th>Rating</th>\n    </tr>\n  </thead>\n  <tbody>\n    <tr>\n      <td>100% Bran</td>\n      <td>70</td>\n      <td>4</td>\n      <td>1</td>\n      <td>130</td>\n      <td>10.0</td>\n      <td>5.0</td>\n      <td>6</td>\n      <td>280</td>\n      <td>25</td>\n      <td>1.00</td>\n      <td>0.33</td>\n      <td>68.402973</td>\n    </tr>\n    <tr>\n      <td>100% Natural Bran</td>\n      <td>120</td>\n      <td>3</td>\n      <td>5</td>\n      <td>15</td>\n      <td>2.0</td>\n      <td>8.0</td>\n      <td>8</td>\n      <td>135</td>\n      <td>0</td>\n      <td>1.00</td>\n      <td>1.00</td>\n      <td>33.983679</td>\n    </tr>\n    <tr>\n      <td>All-Bran</td>\n      <td>70</td>\n      <td>4</td>\n      <td>1</td>\n      <td>260</td>\n      <td>9.0</td>\n      <td>7.0</td>\n      <td>5</td>\n      <td>320</td>\n      <td>25</td>\n      <td>1.00</td>\n      <td>0.33</td>\n      <td>59.425505</td>\n    </tr>\n    <tr>\n      <td>All-Bran with Extra Fiber</td>\n      <td>50</td>\n      <td>4</td>\n      <td>0</td>\n      <td>140</td>\n      <td>14.0</td>\n      <td>8.0</td>\n      <td>0</td>\n      <td>330</td>\n      <td>25</td>\n      <td>1.00</td>\n      <td>0.50</td>\n      <td>93.704912</td>\n    </tr>\n    <tr>\n      <td>Almond Delight</td>\n      <td>110</td>\n      <td>2</td>\n      <td>2</td>\n      <td>200</td>\n      <td>1.0</td>\n      <td>14.0</td>\n      <td>8</td>\n      <td>-1</td>\n      <td>25</td>\n      <td>1.00</td>\n      <td>0.75</td>\n      <td>34.384843</td>\n    </tr>\n    <tr>\n      <td>Apple Cinnamon Cheerios</td>\n      <td>110</td>\n      <td>2</td>\n      <td>2</td>\n      <td>180</td>\n      <td>1.5</td>\n      <td>10.5</td>\n      <td>10</td>\n      <td>70</td>\n      <td>25</td>\n      <td>1.00</td>\n      <td>0.75</td>\n      <td>NaN</td>\n    </tr>\n    <tr>\n      <td>Apple Jacks</td>\n      <td>110</td>\n      <td>2</td>\n      <td>0</td>\n      <td>125</td>\n      <td>1.0</td>\n      <td>11.0</td>\n      <td>14</td>\n      <td>30</td>\n      <td>25</td>\n      <td>1.00</td>\n      <td>1.00</td>\n      <td>33.174094</td>\n    </tr>\n    <tr>\n      <td>Basic 4</td>\n      <td>130</td>\n      <td>3</td>\n      <td>2</td>\n      <td>210</td>\n      <td>2.0</td>\n      <td>18.0</td>\n      <td>8</td>\n      <td>100</td>\n      <td>25</td>\n      <td>1.33</td>\n      <td>0.75</td>\n      <td>37.038562</td>\n    </tr>\n    <tr>\n      <td>Bran Chex</td>\n      <td>90</td>\n      <td>2</td>\n      <td>1</td>\n      <td>200</td>\n      <td>4.0</td>\n      <td>15.0</td>\n      <td>6</td>\n      <td>125</td>\n      <td>25</td>\n      <td>1.00</td>\n      <td>0.67</td>\n      <td>49.120253</td>\n    </tr>\n    <tr>\n      <td>Bran Flakes</td>\n      <td>90</td>\n      <td>3</td>\n      <td>0</td>\n      <td>210</td>\n      <td>5.0</td>\n      <td>13.0</td>\n      <td>5</td>\n      <td>190</td>\n      <td>25</td>\n      <td>1.00</td>\n      <td>0.67</td>\n      <td>53.313813</td>\n    </tr>\n  </tbody>\n</table>\n</div>"
     },
     "metadata": {},
     "output_type": "execute_result",
     "execution_count": 7
    }
   ],
   "source": [
    "cereal_index = pd.read_csv(\"cereal.csv\", index_col=0)\n",
    "cereal_index.head(10)"
   ],
   "metadata": {
    "collapsed": false,
    "pycharm": {
     "name": "#%%\n",
     "is_executing": false
    }
   }
  },
  {
   "cell_type": "code",
   "execution_count": 8,
   "outputs": [
    {
     "data": {
      "text/plain": "                     Calories  Protein  Fat  Sodium  Fiber  Carbs  Sugars  \\\nTriples                   110        2    1     250    0.0   21.0       3   \nTrix                      110        1    1     140    0.0   13.0      12   \nWheat Chex                100        3    1     230    3.0   17.0       3   \nWheaties                  100        3    1     200    3.0   17.0       3   \nWheaties Honey Gold       110        2    1     200    1.0   16.0       8   \n\n                     Potassium  Vitamins  Weight  Cups per Serving     Rating  \nTriples                     60        25     1.0              0.75  39.106174  \nTrix                        25        25     1.0              1.00        NaN  \nWheat Chex                 115        25     1.0              0.67  49.787445  \nWheaties                   110        25     1.0              1.00  51.592193  \nWheaties Honey Gold         60        25     1.0              0.75  36.187559  ",
      "text/html": "<div>\n<style scoped>\n    .dataframe tbody tr th:only-of-type {\n        vertical-align: middle;\n    }\n\n    .dataframe tbody tr th {\n        vertical-align: top;\n    }\n\n    .dataframe thead th {\n        text-align: right;\n    }\n</style>\n<table border=\"1\" class=\"dataframe\">\n  <thead>\n    <tr style=\"text-align: right;\">\n      <th></th>\n      <th>Calories</th>\n      <th>Protein</th>\n      <th>Fat</th>\n      <th>Sodium</th>\n      <th>Fiber</th>\n      <th>Carbs</th>\n      <th>Sugars</th>\n      <th>Potassium</th>\n      <th>Vitamins</th>\n      <th>Weight</th>\n      <th>Cups per Serving</th>\n      <th>Rating</th>\n    </tr>\n  </thead>\n  <tbody>\n    <tr>\n      <td>Triples</td>\n      <td>110</td>\n      <td>2</td>\n      <td>1</td>\n      <td>250</td>\n      <td>0.0</td>\n      <td>21.0</td>\n      <td>3</td>\n      <td>60</td>\n      <td>25</td>\n      <td>1.0</td>\n      <td>0.75</td>\n      <td>39.106174</td>\n    </tr>\n    <tr>\n      <td>Trix</td>\n      <td>110</td>\n      <td>1</td>\n      <td>1</td>\n      <td>140</td>\n      <td>0.0</td>\n      <td>13.0</td>\n      <td>12</td>\n      <td>25</td>\n      <td>25</td>\n      <td>1.0</td>\n      <td>1.00</td>\n      <td>NaN</td>\n    </tr>\n    <tr>\n      <td>Wheat Chex</td>\n      <td>100</td>\n      <td>3</td>\n      <td>1</td>\n      <td>230</td>\n      <td>3.0</td>\n      <td>17.0</td>\n      <td>3</td>\n      <td>115</td>\n      <td>25</td>\n      <td>1.0</td>\n      <td>0.67</td>\n      <td>49.787445</td>\n    </tr>\n    <tr>\n      <td>Wheaties</td>\n      <td>100</td>\n      <td>3</td>\n      <td>1</td>\n      <td>200</td>\n      <td>3.0</td>\n      <td>17.0</td>\n      <td>3</td>\n      <td>110</td>\n      <td>25</td>\n      <td>1.0</td>\n      <td>1.00</td>\n      <td>51.592193</td>\n    </tr>\n    <tr>\n      <td>Wheaties Honey Gold</td>\n      <td>110</td>\n      <td>2</td>\n      <td>1</td>\n      <td>200</td>\n      <td>1.0</td>\n      <td>16.0</td>\n      <td>8</td>\n      <td>60</td>\n      <td>25</td>\n      <td>1.0</td>\n      <td>0.75</td>\n      <td>36.187559</td>\n    </tr>\n  </tbody>\n</table>\n</div>"
     },
     "metadata": {},
     "output_type": "execute_result",
     "execution_count": 8
    }
   ],
   "source": [
    "cereal_index.tail(5)"
   ],
   "metadata": {
    "collapsed": false,
    "pycharm": {
     "name": "#%% \n",
     "is_executing": false
    }
   }
  },
  {
   "cell_type": "code",
   "execution_count": 9,
   "outputs": [
    {
     "data": {
      "text/plain": "                         Name  Calories  Protein  Fat  Sodium  Fiber  Carbs  \\\n0                   100% Bran        70        4    1     130   10.0    5.0   \n1           100% Natural Bran       120        3    5      15    2.0    8.0   \n2                    All-Bran        70        4    1     260    9.0    7.0   \n3   All-Bran with Extra Fiber        50        4    0     140   14.0    8.0   \n4              Almond Delight       110        2    2     200    1.0   14.0   \n..                        ...       ...      ...  ...     ...    ...    ...   \n72                    Triples       110        2    1     250    0.0   21.0   \n73                       Trix       110        1    1     140    0.0   13.0   \n74                 Wheat Chex       100        3    1     230    3.0   17.0   \n75                   Wheaties       100        3    1     200    3.0   17.0   \n76        Wheaties Honey Gold       110        2    1     200    1.0   16.0   \n\n    Sugars  Potassium  Vitamins  Weight  Cups per Serving     Rating  \n0        6        280        25     1.0              0.33  68.402973  \n1        8        135         0     1.0              1.00  33.983679  \n2        5        320        25     1.0              0.33  59.425505  \n3        0        330        25     1.0              0.50  93.704912  \n4        8         -1        25     1.0              0.75  34.384843  \n..     ...        ...       ...     ...               ...        ...  \n72       3         60        25     1.0              0.75  39.106174  \n73      12         25        25     1.0              1.00        NaN  \n74       3        115        25     1.0              0.67  49.787445  \n75       3        110        25     1.0              1.00  51.592193  \n76       8         60        25     1.0              0.75  36.187559  \n\n[77 rows x 13 columns]",
      "text/html": "<div>\n<style scoped>\n    .dataframe tbody tr th:only-of-type {\n        vertical-align: middle;\n    }\n\n    .dataframe tbody tr th {\n        vertical-align: top;\n    }\n\n    .dataframe thead th {\n        text-align: right;\n    }\n</style>\n<table border=\"1\" class=\"dataframe\">\n  <thead>\n    <tr style=\"text-align: right;\">\n      <th></th>\n      <th>Name</th>\n      <th>Calories</th>\n      <th>Protein</th>\n      <th>Fat</th>\n      <th>Sodium</th>\n      <th>Fiber</th>\n      <th>Carbs</th>\n      <th>Sugars</th>\n      <th>Potassium</th>\n      <th>Vitamins</th>\n      <th>Weight</th>\n      <th>Cups per Serving</th>\n      <th>Rating</th>\n    </tr>\n  </thead>\n  <tbody>\n    <tr>\n      <td>0</td>\n      <td>100% Bran</td>\n      <td>70</td>\n      <td>4</td>\n      <td>1</td>\n      <td>130</td>\n      <td>10.0</td>\n      <td>5.0</td>\n      <td>6</td>\n      <td>280</td>\n      <td>25</td>\n      <td>1.0</td>\n      <td>0.33</td>\n      <td>68.402973</td>\n    </tr>\n    <tr>\n      <td>1</td>\n      <td>100% Natural Bran</td>\n      <td>120</td>\n      <td>3</td>\n      <td>5</td>\n      <td>15</td>\n      <td>2.0</td>\n      <td>8.0</td>\n      <td>8</td>\n      <td>135</td>\n      <td>0</td>\n      <td>1.0</td>\n      <td>1.00</td>\n      <td>33.983679</td>\n    </tr>\n    <tr>\n      <td>2</td>\n      <td>All-Bran</td>\n      <td>70</td>\n      <td>4</td>\n      <td>1</td>\n      <td>260</td>\n      <td>9.0</td>\n      <td>7.0</td>\n      <td>5</td>\n      <td>320</td>\n      <td>25</td>\n      <td>1.0</td>\n      <td>0.33</td>\n      <td>59.425505</td>\n    </tr>\n    <tr>\n      <td>3</td>\n      <td>All-Bran with Extra Fiber</td>\n      <td>50</td>\n      <td>4</td>\n      <td>0</td>\n      <td>140</td>\n      <td>14.0</td>\n      <td>8.0</td>\n      <td>0</td>\n      <td>330</td>\n      <td>25</td>\n      <td>1.0</td>\n      <td>0.50</td>\n      <td>93.704912</td>\n    </tr>\n    <tr>\n      <td>4</td>\n      <td>Almond Delight</td>\n      <td>110</td>\n      <td>2</td>\n      <td>2</td>\n      <td>200</td>\n      <td>1.0</td>\n      <td>14.0</td>\n      <td>8</td>\n      <td>-1</td>\n      <td>25</td>\n      <td>1.0</td>\n      <td>0.75</td>\n      <td>34.384843</td>\n    </tr>\n    <tr>\n      <td>...</td>\n      <td>...</td>\n      <td>...</td>\n      <td>...</td>\n      <td>...</td>\n      <td>...</td>\n      <td>...</td>\n      <td>...</td>\n      <td>...</td>\n      <td>...</td>\n      <td>...</td>\n      <td>...</td>\n      <td>...</td>\n      <td>...</td>\n    </tr>\n    <tr>\n      <td>72</td>\n      <td>Triples</td>\n      <td>110</td>\n      <td>2</td>\n      <td>1</td>\n      <td>250</td>\n      <td>0.0</td>\n      <td>21.0</td>\n      <td>3</td>\n      <td>60</td>\n      <td>25</td>\n      <td>1.0</td>\n      <td>0.75</td>\n      <td>39.106174</td>\n    </tr>\n    <tr>\n      <td>73</td>\n      <td>Trix</td>\n      <td>110</td>\n      <td>1</td>\n      <td>1</td>\n      <td>140</td>\n      <td>0.0</td>\n      <td>13.0</td>\n      <td>12</td>\n      <td>25</td>\n      <td>25</td>\n      <td>1.0</td>\n      <td>1.00</td>\n      <td>NaN</td>\n    </tr>\n    <tr>\n      <td>74</td>\n      <td>Wheat Chex</td>\n      <td>100</td>\n      <td>3</td>\n      <td>1</td>\n      <td>230</td>\n      <td>3.0</td>\n      <td>17.0</td>\n      <td>3</td>\n      <td>115</td>\n      <td>25</td>\n      <td>1.0</td>\n      <td>0.67</td>\n      <td>49.787445</td>\n    </tr>\n    <tr>\n      <td>75</td>\n      <td>Wheaties</td>\n      <td>100</td>\n      <td>3</td>\n      <td>1</td>\n      <td>200</td>\n      <td>3.0</td>\n      <td>17.0</td>\n      <td>3</td>\n      <td>110</td>\n      <td>25</td>\n      <td>1.0</td>\n      <td>1.00</td>\n      <td>51.592193</td>\n    </tr>\n    <tr>\n      <td>76</td>\n      <td>Wheaties Honey Gold</td>\n      <td>110</td>\n      <td>2</td>\n      <td>1</td>\n      <td>200</td>\n      <td>1.0</td>\n      <td>16.0</td>\n      <td>8</td>\n      <td>60</td>\n      <td>25</td>\n      <td>1.0</td>\n      <td>0.75</td>\n      <td>36.187559</td>\n    </tr>\n  </tbody>\n</table>\n<p>77 rows × 13 columns</p>\n</div>"
     },
     "metadata": {},
     "output_type": "execute_result",
     "execution_count": 9
    }
   ],
   "source": [
    "cereal = pd.read_csv(\"cereal.csv\")\n",
    "cereal.columns.values[0] = 'Name'\n",
    "cereal"
   ],
   "metadata": {
    "collapsed": false,
    "pycharm": {
     "name": "#%%\n",
     "is_executing": false
    }
   }
  },
  {
   "cell_type": "markdown",
   "source": [
    "#### Info, Describe, and Shape"
   ],
   "metadata": {
    "collapsed": false,
    "pycharm": {
     "name": "#%% md\n"
    }
   }
  },
  {
   "cell_type": "code",
   "execution_count": 10,
   "outputs": [
    {
     "name": "stdout",
     "text": [
      "<class 'pandas.core.frame.DataFrame'>\nRangeIndex: 77 entries, 0 to 76\nData columns (total 13 columns):\nName                77 non-null object\nCalories            77 non-null int64\nProtein             77 non-null int64\nFat                 77 non-null int64\nSodium              77 non-null int64\nFiber               77 non-null float64\nCarbs               77 non-null float64\nSugars              77 non-null int64\nPotassium           77 non-null int64\nVitamins            77 non-null int64\nWeight              77 non-null float64\nCups per Serving    77 non-null float64\nRating              71 non-null float64\ndtypes: float64(5), int64(7), object(1)\nmemory usage: 7.9+ KB\n"
     ],
     "output_type": "stream"
    },
    {
     "data": {
      "text/plain": "         Calories    Protein        Fat      Sodium      Fiber      Carbs  \\\ncount   77.000000  77.000000  77.000000   77.000000  77.000000  77.000000   \nmean   106.883117   2.545455   1.012987  159.675325   2.151948  14.597403   \nstd     19.484119   1.094790   1.006473   83.832295   2.383364   4.278956   \nmin     50.000000   1.000000   0.000000    0.000000   0.000000  -1.000000   \n25%    100.000000   2.000000   0.000000  130.000000   1.000000  12.000000   \n50%    110.000000   3.000000   1.000000  180.000000   2.000000  14.000000   \n75%    110.000000   3.000000   2.000000  210.000000   3.000000  17.000000   \nmax    160.000000   6.000000   5.000000  320.000000  14.000000  23.000000   \n\n          Sugars   Potassium    Vitamins     Weight  Cups per Serving  \\\ncount  77.000000   77.000000   77.000000  77.000000         77.000000   \nmean    6.922078   96.077922   28.246753   1.029610          0.821039   \nstd     4.444885   71.286813   22.342523   0.150477          0.232716   \nmin    -1.000000   -1.000000    0.000000   0.500000          0.250000   \n25%     3.000000   40.000000   25.000000   1.000000          0.670000   \n50%     7.000000   90.000000   25.000000   1.000000          0.750000   \n75%    11.000000  120.000000   25.000000   1.000000          1.000000   \nmax    15.000000  330.000000  100.000000   1.500000          1.500000   \n\n          Rating  \ncount  71.000000  \nmean   43.124629  \nstd    14.340450  \nmin    18.042851  \n25%    33.578886  \n50%    40.560159  \n75%    51.210293  \nmax    93.704912  ",
      "text/html": "<div>\n<style scoped>\n    .dataframe tbody tr th:only-of-type {\n        vertical-align: middle;\n    }\n\n    .dataframe tbody tr th {\n        vertical-align: top;\n    }\n\n    .dataframe thead th {\n        text-align: right;\n    }\n</style>\n<table border=\"1\" class=\"dataframe\">\n  <thead>\n    <tr style=\"text-align: right;\">\n      <th></th>\n      <th>Calories</th>\n      <th>Protein</th>\n      <th>Fat</th>\n      <th>Sodium</th>\n      <th>Fiber</th>\n      <th>Carbs</th>\n      <th>Sugars</th>\n      <th>Potassium</th>\n      <th>Vitamins</th>\n      <th>Weight</th>\n      <th>Cups per Serving</th>\n      <th>Rating</th>\n    </tr>\n  </thead>\n  <tbody>\n    <tr>\n      <td>count</td>\n      <td>77.000000</td>\n      <td>77.000000</td>\n      <td>77.000000</td>\n      <td>77.000000</td>\n      <td>77.000000</td>\n      <td>77.000000</td>\n      <td>77.000000</td>\n      <td>77.000000</td>\n      <td>77.000000</td>\n      <td>77.000000</td>\n      <td>77.000000</td>\n      <td>71.000000</td>\n    </tr>\n    <tr>\n      <td>mean</td>\n      <td>106.883117</td>\n      <td>2.545455</td>\n      <td>1.012987</td>\n      <td>159.675325</td>\n      <td>2.151948</td>\n      <td>14.597403</td>\n      <td>6.922078</td>\n      <td>96.077922</td>\n      <td>28.246753</td>\n      <td>1.029610</td>\n      <td>0.821039</td>\n      <td>43.124629</td>\n    </tr>\n    <tr>\n      <td>std</td>\n      <td>19.484119</td>\n      <td>1.094790</td>\n      <td>1.006473</td>\n      <td>83.832295</td>\n      <td>2.383364</td>\n      <td>4.278956</td>\n      <td>4.444885</td>\n      <td>71.286813</td>\n      <td>22.342523</td>\n      <td>0.150477</td>\n      <td>0.232716</td>\n      <td>14.340450</td>\n    </tr>\n    <tr>\n      <td>min</td>\n      <td>50.000000</td>\n      <td>1.000000</td>\n      <td>0.000000</td>\n      <td>0.000000</td>\n      <td>0.000000</td>\n      <td>-1.000000</td>\n      <td>-1.000000</td>\n      <td>-1.000000</td>\n      <td>0.000000</td>\n      <td>0.500000</td>\n      <td>0.250000</td>\n      <td>18.042851</td>\n    </tr>\n    <tr>\n      <td>25%</td>\n      <td>100.000000</td>\n      <td>2.000000</td>\n      <td>0.000000</td>\n      <td>130.000000</td>\n      <td>1.000000</td>\n      <td>12.000000</td>\n      <td>3.000000</td>\n      <td>40.000000</td>\n      <td>25.000000</td>\n      <td>1.000000</td>\n      <td>0.670000</td>\n      <td>33.578886</td>\n    </tr>\n    <tr>\n      <td>50%</td>\n      <td>110.000000</td>\n      <td>3.000000</td>\n      <td>1.000000</td>\n      <td>180.000000</td>\n      <td>2.000000</td>\n      <td>14.000000</td>\n      <td>7.000000</td>\n      <td>90.000000</td>\n      <td>25.000000</td>\n      <td>1.000000</td>\n      <td>0.750000</td>\n      <td>40.560159</td>\n    </tr>\n    <tr>\n      <td>75%</td>\n      <td>110.000000</td>\n      <td>3.000000</td>\n      <td>2.000000</td>\n      <td>210.000000</td>\n      <td>3.000000</td>\n      <td>17.000000</td>\n      <td>11.000000</td>\n      <td>120.000000</td>\n      <td>25.000000</td>\n      <td>1.000000</td>\n      <td>1.000000</td>\n      <td>51.210293</td>\n    </tr>\n    <tr>\n      <td>max</td>\n      <td>160.000000</td>\n      <td>6.000000</td>\n      <td>5.000000</td>\n      <td>320.000000</td>\n      <td>14.000000</td>\n      <td>23.000000</td>\n      <td>15.000000</td>\n      <td>330.000000</td>\n      <td>100.000000</td>\n      <td>1.500000</td>\n      <td>1.500000</td>\n      <td>93.704912</td>\n    </tr>\n  </tbody>\n</table>\n</div>"
     },
     "metadata": {},
     "output_type": "execute_result",
     "execution_count": 10
    }
   ],
   "source": [
    "cereal.info()\n",
    "\n",
    "cereal.describe()"
   ],
   "metadata": {
    "collapsed": false,
    "pycharm": {
     "name": "#%% \n",
     "is_executing": false
    }
   }
  },
  {
   "cell_type": "code",
   "execution_count": 11,
   "outputs": [
    {
     "data": {
      "text/plain": "(77, 13)"
     },
     "metadata": {},
     "output_type": "execute_result",
     "execution_count": 11
    }
   ],
   "source": [
    "cereal.shape"
   ],
   "metadata": {
    "collapsed": false,
    "pycharm": {
     "name": "#%%\n",
     "is_executing": false
    }
   }
  },
  {
   "cell_type": "code",
   "execution_count": 12,
   "outputs": [
    {
     "data": {
      "text/plain": "Index(['Name', 'Calories', 'Protein', 'Fat', 'Sodium', 'Fiber', 'Carbs',\n       'Sugars', 'Potassium', 'Vitamins', 'Weight', 'Cups per Serving',\n       'Rating'],\n      dtype='object')"
     },
     "metadata": {},
     "output_type": "execute_result",
     "execution_count": 12
    }
   ],
   "source": [
    "cereal.columns"
   ],
   "metadata": {
    "collapsed": false,
    "pycharm": {
     "name": "#%%\n",
     "is_executing": false
    }
   }
  },
  {
   "cell_type": "code",
   "execution_count": 13,
   "outputs": [
    {
     "data": {
      "text/plain": "Index(['Name', 'Cals', 'Protein', 'Fat', 'Sodium', 'Fiber', 'Carbs', 'Sugars',\n       'K', 'Vitamins', 'Weight', 'Cups', 'Rating'],\n      dtype='object')"
     },
     "metadata": {},
     "output_type": "execute_result",
     "execution_count": 13
    }
   ],
   "source": [
    "# case sensitive, so printing columns before is helpful to see what you need to change\n",
    "cereal.rename(columns={\n",
    "        'Calories': 'Cals', \n",
    "        'Cups per Serving': 'Cups',\n",
    "        'Potassium': 'K'\n",
    "    }, inplace=True)\n",
    "\n",
    "\n",
    "cereal.columns\n"
   ],
   "metadata": {
    "collapsed": false,
    "pycharm": {
     "name": "#%% \n",
     "is_executing": false
    }
   }
  },
  {
   "cell_type": "markdown",
   "source": [
    "#### Editing Multiple Columns as Once"
   ],
   "metadata": {
    "collapsed": false,
    "pycharm": {
     "name": "#%% md\n"
    }
   }
  },
  {
   "cell_type": "code",
   "execution_count": 14,
   "outputs": [
    {
     "data": {
      "text/plain": "Index(['NAME', 'CALS', 'PROTEIN', 'FAT', 'SODIUM', 'FIBER', 'CARBS', 'SUGARS',\n       'K', 'VITAMINS', 'WEIGHT', 'CUPS', 'RATING'],\n      dtype='object')"
     },
     "metadata": {},
     "output_type": "execute_result",
     "execution_count": 14
    }
   ],
   "source": [
    "cereal.columns = [col.upper() for col in cereal]\n",
    "\n",
    "cereal.columns"
   ],
   "metadata": {
    "collapsed": false,
    "pycharm": {
     "name": "#%%\n",
     "is_executing": false
    }
   }
  },
  {
   "cell_type": "markdown",
   "source": [
    "#### Append and Handling Duplicates"
   ],
   "metadata": {
    "collapsed": false
   }
  },
  {
   "cell_type": "code",
   "execution_count": 15,
   "outputs": [
    {
     "data": {
      "text/plain": "(154, 13)"
     },
     "metadata": {},
     "output_type": "execute_result",
     "execution_count": 15
    }
   ],
   "source": [
    "temp_df = cereal.append(cereal)\n",
    "\n",
    "temp_df.shape"
   ],
   "metadata": {
    "collapsed": false,
    "pycharm": {
     "name": "#%%\n",
     "is_executing": false
    }
   }
  },
  {
   "cell_type": "code",
   "execution_count": 16,
   "outputs": [
    {
     "data": {
      "text/plain": "(77, 13)"
     },
     "metadata": {},
     "output_type": "execute_result",
     "execution_count": 16
    }
   ],
   "source": [
    "temp2_df = temp_df.drop_duplicates()\n",
    "\n",
    "temp2_df.shape"
   ],
   "metadata": {
    "collapsed": false,
    "pycharm": {
     "name": "#%% \n",
     "is_executing": false
    }
   }
  },
  {
   "cell_type": "markdown",
   "source": [
    "#### Dealing with Null Values\n",
    "\n",
    "##### You have two options: \n",
    "1. delete rows or columns with null entries\n",
    "2. replace nulls with non-null values (imputation)  \n",
    "\n",
    "##### First you want to check for nulls:"
   ],
   "metadata": {
    "collapsed": false,
    "pycharm": {
     "name": "#%% md\n"
    }
   }
  },
  {
   "cell_type": "code",
   "execution_count": 17,
   "outputs": [
    {
     "data": {
      "text/plain": "NAME        0\nCALS        0\nPROTEIN     0\nFAT         0\nSODIUM      0\nFIBER       0\nCARBS       0\nSUGARS      0\nK           0\nVITAMINS    0\nWEIGHT      0\nCUPS        0\nRATING      6\ndtype: int64"
     },
     "metadata": {},
     "output_type": "execute_result",
     "execution_count": 17
    }
   ],
   "source": [
    "cereal.isnull().sum()"
   ],
   "metadata": {
    "collapsed": false,
    "pycharm": {
     "name": "#%% \n",
     "is_executing": false
    }
   }
  },
  {
   "cell_type": "markdown",
   "source": [
    "##### There are 6 missing values in the Ratings column!\n",
    "\n",
    "###### Removing null data is only suggested if a small portion of the data is null. Since there are only 77 rows, we probably want to keep that data.\n",
    "###### However, to remove the rows with nulls, use this command:"
   ],
   "metadata": {
    "collapsed": false,
    "pycharm": {
     "name": "#%% md\n"
    }
   }
  },
  {
   "cell_type": "code",
   "execution_count": 18,
   "outputs": [
    {
     "data": {
      "text/plain": "NAME        0\nCALS        0\nPROTEIN     0\nFAT         0\nSODIUM      0\nFIBER       0\nCARBS       0\nSUGARS      0\nK           0\nVITAMINS    0\nWEIGHT      0\nCUPS        0\nRATING      0\ndtype: int64"
     },
     "metadata": {},
     "output_type": "execute_result",
     "execution_count": 18
    }
   ],
   "source": [
    "cereal_remove_rows = cereal.dropna()\n",
    "    \n",
    "cereal_remove_rows.isnull().sum()\n"
   ],
   "metadata": {
    "collapsed": false,
    "pycharm": {
     "name": "#%%\n",
     "is_executing": false
    }
   }
  },
  {
   "cell_type": "markdown",
   "source": [
    "###### To remove the columns with nulls, use this command:"
   ],
   "metadata": {
    "collapsed": false,
    "pycharm": {
     "name": "#%% md\n"
    }
   }
  },
  {
   "cell_type": "code",
   "execution_count": 19,
   "outputs": [
    {
     "data": {
      "text/plain": "NAME        0\nCALS        0\nPROTEIN     0\nFAT         0\nSODIUM      0\nFIBER       0\nCARBS       0\nSUGARS      0\nK           0\nVITAMINS    0\nWEIGHT      0\nCUPS        0\ndtype: int64"
     },
     "metadata": {},
     "output_type": "execute_result",
     "execution_count": 19
    }
   ],
   "source": [
    "cereal_remove_cols = cereal.dropna(axis=1)\n",
    "\n",
    "cereal_remove_cols.isnull().sum()"
   ],
   "metadata": {
    "collapsed": false,
    "pycharm": {
     "name": "#%%\n",
     "is_executing": false
    }
   }
  },
  {
   "cell_type": "markdown",
   "source": [
    "##### We can impute nulls with another value, usually the mean or the median of that column.\n",
    "###### First, we need to get the median or mean of the column with the null value(s)\n",
    "###### This begins with taking the column as a Series"
   ],
   "metadata": {
    "collapsed": false,
    "pycharm": {
     "name": "#%% md\n"
    }
   }
  },
  {
   "cell_type": "code",
   "execution_count": 20,
   "outputs": [
    {
     "data": {
      "text/plain": "0    68.402973\n1    33.983679\n2    59.425505\n3    93.704912\n4    34.384843\nName: RATING, dtype: float64"
     },
     "metadata": {},
     "output_type": "execute_result",
     "execution_count": 20
    }
   ],
   "source": [
    "ratings = cereal['RATING']\n",
    "ratings.head()"
   ],
   "metadata": {
    "collapsed": false,
    "pycharm": {
     "name": "#%%\n",
     "is_executing": false
    }
   }
  },
  {
   "cell_type": "code",
   "execution_count": 21,
   "outputs": [
    {
     "data": {
      "text/plain": "43.124629"
     },
     "metadata": {},
     "output_type": "execute_result",
     "execution_count": 21
    }
   ],
   "source": [
    "ratings_mean = ratings.mean()\n",
    "ratings_mean"
   ],
   "metadata": {
    "collapsed": false,
    "pycharm": {
     "name": "#%% \n",
     "is_executing": false
    }
   }
  },
  {
   "cell_type": "markdown",
   "source": [
    "##### We can see the nulls in the cereal column below for reference"
   ],
   "metadata": {
    "collapsed": false,
    "pycharm": {
     "name": "#%% md\n"
    }
   }
  },
  {
   "cell_type": "code",
   "execution_count": 22,
   "outputs": [
    {
     "data": {
      "text/plain": "NAME        0\nCALS        0\nPROTEIN     0\nFAT         0\nSODIUM      0\nFIBER       0\nCARBS       0\nSUGARS      0\nK           0\nVITAMINS    0\nWEIGHT      0\nCUPS        0\nRATING      6\ndtype: int64"
     },
     "metadata": {},
     "output_type": "execute_result",
     "execution_count": 22
    }
   ],
   "source": [
    "cereal.isnull().sum()"
   ],
   "metadata": {
    "collapsed": false,
    "pycharm": {
     "name": "#%%\n",
     "is_executing": false
    }
   }
  },
  {
   "cell_type": "markdown",
   "source": [
    "###### By using inplace=True, the fill occurs in the original cereal dataframe."
   ],
   "metadata": {
    "collapsed": false,
    "pycharm": {
     "name": "#%% md\n"
    }
   }
  },
  {
   "cell_type": "code",
   "execution_count": 23,
   "outputs": [
    {
     "data": {
      "text/plain": "NAME        0\nCALS        0\nPROTEIN     0\nFAT         0\nSODIUM      0\nFIBER       0\nCARBS       0\nSUGARS      0\nK           0\nVITAMINS    0\nWEIGHT      0\nCUPS        0\nRATING      0\ndtype: int64"
     },
     "metadata": {},
     "output_type": "execute_result",
     "execution_count": 23
    }
   ],
   "source": [
    "ratings.fillna(ratings_mean, inplace=True)\n",
    "\n",
    "cereal.isnull().sum()"
   ],
   "metadata": {
    "collapsed": false,
    "pycharm": {
     "name": "#%%\n",
     "is_executing": false
    }
   }
  },
  {
   "cell_type": "markdown",
   "source": [
    "#### Understanding Your Variables\n",
    "##### This is an important step before finding insights and creating visualizations"
   ],
   "metadata": {
    "collapsed": false,
    "pycharm": {
     "name": "#%% md\n"
    }
   }
  },
  {
   "cell_type": "code",
   "execution_count": 25,
   "outputs": [
    {
     "data": {
      "text/plain": "count                                    77\nunique                                   77\ntop       Muesli Raisins; Peaches; & Pecans\nfreq                                      1\nName: NAME, dtype: object"
     },
     "metadata": {},
     "output_type": "execute_result",
     "execution_count": 25
    }
   ],
   "source": [
    "names = cereal['NAME']\n",
    "names.describe()"
   ],
   "metadata": {
    "collapsed": false,
    "pycharm": {
     "name": "#%%\n",
     "is_executing": false
    }
   }
  },
  {
   "cell_type": "code",
   "execution_count": 26,
   "outputs": [
    {
     "data": {
      "text/plain": "Muesli Raisins; Peaches; & Pecans    1\nBran Chex                            1\nMueslix Crispy Blend                 1\nMuesli Raisins; Dates; & Almonds     1\nCheerios                             1\n                                    ..\nRaisin Bran                          1\nGreat Grains Pecan                   1\nPuffed Wheat                         1\nPost Nat. Raisin Bran                1\nMulti-Grain Cheerios                 1\nName: NAME, Length: 77, dtype: int64"
     },
     "metadata": {},
     "output_type": "execute_result",
     "execution_count": 26
    }
   ],
   "source": [
    "names.value_counts()"
   ],
   "metadata": {
    "collapsed": false,
    "pycharm": {
     "name": "#%%\n",
     "is_executing": false
    }
   }
  },
  {
   "cell_type": "markdown",
   "source": [
    "#### Finding Correlations in Your Data\n",
    "\n",
    "###### We can recall from statistics that correlations range [-1, 1]\n",
    "\n",
    "###### -1 means strong negative, 0 means no correlation, and 1 means strong positive"
   ],
   "metadata": {
    "collapsed": false,
    "pycharm": {
     "name": "#%% md\n"
    }
   }
  },
  {
   "cell_type": "code",
   "execution_count": null,
   "outputs": [],
   "source": [
    "cereal.corr()"
   ],
   "metadata": {
    "collapsed": false,
    "pycharm": {
     "name": "#%%\n"
    }
   }
  }
 ],
 "metadata": {
  "language_info": {
   "codemirror_mode": {
    "name": "ipython",
    "version": 2
   },
   "file_extension": ".py",
   "mimetype": "text/x-python",
   "name": "python",
   "nbconvert_exporter": "python",
   "pygments_lexer": "ipython2",
   "version": "2.7.6"
  },
  "kernelspec": {
   "name": "python3",
   "language": "python",
   "display_name": "Python 3"
  },
  "pycharm": {
   "stem_cell": {
    "cell_type": "raw",
    "source": [],
    "metadata": {
     "collapsed": false
    }
   }
  }
 },
 "nbformat": 4,
 "nbformat_minor": 0
}